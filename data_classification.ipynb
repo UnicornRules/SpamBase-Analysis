{
 "cells": [
  {
   "cell_type": "code",
   "execution_count": 8,
   "metadata": {},
   "outputs": [
    {
     "data": {
      "text/plain": [
       "'C:\\\\Users\\\\ZBook\\\\Desktop\\\\COURS 2020-2021\\\\S1\\\\Python for data analysis\\\\PROJET'"
      ]
     },
     "execution_count": 8,
     "metadata": {},
     "output_type": "execute_result"
    }
   ],
   "source": [
    "pwd"
   ]
  },
  {
   "cell_type": "code",
   "execution_count": 10,
   "metadata": {},
   "outputs": [],
   "source": [
    "import pandas as pd\n",
    "import numpy as np\n",
    "import seaborn as sns\n",
    "import matplotlib.pyplot as plt\n"
   ]
  },
  {
   "cell_type": "code",
   "execution_count": 11,
   "metadata": {},
   "outputs": [],
   "source": [
    "from sklearn.metrics import roc_auc_score, accuracy_score, precision_score, recall_score, f1_score\n",
    "from sklearn.linear_model import LogisticRegression\n",
    "from sklearn.tree import DecisionTreeClassifier\n",
    "from sklearn.svm import SVC\n",
    "from sklearn.ensemble import RandomForestClassifier\n",
    "from sklearn.discriminant_analysis import LinearDiscriminantAnalysis, QuadraticDiscriminantAnalysis\n",
    "from sklearn.cluster import KMeans\n",
    "from sklearn.neighbors import KNeighborsClassifier\n",
    "from sklearn.naive_bayes import GaussianNB\n",
    "from sklearn.metrics import precision_recall_fscore_support\n",
    "from sklearn.metrics import mean_squared_error as mse\n",
    "from sklearn.preprocessing import StandardScaler\n",
    "from sklearn.model_selection import cross_validate\n",
    "from sklearn.model_selection import train_test_split\n",
    "from sklearn.ensemble import ExtraTreesClassifier\n",
    "from sklearn.ensemble import GradientBoostingClassifier\n",
    "from sklearn.feature_selection import SelectFromModel\n",
    "from sklearn.svm import LinearSVC\n",
    "from sklearn.ensemble import VotingClassifier\n",
    "from sklearn.feature_selection import RFECV\n",
    "from sklearn.preprocessing import minmax_scale\n",
    "from sklearn.ensemble import AdaBoostClassifier\n",
    "from sklearn.metrics import classification_report\n",
    "from sklearn.model_selection import GridSearchCV"
   ]
  },
  {
   "cell_type": "code",
   "execution_count": 12,
   "metadata": {
    "scrolled": false
   },
   "outputs": [
    {
     "data": {
      "text/plain": [
       "Int64Index([ 0,  1,  2,  3,  4,  5,  6,  7,  8,  9, 10, 11, 12, 13, 14, 15, 16,\n",
       "            17, 18, 19, 20, 21, 22, 23, 24, 25, 26, 27, 28, 29, 30, 31, 32, 33,\n",
       "            34, 35, 36, 37, 38, 39, 40, 41, 42, 43, 44, 45, 46, 47, 48, 49, 50,\n",
       "            51, 52, 53, 54, 55, 56, 57],\n",
       "           dtype='int64')"
      ]
     },
     "execution_count": 12,
     "metadata": {},
     "output_type": "execute_result"
    }
   ],
   "source": [
    "df = pd.read_table(\"spambase.data\", sep =',', header=None)\n",
    "df.columns"
   ]
  },
  {
   "cell_type": "code",
   "execution_count": 13,
   "metadata": {
    "scrolled": true
   },
   "outputs": [
    {
     "name": "stdout",
     "output_type": "stream",
     "text": [
      "[[29, 30, 31, 33, 35, 39], [30, 31, 33, 35, 39], [31, 33, 35, 39], [33, 35, 39], [35, 39]]\n",
      "0\n",
      "-0.1710945875470931\n",
      "29\n",
      "1\n",
      "-0.12691215770486758\n",
      "30\n",
      "2\n",
      "-0.11421403277162036\n",
      "31\n",
      "3\n",
      "-0.11275418527473718\n",
      "33\n",
      "4\n",
      "-0.13613420484604244\n",
      "35\n",
      "5\n",
      "-0.06480120227696293\n",
      "39\n"
     ]
    }
   ],
   "source": [
    "#Let's work on data correlation\n",
    "\n",
    "correlation = df.corr().to_numpy()\n",
    "\n",
    "l = len(correlation)\n",
    "\n",
    "def listcor(cor,seuil):                #donne la liste des elements très corrélés entre eux\n",
    "    list_cor = []\n",
    "    for i in range(l):\n",
    "        for j in range(i+1,l):\n",
    "            if cor[i,j]> seuil:\n",
    "                list_cor+=[[i,j]]\n",
    "    return(list_cor)\n",
    "\n",
    "def list_correlated(data,seuil):\n",
    "    list_elem = []\n",
    "    cpt = -1\n",
    "    ref = 0\n",
    "    correlation = data.corr().to_numpy()\n",
    "    list_corr=listcor(correlation,seuil)\n",
    "    for elem in list_corr :\n",
    "        if elem[0] != ref :\n",
    "            ref = elem[0]\n",
    "            list_elem.append([elem[0]])\n",
    "            cpt+=1\n",
    "            list_elem[cpt].append(elem[1])              \n",
    "        else :\n",
    "            list_elem[cpt].append(elem[1])   #on a la liste des elements corrélés entre eux par \"paquets\"\n",
    "    return(list_elem)\n",
    "            \n",
    "a = list_correlated(df,0.6)\n",
    "print(a)\n",
    "for i in range(len(a[0])):\n",
    "    print(i)\n",
    "    b = df[a[0][i]].corr(df[57])\n",
    "    print(b)\n",
    "    print(a[0][i])\n",
    "    \n",
    "\n",
    "# ces features ont de toute facon une très faible corrélation avec la prediction de spam, on les retirera donc au préalable dans \n",
    "# une des versions testées ci-après\n",
    "\n"
   ]
  },
  {
   "cell_type": "code",
   "execution_count": 14,
   "metadata": {
    "scrolled": true
   },
   "outputs": [
    {
     "data": {
      "text/plain": [
       "{0: 0.1262075747276322,\n",
       " 1: -0.030223579212021543,\n",
       " 2: 0.1969879726831455,\n",
       " 3: 0.05737138961858829,\n",
       " 4: 0.2419204377148765,\n",
       " 5: 0.232604300172187,\n",
       " 6: 0.3321174156141586,\n",
       " 7: 0.20680847576170805,\n",
       " 8: 0.23155143128601532,\n",
       " 9: 0.13896211329514088,\n",
       " 10: 0.23452927138249544,\n",
       " 11: 0.007740737297956368,\n",
       " 12: 0.13292672586847548,\n",
       " 13: 0.060027316399873264,\n",
       " 14: 0.19590245671258405,\n",
       " 15: 0.26321469903669603,\n",
       " 16: 0.2632039828223917,\n",
       " 17: 0.20420813879714014,\n",
       " 18: 0.2736512865572106,\n",
       " 19: 0.1897611485080607,\n",
       " 20: 0.3832338192835756,\n",
       " 21: 0.09186009631515232,\n",
       " 22: 0.3347870388457389,\n",
       " 23: 0.21611098224724426,\n",
       " 24: -0.2567229163126616,\n",
       " 25: -0.23296768680660979,\n",
       " 26: -0.1834040051933605,\n",
       " 27: -0.15880024911827956,\n",
       " 28: -0.13352318779632708,\n",
       " 29: -0.1710945875471117,\n",
       " 30: -0.1269121577048615,\n",
       " 31: -0.11421403277162386,\n",
       " 32: -0.11993101263694417,\n",
       " 33: -0.11275418527472239,\n",
       " 34: -0.14922521446054307,\n",
       " 35: -0.13613420484603733,\n",
       " 36: -0.17804545978118416,\n",
       " 37: -0.03103528941229571,\n",
       " 38: -0.12283065400904399,\n",
       " 39: -0.06480120227695867,\n",
       " 40: -0.09737483208339674,\n",
       " 41: -0.13661537156641534,\n",
       " 42: -0.13566428089524346,\n",
       " 43: -0.09459404198218023,\n",
       " 44: -0.14040846452155356,\n",
       " 45: -0.1461381860642688,\n",
       " 46: -0.044678563084814875,\n",
       " 47: -0.08401980167055988,\n",
       " 48: -0.05962966689696018,\n",
       " 49: -0.08967198136960924,\n",
       " 50: -0.06470933654508174,\n",
       " 51: 0.24188836701122152,\n",
       " 52: 0.3236288064980446,\n",
       " 53: 0.06506672853837846,\n",
       " 54: 0.10999914323015575,\n",
       " 55: 0.21609669406935564,\n",
       " 56: 0.24916412436334212,\n",
       " 57: 1.0}"
      ]
     },
     "execution_count": 14,
     "metadata": {},
     "output_type": "execute_result"
    }
   ],
   "source": [
    "dict_1={}\n",
    "\n",
    "dict_1=dict(df.corr()[57])\n",
    "dict_1"
   ]
  },
  {
   "cell_type": "code",
   "execution_count": 15,
   "metadata": {
    "scrolled": true
   },
   "outputs": [
    {
     "data": {
      "text/plain": [
       "[0,\n",
       " 1,\n",
       " 3,\n",
       " 9,\n",
       " 11,\n",
       " 12,\n",
       " 13,\n",
       " 21,\n",
       " 28,\n",
       " 30,\n",
       " 31,\n",
       " 32,\n",
       " 33,\n",
       " 34,\n",
       " 35,\n",
       " 37,\n",
       " 38,\n",
       " 39,\n",
       " 40,\n",
       " 41,\n",
       " 42,\n",
       " 43,\n",
       " 44,\n",
       " 45,\n",
       " 46,\n",
       " 47,\n",
       " 48,\n",
       " 49,\n",
       " 50,\n",
       " 53,\n",
       " 54]"
      ]
     },
     "execution_count": 15,
     "metadata": {},
     "output_type": "execute_result"
    }
   ],
   "source": [
    "list_features=[]    #on recupere la liste des elements peu corrélés avec la variable a predire, on note qu'ils sont presques tous très peu corrélés\n",
    "for key,values in dict_1.items():    \n",
    "    if abs(values)<0.15:\n",
    "        list_features.append(key)\n",
    "list_features"
   ]
  },
  {
   "cell_type": "code",
   "execution_count": 16,
   "metadata": {},
   "outputs": [],
   "source": [
    "y = df[np.shape(df)[1]-1]\n",
    "x= df.drop([np.shape(df)[1]-1],axis = 1)"
   ]
  },
  {
   "cell_type": "markdown",
   "metadata": {},
   "source": [
    "### x et y sans preprocessing"
   ]
  },
  {
   "cell_type": "code",
   "execution_count": 18,
   "metadata": {},
   "outputs": [],
   "source": [
    "from sklearn.model_selection import train_test_split\n",
    "\n",
    "x_train,x_test,y_train,y_test=train_test_split(x,y,random_state=0,test_size=0.3)"
   ]
  },
  {
   "cell_type": "code",
   "execution_count": 19,
   "metadata": {},
   "outputs": [],
   "source": [
    "LR = LogisticRegression(max_iter=10000)\n",
    "\n",
    "scoring = ['accuracy', 'precision_macro', 'recall_macro' , 'f1_weighted', 'roc_auc']\n",
    "scores = cross_validate(LR, x_train, y_train, scoring=scoring, cv=20)\n",
    "\n",
    "sorted(scores.keys())\n",
    "LR_fit_time = scores['fit_time'].mean()\n",
    "LR_score_time = scores['score_time'].mean()\n",
    "LR_accuracy = scores['test_accuracy'].mean()\n",
    "LR_precision = scores['test_precision_macro'].mean()\n",
    "LR_recall = scores['test_recall_macro'].mean()\n",
    "LR_f1 = scores['test_f1_weighted'].mean()\n",
    "LR_roc = scores['test_roc_auc'].mean()"
   ]
  },
  {
   "cell_type": "code",
   "execution_count": 20,
   "metadata": {},
   "outputs": [],
   "source": [
    "decision_tree = DecisionTreeClassifier()\n",
    "\n",
    "scoring = ['accuracy', 'precision_macro', 'recall_macro' , 'f1_weighted', 'roc_auc']\n",
    "scores = cross_validate(decision_tree, x_train, y_train, scoring=scoring, cv=20)\n",
    "\n",
    "sorted(scores.keys())\n",
    "dtree_fit_time = scores['fit_time'].mean()\n",
    "dtree_score_time = scores['score_time'].mean()\n",
    "dtree_accuracy = scores['test_accuracy'].mean()\n",
    "dtree_precision = scores['test_precision_macro'].mean()\n",
    "dtree_recall = scores['test_recall_macro'].mean()\n",
    "dtree_f1 = scores['test_f1_weighted'].mean()\n",
    "dtree_roc = scores['test_roc_auc'].mean()"
   ]
  },
  {
   "cell_type": "code",
   "execution_count": 21,
   "metadata": {},
   "outputs": [],
   "source": [
    "SVM = SVC(probability = True)\n",
    "\n",
    "scoring = ['accuracy','precision_macro', 'recall_macro' , 'f1_weighted', 'roc_auc']\n",
    "scores = cross_validate(SVM, x_train, y_train, scoring=scoring, cv=20)\n",
    "\n",
    "sorted(scores.keys())\n",
    "SVM_fit_time = scores['fit_time'].mean()\n",
    "SVM_score_time = scores['score_time'].mean()\n",
    "SVM_accuracy = scores['test_accuracy'].mean()\n",
    "SVM_precision = scores['test_precision_macro'].mean()\n",
    "SVM_recall = scores['test_recall_macro'].mean()\n",
    "SVM_f1 = scores['test_f1_weighted'].mean()\n",
    "SVM_roc = scores['test_roc_auc'].mean()"
   ]
  },
  {
   "cell_type": "code",
   "execution_count": 22,
   "metadata": {},
   "outputs": [],
   "source": [
    "LDA = LinearDiscriminantAnalysis()\n",
    "\n",
    "scoring = ['accuracy', 'precision_macro', 'recall_macro' , 'f1_weighted', 'roc_auc']\n",
    "scores = cross_validate(LDA, x_train, y_train, scoring=scoring, cv=20)\n",
    "\n",
    "sorted(scores.keys())\n",
    "LDA_fit_time = scores['fit_time'].mean()\n",
    "LDA_score_time = scores['score_time'].mean()\n",
    "LDA_accuracy = scores['test_accuracy'].mean()\n",
    "LDA_precision = scores['test_precision_macro'].mean()\n",
    "LDA_recall = scores['test_recall_macro'].mean()\n",
    "LDA_f1 = scores['test_f1_weighted'].mean()\n",
    "LDA_roc = scores['test_roc_auc'].mean()"
   ]
  },
  {
   "cell_type": "code",
   "execution_count": 23,
   "metadata": {},
   "outputs": [
    {
     "name": "stderr",
     "output_type": "stream",
     "text": [
      "C:\\Users\\ZBook\\anaconda3\\lib\\site-packages\\sklearn\\discriminant_analysis.py:715: UserWarning: Variables are collinear\n",
      "  warnings.warn(\"Variables are collinear\")\n",
      "C:\\Users\\ZBook\\anaconda3\\lib\\site-packages\\sklearn\\discriminant_analysis.py:715: UserWarning: Variables are collinear\n",
      "  warnings.warn(\"Variables are collinear\")\n",
      "C:\\Users\\ZBook\\anaconda3\\lib\\site-packages\\sklearn\\discriminant_analysis.py:715: UserWarning: Variables are collinear\n",
      "  warnings.warn(\"Variables are collinear\")\n",
      "C:\\Users\\ZBook\\anaconda3\\lib\\site-packages\\sklearn\\discriminant_analysis.py:715: UserWarning: Variables are collinear\n",
      "  warnings.warn(\"Variables are collinear\")\n",
      "C:\\Users\\ZBook\\anaconda3\\lib\\site-packages\\sklearn\\discriminant_analysis.py:715: UserWarning: Variables are collinear\n",
      "  warnings.warn(\"Variables are collinear\")\n",
      "C:\\Users\\ZBook\\anaconda3\\lib\\site-packages\\sklearn\\discriminant_analysis.py:715: UserWarning: Variables are collinear\n",
      "  warnings.warn(\"Variables are collinear\")\n",
      "C:\\Users\\ZBook\\anaconda3\\lib\\site-packages\\sklearn\\discriminant_analysis.py:715: UserWarning: Variables are collinear\n",
      "  warnings.warn(\"Variables are collinear\")\n",
      "C:\\Users\\ZBook\\anaconda3\\lib\\site-packages\\sklearn\\discriminant_analysis.py:715: UserWarning: Variables are collinear\n",
      "  warnings.warn(\"Variables are collinear\")\n",
      "C:\\Users\\ZBook\\anaconda3\\lib\\site-packages\\sklearn\\discriminant_analysis.py:715: UserWarning: Variables are collinear\n",
      "  warnings.warn(\"Variables are collinear\")\n",
      "C:\\Users\\ZBook\\anaconda3\\lib\\site-packages\\sklearn\\discriminant_analysis.py:715: UserWarning: Variables are collinear\n",
      "  warnings.warn(\"Variables are collinear\")\n",
      "C:\\Users\\ZBook\\anaconda3\\lib\\site-packages\\sklearn\\discriminant_analysis.py:715: UserWarning: Variables are collinear\n",
      "  warnings.warn(\"Variables are collinear\")\n",
      "C:\\Users\\ZBook\\anaconda3\\lib\\site-packages\\sklearn\\discriminant_analysis.py:715: UserWarning: Variables are collinear\n",
      "  warnings.warn(\"Variables are collinear\")\n",
      "C:\\Users\\ZBook\\anaconda3\\lib\\site-packages\\sklearn\\discriminant_analysis.py:715: UserWarning: Variables are collinear\n",
      "  warnings.warn(\"Variables are collinear\")\n",
      "C:\\Users\\ZBook\\anaconda3\\lib\\site-packages\\sklearn\\discriminant_analysis.py:715: UserWarning: Variables are collinear\n",
      "  warnings.warn(\"Variables are collinear\")\n",
      "C:\\Users\\ZBook\\anaconda3\\lib\\site-packages\\sklearn\\discriminant_analysis.py:715: UserWarning: Variables are collinear\n",
      "  warnings.warn(\"Variables are collinear\")\n",
      "C:\\Users\\ZBook\\anaconda3\\lib\\site-packages\\sklearn\\discriminant_analysis.py:715: UserWarning: Variables are collinear\n",
      "  warnings.warn(\"Variables are collinear\")\n",
      "C:\\Users\\ZBook\\anaconda3\\lib\\site-packages\\sklearn\\discriminant_analysis.py:715: UserWarning: Variables are collinear\n",
      "  warnings.warn(\"Variables are collinear\")\n",
      "C:\\Users\\ZBook\\anaconda3\\lib\\site-packages\\sklearn\\discriminant_analysis.py:715: UserWarning: Variables are collinear\n",
      "  warnings.warn(\"Variables are collinear\")\n",
      "C:\\Users\\ZBook\\anaconda3\\lib\\site-packages\\sklearn\\discriminant_analysis.py:715: UserWarning: Variables are collinear\n",
      "  warnings.warn(\"Variables are collinear\")\n",
      "C:\\Users\\ZBook\\anaconda3\\lib\\site-packages\\sklearn\\discriminant_analysis.py:715: UserWarning: Variables are collinear\n",
      "  warnings.warn(\"Variables are collinear\")\n"
     ]
    }
   ],
   "source": [
    "QDA = QuadraticDiscriminantAnalysis()\n",
    "\n",
    "scoring = ['accuracy', 'precision_macro', 'recall_macro' , 'f1_weighted', 'roc_auc']\n",
    "scores = cross_validate(QDA, x_train, y_train, scoring=scoring, cv=20)\n",
    "\n",
    "sorted(scores.keys())\n",
    "QDA_fit_time = scores['fit_time'].mean()\n",
    "QDA_score_time = scores['score_time'].mean()\n",
    "QDA_accuracy = scores['test_accuracy'].mean()\n",
    "QDA_precision = scores['test_precision_macro'].mean()\n",
    "QDA_recall = scores['test_recall_macro'].mean()\n",
    "QDA_f1 = scores['test_f1_weighted'].mean()\n",
    "QDA_roc = scores['test_roc_auc'].mean()"
   ]
  },
  {
   "cell_type": "code",
   "execution_count": 24,
   "metadata": {},
   "outputs": [],
   "source": [
    "random_forest = RandomForestClassifier()\n",
    "\n",
    "scoring = ['accuracy', 'precision_macro', 'recall_macro' , 'f1_weighted', 'roc_auc']\n",
    "scores = cross_validate(random_forest, x_train, y_train, scoring=scoring, cv=20)\n",
    "\n",
    "sorted(scores.keys())\n",
    "forest_fit_time = scores['fit_time'].mean()\n",
    "forest_score_time = scores['score_time'].mean()\n",
    "forest_accuracy = scores['test_accuracy'].mean()\n",
    "forest_precision = scores['test_precision_macro'].mean()\n",
    "forest_recall = scores['test_recall_macro'].mean()\n",
    "forest_f1 = scores['test_f1_weighted'].mean()\n",
    "forest_roc = scores['test_roc_auc'].mean()"
   ]
  },
  {
   "cell_type": "code",
   "execution_count": 25,
   "metadata": {},
   "outputs": [],
   "source": [
    "KNN = KNeighborsClassifier()\n",
    "\n",
    "scoring = ['accuracy', 'precision_macro', 'recall_macro' , 'f1_weighted', 'roc_auc']\n",
    "scores = cross_validate(KNN, x_train, y_train, scoring=scoring, cv=20)\n",
    "\n",
    "sorted(scores.keys())\n",
    "KNN_fit_time = scores['fit_time'].mean()\n",
    "KNN_score_time = scores['score_time'].mean()\n",
    "KNN_accuracy = scores['test_accuracy'].mean()\n",
    "KNN_precision = scores['test_precision_macro'].mean()\n",
    "KNN_recall = scores['test_recall_macro'].mean()\n",
    "KNN_f1 = scores['test_f1_weighted'].mean()\n",
    "KNN_roc = scores['test_roc_auc'].mean()"
   ]
  },
  {
   "cell_type": "code",
   "execution_count": 26,
   "metadata": {},
   "outputs": [],
   "source": [
    "bayes = GaussianNB()\n",
    "\n",
    "scoring = ['accuracy', 'precision_macro', 'recall_macro' , 'f1_weighted', 'roc_auc']\n",
    "scores = cross_validate(bayes, x_train, y_train, scoring=scoring, cv=20)\n",
    "\n",
    "sorted(scores.keys())\n",
    "bayes_fit_time = scores['fit_time'].mean()\n",
    "bayes_score_time = scores['score_time'].mean()\n",
    "bayes_accuracy = scores['test_accuracy'].mean()\n",
    "bayes_precision = scores['test_precision_macro'].mean()\n",
    "bayes_recall = scores['test_recall_macro'].mean()\n",
    "bayes_f1 = scores['test_f1_weighted'].mean()\n",
    "bayes_roc = scores['test_roc_auc'].mean()"
   ]
  },
  {
   "cell_type": "code",
   "execution_count": 27,
   "metadata": {},
   "outputs": [],
   "source": [
    "GB = GradientBoostingClassifier()\n",
    "\n",
    "scoring = ['accuracy', 'precision_macro', 'recall_macro' , 'f1_weighted', 'roc_auc']\n",
    "scores = cross_validate(GB, x_train, y_train, scoring=scoring, cv=20)\n",
    "\n",
    "sorted(scores.keys())\n",
    "gb_fit_time = scores['fit_time'].mean()\n",
    "gb_score_time = scores['score_time'].mean()\n",
    "gb_accuracy = scores['test_accuracy'].mean()\n",
    "gb_precision = scores['test_precision_macro'].mean()\n",
    "gb_recall = scores['test_recall_macro'].mean()\n",
    "gb_f1 = scores['test_f1_weighted'].mean()\n",
    "gb_roc = scores['test_roc_auc'].mean()\n"
   ]
  },
  {
   "cell_type": "code",
   "execution_count": 28,
   "metadata": {},
   "outputs": [],
   "source": [
    "AB = AdaBoostClassifier()\n",
    "\n",
    "scoring = ['accuracy', 'precision_macro', 'recall_macro' , 'f1_weighted', 'roc_auc']\n",
    "scores = cross_validate(AB, x_train, y_train, scoring=scoring, cv=20)\n",
    "\n",
    "sorted(scores.keys())\n",
    "ab_fit_time = scores['fit_time'].mean()\n",
    "ab_score_time = scores['score_time'].mean()\n",
    "ab_accuracy = scores['test_accuracy'].mean()\n",
    "ab_precision = scores['test_precision_macro'].mean()\n",
    "ab_recall = scores['test_recall_macro'].mean()\n",
    "ab_f1 = scores['test_f1_weighted'].mean()\n",
    "ab_roc = scores['test_roc_auc'].mean()\n",
    "\n"
   ]
  },
  {
   "cell_type": "code",
   "execution_count": 29,
   "metadata": {
    "scrolled": false
   },
   "outputs": [
    {
     "data": {
      "text/html": [
       "<div>\n",
       "<style scoped>\n",
       "    .dataframe tbody tr th:only-of-type {\n",
       "        vertical-align: middle;\n",
       "    }\n",
       "\n",
       "    .dataframe tbody tr th {\n",
       "        vertical-align: top;\n",
       "    }\n",
       "\n",
       "    .dataframe thead th {\n",
       "        text-align: right;\n",
       "    }\n",
       "</style>\n",
       "<table border=\"1\" class=\"dataframe\">\n",
       "  <thead>\n",
       "    <tr style=\"text-align: right;\">\n",
       "      <th></th>\n",
       "      <th>Model</th>\n",
       "      <th>Fitting time</th>\n",
       "      <th>Scoring time</th>\n",
       "      <th>Accuracy</th>\n",
       "      <th>Precision</th>\n",
       "      <th>Recall</th>\n",
       "      <th>F1_score</th>\n",
       "      <th>AUC_ROC</th>\n",
       "    </tr>\n",
       "  </thead>\n",
       "  <tbody>\n",
       "    <tr>\n",
       "      <th>5</th>\n",
       "      <td>Random Forest</td>\n",
       "      <td>0.992928</td>\n",
       "      <td>0.058778</td>\n",
       "      <td>0.953106</td>\n",
       "      <td>0.953631</td>\n",
       "      <td>0.948216</td>\n",
       "      <td>0.952955</td>\n",
       "      <td>0.984245</td>\n",
       "    </tr>\n",
       "    <tr>\n",
       "      <th>8</th>\n",
       "      <td>Gradient Boosting</td>\n",
       "      <td>2.295435</td>\n",
       "      <td>0.018560</td>\n",
       "      <td>0.948447</td>\n",
       "      <td>0.948254</td>\n",
       "      <td>0.943648</td>\n",
       "      <td>0.948299</td>\n",
       "      <td>0.985290</td>\n",
       "    </tr>\n",
       "    <tr>\n",
       "      <th>9</th>\n",
       "      <td>Adaptative Boosting</td>\n",
       "      <td>0.507737</td>\n",
       "      <td>0.041629</td>\n",
       "      <td>0.946584</td>\n",
       "      <td>0.944953</td>\n",
       "      <td>0.942963</td>\n",
       "      <td>0.946536</td>\n",
       "      <td>0.983374</td>\n",
       "    </tr>\n",
       "    <tr>\n",
       "      <th>0</th>\n",
       "      <td>Logistic Regression</td>\n",
       "      <td>1.786466</td>\n",
       "      <td>0.022088</td>\n",
       "      <td>0.931677</td>\n",
       "      <td>0.931505</td>\n",
       "      <td>0.925262</td>\n",
       "      <td>0.931458</td>\n",
       "      <td>0.973868</td>\n",
       "    </tr>\n",
       "    <tr>\n",
       "      <th>1</th>\n",
       "      <td>Decision Tree</td>\n",
       "      <td>0.149801</td>\n",
       "      <td>0.018211</td>\n",
       "      <td>0.912422</td>\n",
       "      <td>0.908309</td>\n",
       "      <td>0.907807</td>\n",
       "      <td>0.912349</td>\n",
       "      <td>0.907807</td>\n",
       "    </tr>\n",
       "    <tr>\n",
       "      <th>3</th>\n",
       "      <td>Linear Discriminant Analysis</td>\n",
       "      <td>0.071625</td>\n",
       "      <td>0.019741</td>\n",
       "      <td>0.885404</td>\n",
       "      <td>0.894320</td>\n",
       "      <td>0.865712</td>\n",
       "      <td>0.883186</td>\n",
       "      <td>0.950616</td>\n",
       "    </tr>\n",
       "    <tr>\n",
       "      <th>7</th>\n",
       "      <td>Bayes</td>\n",
       "      <td>0.016464</td>\n",
       "      <td>0.021062</td>\n",
       "      <td>0.827950</td>\n",
       "      <td>0.836301</td>\n",
       "      <td>0.851723</td>\n",
       "      <td>0.829793</td>\n",
       "      <td>0.946415</td>\n",
       "    </tr>\n",
       "    <tr>\n",
       "      <th>4</th>\n",
       "      <td>Quadratic Discriminant Analysis</td>\n",
       "      <td>0.025401</td>\n",
       "      <td>0.021484</td>\n",
       "      <td>0.815528</td>\n",
       "      <td>0.828287</td>\n",
       "      <td>0.841833</td>\n",
       "      <td>0.817289</td>\n",
       "      <td>0.952514</td>\n",
       "    </tr>\n",
       "    <tr>\n",
       "      <th>6</th>\n",
       "      <td>K-Nearest Neighbors</td>\n",
       "      <td>0.089474</td>\n",
       "      <td>0.050587</td>\n",
       "      <td>0.795031</td>\n",
       "      <td>0.785475</td>\n",
       "      <td>0.783277</td>\n",
       "      <td>0.794643</td>\n",
       "      <td>0.858521</td>\n",
       "    </tr>\n",
       "    <tr>\n",
       "      <th>2</th>\n",
       "      <td>Support Vector Machine</td>\n",
       "      <td>5.663136</td>\n",
       "      <td>0.104894</td>\n",
       "      <td>0.708385</td>\n",
       "      <td>0.707495</td>\n",
       "      <td>0.658313</td>\n",
       "      <td>0.688702</td>\n",
       "      <td>0.802672</td>\n",
       "    </tr>\n",
       "  </tbody>\n",
       "</table>\n",
       "</div>"
      ],
      "text/plain": [
       "                             Model  Fitting time  Scoring time  Accuracy  \\\n",
       "5                    Random Forest      0.992928      0.058778  0.953106   \n",
       "8                Gradient Boosting      2.295435      0.018560  0.948447   \n",
       "9              Adaptative Boosting      0.507737      0.041629  0.946584   \n",
       "0              Logistic Regression      1.786466      0.022088  0.931677   \n",
       "1                    Decision Tree      0.149801      0.018211  0.912422   \n",
       "3     Linear Discriminant Analysis      0.071625      0.019741  0.885404   \n",
       "7                            Bayes      0.016464      0.021062  0.827950   \n",
       "4  Quadratic Discriminant Analysis      0.025401      0.021484  0.815528   \n",
       "6              K-Nearest Neighbors      0.089474      0.050587  0.795031   \n",
       "2           Support Vector Machine      5.663136      0.104894  0.708385   \n",
       "\n",
       "   Precision    Recall  F1_score   AUC_ROC  \n",
       "5   0.953631  0.948216  0.952955  0.984245  \n",
       "8   0.948254  0.943648  0.948299  0.985290  \n",
       "9   0.944953  0.942963  0.946536  0.983374  \n",
       "0   0.931505  0.925262  0.931458  0.973868  \n",
       "1   0.908309  0.907807  0.912349  0.907807  \n",
       "3   0.894320  0.865712  0.883186  0.950616  \n",
       "7   0.836301  0.851723  0.829793  0.946415  \n",
       "4   0.828287  0.841833  0.817289  0.952514  \n",
       "6   0.785475  0.783277  0.794643  0.858521  \n",
       "2   0.707495  0.658313  0.688702  0.802672  "
      ]
     },
     "execution_count": 29,
     "metadata": {},
     "output_type": "execute_result"
    }
   ],
   "source": [
    "models_initial = pd.DataFrame({\n",
    "    'Model'       : ['Logistic Regression', 'Decision Tree', 'Support Vector Machine', 'Linear Discriminant Analysis', 'Quadratic Discriminant Analysis', 'Random Forest', 'K-Nearest Neighbors', 'Bayes','Gradient Boosting','Adaptative Boosting'],\n",
    "    'Fitting time': [LR_fit_time, dtree_fit_time, SVM_fit_time, LDA_fit_time, QDA_fit_time, forest_fit_time, KNN_fit_time, bayes_fit_time,gb_fit_time,ab_fit_time],\n",
    "    'Scoring time': [LR_score_time, dtree_score_time, SVM_score_time, LDA_score_time, QDA_score_time, forest_score_time, KNN_score_time, bayes_score_time,gb_score_time,ab_score_time],\n",
    "    'Accuracy'    : [LR_accuracy, dtree_accuracy, SVM_accuracy, LDA_accuracy, QDA_accuracy, forest_accuracy, KNN_accuracy, bayes_accuracy,gb_accuracy,ab_accuracy],\n",
    "    'Precision'   : [LR_precision, dtree_precision, SVM_precision, LDA_precision, QDA_precision, forest_precision, KNN_precision, bayes_precision,gb_precision,ab_precision],\n",
    "    'Recall'      : [LR_recall, dtree_recall, SVM_recall, LDA_recall, QDA_recall, forest_recall, KNN_recall, bayes_recall,gb_recall,ab_recall],\n",
    "    'F1_score'    : [LR_f1, dtree_f1, SVM_f1, LDA_f1, QDA_f1, forest_f1, KNN_f1, bayes_f1,gb_f1,ab_f1],\n",
    "    'AUC_ROC'     : [LR_roc, dtree_roc, SVM_roc, LDA_roc, QDA_roc, forest_roc, KNN_roc, bayes_roc,gb_roc,ab_roc],\n",
    "    }, columns = ['Model', 'Fitting time', 'Scoring time', 'Accuracy', 'Precision', 'Recall', 'F1_score', 'AUC_ROC'])\n",
    "\n",
    "models_initial.sort_values(by='Precision', ascending=False)"
   ]
  },
  {
   "cell_type": "markdown",
   "metadata": {},
   "source": [
    "### x et y without low-correlation variables"
   ]
  },
  {
   "cell_type": "code",
   "execution_count": 30,
   "metadata": {},
   "outputs": [],
   "source": [
    "df_corr = df\n",
    "for i in list_features :\n",
    "    df_corr=df_corr.drop(columns = i)\n",
    "print(df_corr)\n",
    "\n",
    "y_corr = df_corr[57]\n",
    "x_corr= df_corr.drop([57],axis = 1)    "
   ]
  },
  {
   "cell_type": "code",
   "execution_count": 32,
   "metadata": {},
   "outputs": [],
   "source": [
    "from sklearn.model_selection import train_test_split\n",
    "\n",
    "x_train,x_test,y_train,y_test=train_test_split(x_corr,y_corr,random_state=0,test_size=0.3)"
   ]
  },
  {
   "cell_type": "code",
   "execution_count": 33,
   "metadata": {},
   "outputs": [],
   "source": [
    "LR = LogisticRegression(max_iter=10000)\n",
    "\n",
    "scoring = ['accuracy', 'precision_macro', 'recall_macro' , 'f1_weighted', 'roc_auc']\n",
    "scores = cross_validate(LR, x_train, y_train, scoring=scoring, cv=20)\n",
    "\n",
    "sorted(scores.keys())\n",
    "LR_fit_time = scores['fit_time'].mean()\n",
    "LR_score_time = scores['score_time'].mean()\n",
    "LR_accuracy = scores['test_accuracy'].mean()\n",
    "LR_precision = scores['test_precision_macro'].mean()\n",
    "LR_recall = scores['test_recall_macro'].mean()\n",
    "LR_f1 = scores['test_f1_weighted'].mean()\n",
    "LR_roc = scores['test_roc_auc'].mean()"
   ]
  },
  {
   "cell_type": "code",
   "execution_count": 34,
   "metadata": {},
   "outputs": [],
   "source": [
    "decision_tree = DecisionTreeClassifier()\n",
    "\n",
    "scoring = ['accuracy', 'precision_macro', 'recall_macro' , 'f1_weighted', 'roc_auc']\n",
    "scores = cross_validate(decision_tree, x_train, y_train, scoring=scoring, cv=20)\n",
    "\n",
    "sorted(scores.keys())\n",
    "dtree_fit_time = scores['fit_time'].mean()\n",
    "dtree_score_time = scores['score_time'].mean()\n",
    "dtree_accuracy = scores['test_accuracy'].mean()\n",
    "dtree_precision = scores['test_precision_macro'].mean()\n",
    "dtree_recall = scores['test_recall_macro'].mean()\n",
    "dtree_f1 = scores['test_f1_weighted'].mean()\n",
    "dtree_roc = scores['test_roc_auc'].mean()"
   ]
  },
  {
   "cell_type": "code",
   "execution_count": 35,
   "metadata": {},
   "outputs": [],
   "source": [
    "SVM = SVC(probability = True)\n",
    "\n",
    "scoring = ['accuracy','precision_macro', 'recall_macro' , 'f1_weighted', 'roc_auc']\n",
    "scores = cross_validate(SVM, x_train, y_train, scoring=scoring, cv=20)\n",
    "\n",
    "sorted(scores.keys())\n",
    "SVM_fit_time = scores['fit_time'].mean()\n",
    "SVM_score_time = scores['score_time'].mean()\n",
    "SVM_accuracy = scores['test_accuracy'].mean()\n",
    "SVM_precision = scores['test_precision_macro'].mean()\n",
    "SVM_recall = scores['test_recall_macro'].mean()\n",
    "SVM_f1 = scores['test_f1_weighted'].mean()\n",
    "SVM_roc = scores['test_roc_auc'].mean()"
   ]
  },
  {
   "cell_type": "code",
   "execution_count": 36,
   "metadata": {},
   "outputs": [],
   "source": [
    "LDA = LinearDiscriminantAnalysis()\n",
    "\n",
    "scoring = ['accuracy', 'precision_macro', 'recall_macro' , 'f1_weighted', 'roc_auc']\n",
    "scores = cross_validate(LDA, x_train, y_train, scoring=scoring, cv=20)\n",
    "\n",
    "sorted(scores.keys())\n",
    "LDA_fit_time = scores['fit_time'].mean()\n",
    "LDA_score_time = scores['score_time'].mean()\n",
    "LDA_accuracy = scores['test_accuracy'].mean()\n",
    "LDA_precision = scores['test_precision_macro'].mean()\n",
    "LDA_recall = scores['test_recall_macro'].mean()\n",
    "LDA_f1 = scores['test_f1_weighted'].mean()\n",
    "LDA_roc = scores['test_roc_auc'].mean()"
   ]
  },
  {
   "cell_type": "code",
   "execution_count": 37,
   "metadata": {},
   "outputs": [],
   "source": [
    "QDA = QuadraticDiscriminantAnalysis()\n",
    "\n",
    "scoring = ['accuracy', 'precision_macro', 'recall_macro' , 'f1_weighted', 'roc_auc']\n",
    "scores = cross_validate(QDA, x_train, y_train, scoring=scoring, cv=20)\n",
    "\n",
    "sorted(scores.keys())\n",
    "QDA_fit_time = scores['fit_time'].mean()\n",
    "QDA_score_time = scores['score_time'].mean()\n",
    "QDA_accuracy = scores['test_accuracy'].mean()\n",
    "QDA_precision = scores['test_precision_macro'].mean()\n",
    "QDA_recall = scores['test_recall_macro'].mean()\n",
    "QDA_f1 = scores['test_f1_weighted'].mean()\n",
    "QDA_roc = scores['test_roc_auc'].mean()"
   ]
  },
  {
   "cell_type": "code",
   "execution_count": 38,
   "metadata": {},
   "outputs": [],
   "source": [
    "random_forest = RandomForestClassifier()\n",
    "\n",
    "scoring = ['accuracy', 'precision_macro', 'recall_macro' , 'f1_weighted', 'roc_auc']\n",
    "scores = cross_validate(random_forest, x_train, y_train, scoring=scoring, cv=20)\n",
    "\n",
    "sorted(scores.keys())\n",
    "forest_fit_time = scores['fit_time'].mean()\n",
    "forest_score_time = scores['score_time'].mean()\n",
    "forest_accuracy = scores['test_accuracy'].mean()\n",
    "forest_precision = scores['test_precision_macro'].mean()\n",
    "forest_recall = scores['test_recall_macro'].mean()\n",
    "forest_f1 = scores['test_f1_weighted'].mean()\n",
    "forest_roc = scores['test_roc_auc'].mean()"
   ]
  },
  {
   "cell_type": "code",
   "execution_count": 39,
   "metadata": {},
   "outputs": [],
   "source": [
    "KNN = KNeighborsClassifier()\n",
    "\n",
    "scoring = ['accuracy', 'precision_macro', 'recall_macro' , 'f1_weighted', 'roc_auc']\n",
    "scores = cross_validate(KNN, x_train, y_train, scoring=scoring, cv=20)\n",
    "\n",
    "sorted(scores.keys())\n",
    "KNN_fit_time = scores['fit_time'].mean()\n",
    "KNN_score_time = scores['score_time'].mean()\n",
    "KNN_accuracy = scores['test_accuracy'].mean()\n",
    "KNN_precision = scores['test_precision_macro'].mean()\n",
    "KNN_recall = scores['test_recall_macro'].mean()\n",
    "KNN_f1 = scores['test_f1_weighted'].mean()\n",
    "KNN_roc = scores['test_roc_auc'].mean()"
   ]
  },
  {
   "cell_type": "code",
   "execution_count": 40,
   "metadata": {},
   "outputs": [],
   "source": [
    "bayes = GaussianNB()\n",
    "\n",
    "scoring = ['accuracy', 'precision_macro', 'recall_macro' , 'f1_weighted', 'roc_auc']\n",
    "scores = cross_validate(bayes, x_train, y_train, scoring=scoring, cv=20)\n",
    "\n",
    "sorted(scores.keys())\n",
    "bayes_fit_time = scores['fit_time'].mean()\n",
    "bayes_score_time = scores['score_time'].mean()\n",
    "bayes_accuracy = scores['test_accuracy'].mean()\n",
    "bayes_precision = scores['test_precision_macro'].mean()\n",
    "bayes_recall = scores['test_recall_macro'].mean()\n",
    "bayes_f1 = scores['test_f1_weighted'].mean()\n",
    "bayes_roc = scores['test_roc_auc'].mean()"
   ]
  },
  {
   "cell_type": "code",
   "execution_count": 41,
   "metadata": {},
   "outputs": [],
   "source": [
    "GB = GradientBoostingClassifier()\n",
    "\n",
    "scoring = ['accuracy', 'precision_macro', 'recall_macro' , 'f1_weighted', 'roc_auc']\n",
    "scores = cross_validate(GB, x_train, y_train, scoring=scoring, cv=20)\n",
    "\n",
    "sorted(scores.keys())\n",
    "gb_fit_time = scores['fit_time'].mean()\n",
    "gb_score_time = scores['score_time'].mean()\n",
    "gb_accuracy = scores['test_accuracy'].mean()\n",
    "gb_precision = scores['test_precision_macro'].mean()\n",
    "gb_recall = scores['test_recall_macro'].mean()\n",
    "gb_f1 = scores['test_f1_weighted'].mean()\n",
    "gb_roc = scores['test_roc_auc'].mean()\n"
   ]
  },
  {
   "cell_type": "code",
   "execution_count": 42,
   "metadata": {},
   "outputs": [],
   "source": [
    "AB = AdaBoostClassifier()\n",
    "\n",
    "scoring = ['accuracy', 'precision_macro', 'recall_macro' , 'f1_weighted', 'roc_auc']\n",
    "scores = cross_validate(AB, x_train, y_train, scoring=scoring, cv=20)\n",
    "\n",
    "sorted(scores.keys())\n",
    "ab_fit_time = scores['fit_time'].mean()\n",
    "ab_score_time = scores['score_time'].mean()\n",
    "ab_accuracy = scores['test_accuracy'].mean()\n",
    "ab_precision = scores['test_precision_macro'].mean()\n",
    "ab_recall = scores['test_recall_macro'].mean()\n",
    "ab_f1 = scores['test_f1_weighted'].mean()\n",
    "ab_roc = scores['test_roc_auc'].mean()\n",
    "\n"
   ]
  },
  {
   "cell_type": "code",
   "execution_count": 43,
   "metadata": {
    "scrolled": false
   },
   "outputs": [
    {
     "data": {
      "text/html": [
       "<div>\n",
       "<style scoped>\n",
       "    .dataframe tbody tr th:only-of-type {\n",
       "        vertical-align: middle;\n",
       "    }\n",
       "\n",
       "    .dataframe tbody tr th {\n",
       "        vertical-align: top;\n",
       "    }\n",
       "\n",
       "    .dataframe thead th {\n",
       "        text-align: right;\n",
       "    }\n",
       "</style>\n",
       "<table border=\"1\" class=\"dataframe\">\n",
       "  <thead>\n",
       "    <tr style=\"text-align: right;\">\n",
       "      <th></th>\n",
       "      <th>Model</th>\n",
       "      <th>Fitting time</th>\n",
       "      <th>Scoring time</th>\n",
       "      <th>Accuracy</th>\n",
       "      <th>Precision</th>\n",
       "      <th>Recall</th>\n",
       "      <th>F1_score</th>\n",
       "      <th>AUC_ROC</th>\n",
       "    </tr>\n",
       "  </thead>\n",
       "  <tbody>\n",
       "    <tr>\n",
       "      <th>5</th>\n",
       "      <td>Random Forest</td>\n",
       "      <td>0.845678</td>\n",
       "      <td>0.049564</td>\n",
       "      <td>0.943789</td>\n",
       "      <td>0.943731</td>\n",
       "      <td>0.938565</td>\n",
       "      <td>0.943637</td>\n",
       "      <td>0.978861</td>\n",
       "    </tr>\n",
       "    <tr>\n",
       "      <th>8</th>\n",
       "      <td>Gradient Boosting</td>\n",
       "      <td>1.263818</td>\n",
       "      <td>0.015826</td>\n",
       "      <td>0.933851</td>\n",
       "      <td>0.934042</td>\n",
       "      <td>0.927080</td>\n",
       "      <td>0.933581</td>\n",
       "      <td>0.977883</td>\n",
       "    </tr>\n",
       "    <tr>\n",
       "      <th>9</th>\n",
       "      <td>Adaptative Boosting</td>\n",
       "      <td>0.503322</td>\n",
       "      <td>0.055388</td>\n",
       "      <td>0.922981</td>\n",
       "      <td>0.921339</td>\n",
       "      <td>0.917040</td>\n",
       "      <td>0.922754</td>\n",
       "      <td>0.974733</td>\n",
       "    </tr>\n",
       "    <tr>\n",
       "      <th>1</th>\n",
       "      <td>Decision Tree</td>\n",
       "      <td>0.047631</td>\n",
       "      <td>0.014026</td>\n",
       "      <td>0.909006</td>\n",
       "      <td>0.904522</td>\n",
       "      <td>0.906178</td>\n",
       "      <td>0.909150</td>\n",
       "      <td>0.906178</td>\n",
       "    </tr>\n",
       "    <tr>\n",
       "      <th>0</th>\n",
       "      <td>Logistic Regression</td>\n",
       "      <td>0.960666</td>\n",
       "      <td>0.017877</td>\n",
       "      <td>0.901863</td>\n",
       "      <td>0.904057</td>\n",
       "      <td>0.889748</td>\n",
       "      <td>0.900990</td>\n",
       "      <td>0.964057</td>\n",
       "    </tr>\n",
       "    <tr>\n",
       "      <th>7</th>\n",
       "      <td>Bayes</td>\n",
       "      <td>0.008050</td>\n",
       "      <td>0.013555</td>\n",
       "      <td>0.895652</td>\n",
       "      <td>0.893258</td>\n",
       "      <td>0.887402</td>\n",
       "      <td>0.895242</td>\n",
       "      <td>0.946283</td>\n",
       "    </tr>\n",
       "    <tr>\n",
       "      <th>4</th>\n",
       "      <td>Quadratic Discriminant Analysis</td>\n",
       "      <td>0.013998</td>\n",
       "      <td>0.022049</td>\n",
       "      <td>0.896273</td>\n",
       "      <td>0.892297</td>\n",
       "      <td>0.890369</td>\n",
       "      <td>0.896182</td>\n",
       "      <td>0.947979</td>\n",
       "    </tr>\n",
       "    <tr>\n",
       "      <th>3</th>\n",
       "      <td>Linear Discriminant Analysis</td>\n",
       "      <td>0.036270</td>\n",
       "      <td>0.019619</td>\n",
       "      <td>0.863975</td>\n",
       "      <td>0.878131</td>\n",
       "      <td>0.838212</td>\n",
       "      <td>0.860117</td>\n",
       "      <td>0.939924</td>\n",
       "    </tr>\n",
       "    <tr>\n",
       "      <th>6</th>\n",
       "      <td>K-Nearest Neighbors</td>\n",
       "      <td>0.043591</td>\n",
       "      <td>0.034901</td>\n",
       "      <td>0.786025</td>\n",
       "      <td>0.776864</td>\n",
       "      <td>0.770305</td>\n",
       "      <td>0.784782</td>\n",
       "      <td>0.850468</td>\n",
       "    </tr>\n",
       "    <tr>\n",
       "      <th>2</th>\n",
       "      <td>Support Vector Machine</td>\n",
       "      <td>3.366793</td>\n",
       "      <td>0.058789</td>\n",
       "      <td>0.708696</td>\n",
       "      <td>0.707808</td>\n",
       "      <td>0.658710</td>\n",
       "      <td>0.689064</td>\n",
       "      <td>0.801941</td>\n",
       "    </tr>\n",
       "  </tbody>\n",
       "</table>\n",
       "</div>"
      ],
      "text/plain": [
       "                             Model  Fitting time  Scoring time  Accuracy  \\\n",
       "5                    Random Forest      0.845678      0.049564  0.943789   \n",
       "8                Gradient Boosting      1.263818      0.015826  0.933851   \n",
       "9              Adaptative Boosting      0.503322      0.055388  0.922981   \n",
       "1                    Decision Tree      0.047631      0.014026  0.909006   \n",
       "0              Logistic Regression      0.960666      0.017877  0.901863   \n",
       "7                            Bayes      0.008050      0.013555  0.895652   \n",
       "4  Quadratic Discriminant Analysis      0.013998      0.022049  0.896273   \n",
       "3     Linear Discriminant Analysis      0.036270      0.019619  0.863975   \n",
       "6              K-Nearest Neighbors      0.043591      0.034901  0.786025   \n",
       "2           Support Vector Machine      3.366793      0.058789  0.708696   \n",
       "\n",
       "   Precision    Recall  F1_score   AUC_ROC  \n",
       "5   0.943731  0.938565  0.943637  0.978861  \n",
       "8   0.934042  0.927080  0.933581  0.977883  \n",
       "9   0.921339  0.917040  0.922754  0.974733  \n",
       "1   0.904522  0.906178  0.909150  0.906178  \n",
       "0   0.904057  0.889748  0.900990  0.964057  \n",
       "7   0.893258  0.887402  0.895242  0.946283  \n",
       "4   0.892297  0.890369  0.896182  0.947979  \n",
       "3   0.878131  0.838212  0.860117  0.939924  \n",
       "6   0.776864  0.770305  0.784782  0.850468  \n",
       "2   0.707808  0.658710  0.689064  0.801941  "
      ]
     },
     "execution_count": 43,
     "metadata": {},
     "output_type": "execute_result"
    }
   ],
   "source": [
    "models_initial = pd.DataFrame({\n",
    "    'Model'       : ['Logistic Regression', 'Decision Tree', 'Support Vector Machine', 'Linear Discriminant Analysis', 'Quadratic Discriminant Analysis', 'Random Forest', 'K-Nearest Neighbors', 'Bayes','Gradient Boosting','Adaptative Boosting'],\n",
    "    'Fitting time': [LR_fit_time, dtree_fit_time, SVM_fit_time, LDA_fit_time, QDA_fit_time, forest_fit_time, KNN_fit_time, bayes_fit_time,gb_fit_time,ab_fit_time],\n",
    "    'Scoring time': [LR_score_time, dtree_score_time, SVM_score_time, LDA_score_time, QDA_score_time, forest_score_time, KNN_score_time, bayes_score_time,gb_score_time,ab_score_time],\n",
    "    'Accuracy'    : [LR_accuracy, dtree_accuracy, SVM_accuracy, LDA_accuracy, QDA_accuracy, forest_accuracy, KNN_accuracy, bayes_accuracy,gb_accuracy,ab_accuracy],\n",
    "    'Precision'   : [LR_precision, dtree_precision, SVM_precision, LDA_precision, QDA_precision, forest_precision, KNN_precision, bayes_precision,gb_precision,ab_precision],\n",
    "    'Recall'      : [LR_recall, dtree_recall, SVM_recall, LDA_recall, QDA_recall, forest_recall, KNN_recall, bayes_recall,gb_recall,ab_recall],\n",
    "    'F1_score'    : [LR_f1, dtree_f1, SVM_f1, LDA_f1, QDA_f1, forest_f1, KNN_f1, bayes_f1,gb_f1,ab_f1],\n",
    "    'AUC_ROC'     : [LR_roc, dtree_roc, SVM_roc, LDA_roc, QDA_roc, forest_roc, KNN_roc, bayes_roc,gb_roc,ab_roc],\n",
    "    }, columns = ['Model', 'Fitting time', 'Scoring time', 'Accuracy', 'Precision', 'Recall', 'F1_score', 'AUC_ROC'])\n",
    "\n",
    "models_initial.sort_values(by='Precision', ascending=False)"
   ]
  },
  {
   "cell_type": "markdown",
   "metadata": {},
   "source": [
    "### Now with scaling"
   ]
  },
  {
   "cell_type": "code",
   "execution_count": 45,
   "metadata": {},
   "outputs": [],
   "source": [
    "df_scaled = pd.DataFrame(minmax_scale(df))\n",
    "y_scaled = df_scaled[np.shape(df_scaled)[1]-1]\n",
    "x_scaled= df_scaled.drop([np.shape(df_scaled)[1]-1],axis = 1)\n",
    "\n"
   ]
  },
  {
   "cell_type": "code",
   "execution_count": 46,
   "metadata": {},
   "outputs": [],
   "source": [
    "from sklearn.model_selection import train_test_split\n",
    "\n",
    "x_train,x_test,y_train,y_test=train_test_split(x_scaled,y_scaled,random_state=0,test_size=0.3)"
   ]
  },
  {
   "cell_type": "code",
   "execution_count": 47,
   "metadata": {},
   "outputs": [],
   "source": [
    "LR = LogisticRegression(max_iter=10000)\n",
    "\n",
    "scoring = ['accuracy', 'precision_macro', 'recall_macro' , 'f1_weighted', 'roc_auc']\n",
    "scores = cross_validate(LR, x_train, y_train, scoring=scoring, cv=20)\n",
    "\n",
    "sorted(scores.keys())\n",
    "LR_fit_time = scores['fit_time'].mean()\n",
    "LR_score_time = scores['score_time'].mean()\n",
    "LR_accuracy = scores['test_accuracy'].mean()\n",
    "LR_precision = scores['test_precision_macro'].mean()\n",
    "LR_recall = scores['test_recall_macro'].mean()\n",
    "LR_f1 = scores['test_f1_weighted'].mean()\n",
    "LR_roc = scores['test_roc_auc'].mean()"
   ]
  },
  {
   "cell_type": "code",
   "execution_count": 48,
   "metadata": {},
   "outputs": [],
   "source": [
    "decision_tree = DecisionTreeClassifier()\n",
    "\n",
    "scoring = ['accuracy', 'precision_macro', 'recall_macro' , 'f1_weighted', 'roc_auc']\n",
    "scores = cross_validate(decision_tree, x_train, y_train, scoring=scoring, cv=20)\n",
    "\n",
    "sorted(scores.keys())\n",
    "dtree_fit_time = scores['fit_time'].mean()\n",
    "dtree_score_time = scores['score_time'].mean()\n",
    "dtree_accuracy = scores['test_accuracy'].mean()\n",
    "dtree_precision = scores['test_precision_macro'].mean()\n",
    "dtree_recall = scores['test_recall_macro'].mean()\n",
    "dtree_f1 = scores['test_f1_weighted'].mean()\n",
    "dtree_roc = scores['test_roc_auc'].mean()"
   ]
  },
  {
   "cell_type": "code",
   "execution_count": 49,
   "metadata": {},
   "outputs": [],
   "source": [
    "SVM = SVC(probability = True)\n",
    "\n",
    "scoring = ['accuracy','precision_macro', 'recall_macro' , 'f1_weighted', 'roc_auc']\n",
    "scores = cross_validate(SVM, x_train, y_train, scoring=scoring, cv=20)\n",
    "\n",
    "sorted(scores.keys())\n",
    "SVM_fit_time = scores['fit_time'].mean()\n",
    "SVM_score_time = scores['score_time'].mean()\n",
    "SVM_accuracy = scores['test_accuracy'].mean()\n",
    "SVM_precision = scores['test_precision_macro'].mean()\n",
    "SVM_recall = scores['test_recall_macro'].mean()\n",
    "SVM_f1 = scores['test_f1_weighted'].mean()\n",
    "SVM_roc = scores['test_roc_auc'].mean()"
   ]
  },
  {
   "cell_type": "code",
   "execution_count": 50,
   "metadata": {},
   "outputs": [],
   "source": [
    "LDA = LinearDiscriminantAnalysis()\n",
    "\n",
    "scoring = ['accuracy', 'precision_macro', 'recall_macro' , 'f1_weighted', 'roc_auc']\n",
    "scores = cross_validate(LDA, x_train, y_train, scoring=scoring, cv=20)\n",
    "\n",
    "sorted(scores.keys())\n",
    "LDA_fit_time = scores['fit_time'].mean()\n",
    "LDA_score_time = scores['score_time'].mean()\n",
    "LDA_accuracy = scores['test_accuracy'].mean()\n",
    "LDA_precision = scores['test_precision_macro'].mean()\n",
    "LDA_recall = scores['test_recall_macro'].mean()\n",
    "LDA_f1 = scores['test_f1_weighted'].mean()\n",
    "LDA_roc = scores['test_roc_auc'].mean()"
   ]
  },
  {
   "cell_type": "code",
   "execution_count": 51,
   "metadata": {},
   "outputs": [
    {
     "name": "stderr",
     "output_type": "stream",
     "text": [
      "C:\\Users\\ZBook\\anaconda3\\lib\\site-packages\\sklearn\\discriminant_analysis.py:715: UserWarning: Variables are collinear\n",
      "  warnings.warn(\"Variables are collinear\")\n",
      "C:\\Users\\ZBook\\anaconda3\\lib\\site-packages\\sklearn\\discriminant_analysis.py:715: UserWarning: Variables are collinear\n",
      "  warnings.warn(\"Variables are collinear\")\n",
      "C:\\Users\\ZBook\\anaconda3\\lib\\site-packages\\sklearn\\discriminant_analysis.py:715: UserWarning: Variables are collinear\n",
      "  warnings.warn(\"Variables are collinear\")\n",
      "C:\\Users\\ZBook\\anaconda3\\lib\\site-packages\\sklearn\\discriminant_analysis.py:715: UserWarning: Variables are collinear\n",
      "  warnings.warn(\"Variables are collinear\")\n",
      "C:\\Users\\ZBook\\anaconda3\\lib\\site-packages\\sklearn\\discriminant_analysis.py:715: UserWarning: Variables are collinear\n",
      "  warnings.warn(\"Variables are collinear\")\n",
      "C:\\Users\\ZBook\\anaconda3\\lib\\site-packages\\sklearn\\discriminant_analysis.py:715: UserWarning: Variables are collinear\n",
      "  warnings.warn(\"Variables are collinear\")\n",
      "C:\\Users\\ZBook\\anaconda3\\lib\\site-packages\\sklearn\\discriminant_analysis.py:715: UserWarning: Variables are collinear\n",
      "  warnings.warn(\"Variables are collinear\")\n",
      "C:\\Users\\ZBook\\anaconda3\\lib\\site-packages\\sklearn\\discriminant_analysis.py:715: UserWarning: Variables are collinear\n",
      "  warnings.warn(\"Variables are collinear\")\n",
      "C:\\Users\\ZBook\\anaconda3\\lib\\site-packages\\sklearn\\discriminant_analysis.py:715: UserWarning: Variables are collinear\n",
      "  warnings.warn(\"Variables are collinear\")\n",
      "C:\\Users\\ZBook\\anaconda3\\lib\\site-packages\\sklearn\\discriminant_analysis.py:715: UserWarning: Variables are collinear\n",
      "  warnings.warn(\"Variables are collinear\")\n",
      "C:\\Users\\ZBook\\anaconda3\\lib\\site-packages\\sklearn\\discriminant_analysis.py:715: UserWarning: Variables are collinear\n",
      "  warnings.warn(\"Variables are collinear\")\n",
      "C:\\Users\\ZBook\\anaconda3\\lib\\site-packages\\sklearn\\discriminant_analysis.py:715: UserWarning: Variables are collinear\n",
      "  warnings.warn(\"Variables are collinear\")\n",
      "C:\\Users\\ZBook\\anaconda3\\lib\\site-packages\\sklearn\\discriminant_analysis.py:715: UserWarning: Variables are collinear\n",
      "  warnings.warn(\"Variables are collinear\")\n",
      "C:\\Users\\ZBook\\anaconda3\\lib\\site-packages\\sklearn\\discriminant_analysis.py:715: UserWarning: Variables are collinear\n",
      "  warnings.warn(\"Variables are collinear\")\n",
      "C:\\Users\\ZBook\\anaconda3\\lib\\site-packages\\sklearn\\discriminant_analysis.py:715: UserWarning: Variables are collinear\n",
      "  warnings.warn(\"Variables are collinear\")\n",
      "C:\\Users\\ZBook\\anaconda3\\lib\\site-packages\\sklearn\\discriminant_analysis.py:715: UserWarning: Variables are collinear\n",
      "  warnings.warn(\"Variables are collinear\")\n",
      "C:\\Users\\ZBook\\anaconda3\\lib\\site-packages\\sklearn\\discriminant_analysis.py:715: UserWarning: Variables are collinear\n",
      "  warnings.warn(\"Variables are collinear\")\n",
      "C:\\Users\\ZBook\\anaconda3\\lib\\site-packages\\sklearn\\discriminant_analysis.py:715: UserWarning: Variables are collinear\n",
      "  warnings.warn(\"Variables are collinear\")\n",
      "C:\\Users\\ZBook\\anaconda3\\lib\\site-packages\\sklearn\\discriminant_analysis.py:715: UserWarning: Variables are collinear\n",
      "  warnings.warn(\"Variables are collinear\")\n",
      "C:\\Users\\ZBook\\anaconda3\\lib\\site-packages\\sklearn\\discriminant_analysis.py:715: UserWarning: Variables are collinear\n",
      "  warnings.warn(\"Variables are collinear\")\n"
     ]
    }
   ],
   "source": [
    "QDA = QuadraticDiscriminantAnalysis()\n",
    "\n",
    "scoring = ['accuracy', 'precision_macro', 'recall_macro' , 'f1_weighted', 'roc_auc']\n",
    "scores = cross_validate(QDA, x_train, y_train, scoring=scoring, cv=20)\n",
    "\n",
    "sorted(scores.keys())\n",
    "QDA_fit_time = scores['fit_time'].mean()\n",
    "QDA_score_time = scores['score_time'].mean()\n",
    "QDA_accuracy = scores['test_accuracy'].mean()\n",
    "QDA_precision = scores['test_precision_macro'].mean()\n",
    "QDA_recall = scores['test_recall_macro'].mean()\n",
    "QDA_f1 = scores['test_f1_weighted'].mean()\n",
    "QDA_roc = scores['test_roc_auc'].mean()"
   ]
  },
  {
   "cell_type": "code",
   "execution_count": 52,
   "metadata": {},
   "outputs": [],
   "source": [
    "random_forest = RandomForestClassifier()\n",
    "\n",
    "scoring = ['accuracy', 'precision_macro', 'recall_macro' , 'f1_weighted', 'roc_auc']\n",
    "scores = cross_validate(random_forest, x_train, y_train, scoring=scoring, cv=20)\n",
    "\n",
    "sorted(scores.keys())\n",
    "forest_fit_time = scores['fit_time'].mean()\n",
    "forest_score_time = scores['score_time'].mean()\n",
    "forest_accuracy = scores['test_accuracy'].mean()\n",
    "forest_precision = scores['test_precision_macro'].mean()\n",
    "forest_recall = scores['test_recall_macro'].mean()\n",
    "forest_f1 = scores['test_f1_weighted'].mean()\n",
    "forest_roc = scores['test_roc_auc'].mean()"
   ]
  },
  {
   "cell_type": "code",
   "execution_count": 53,
   "metadata": {},
   "outputs": [],
   "source": [
    "KNN = KNeighborsClassifier()\n",
    "\n",
    "scoring = ['accuracy', 'precision_macro', 'recall_macro' , 'f1_weighted', 'roc_auc']\n",
    "scores = cross_validate(KNN, x_train, y_train, scoring=scoring, cv=20)\n",
    "\n",
    "sorted(scores.keys())\n",
    "KNN_fit_time = scores['fit_time'].mean()\n",
    "KNN_score_time = scores['score_time'].mean()\n",
    "KNN_accuracy = scores['test_accuracy'].mean()\n",
    "KNN_precision = scores['test_precision_macro'].mean()\n",
    "KNN_recall = scores['test_recall_macro'].mean()\n",
    "KNN_f1 = scores['test_f1_weighted'].mean()\n",
    "KNN_roc = scores['test_roc_auc'].mean()"
   ]
  },
  {
   "cell_type": "code",
   "execution_count": 54,
   "metadata": {},
   "outputs": [],
   "source": [
    "bayes = GaussianNB()\n",
    "\n",
    "scoring = ['accuracy', 'precision_macro', 'recall_macro' , 'f1_weighted', 'roc_auc']\n",
    "scores = cross_validate(bayes, x_train, y_train, scoring=scoring, cv=20)\n",
    "\n",
    "sorted(scores.keys())\n",
    "bayes_fit_time = scores['fit_time'].mean()\n",
    "bayes_score_time = scores['score_time'].mean()\n",
    "bayes_accuracy = scores['test_accuracy'].mean()\n",
    "bayes_precision = scores['test_precision_macro'].mean()\n",
    "bayes_recall = scores['test_recall_macro'].mean()\n",
    "bayes_f1 = scores['test_f1_weighted'].mean()\n",
    "bayes_roc = scores['test_roc_auc'].mean()"
   ]
  },
  {
   "cell_type": "code",
   "execution_count": 55,
   "metadata": {},
   "outputs": [],
   "source": [
    "GB = GradientBoostingClassifier()\n",
    "\n",
    "scoring = ['accuracy', 'precision_macro', 'recall_macro' , 'f1_weighted', 'roc_auc']\n",
    "scores = cross_validate(GB, x_train, y_train, scoring=scoring, cv=20)\n",
    "\n",
    "sorted(scores.keys())\n",
    "gb_fit_time = scores['fit_time'].mean()\n",
    "gb_score_time = scores['score_time'].mean()\n",
    "gb_accuracy = scores['test_accuracy'].mean()\n",
    "gb_precision = scores['test_precision_macro'].mean()\n",
    "gb_recall = scores['test_recall_macro'].mean()\n",
    "gb_f1 = scores['test_f1_weighted'].mean()\n",
    "gb_roc = scores['test_roc_auc'].mean()\n"
   ]
  },
  {
   "cell_type": "code",
   "execution_count": 56,
   "metadata": {},
   "outputs": [],
   "source": [
    "AB = AdaBoostClassifier()\n",
    "\n",
    "scoring = ['accuracy', 'precision_macro', 'recall_macro' , 'f1_weighted', 'roc_auc']\n",
    "scores = cross_validate(AB, x_train, y_train, scoring=scoring, cv=20)\n",
    "\n",
    "sorted(scores.keys())\n",
    "ab_fit_time = scores['fit_time'].mean()\n",
    "ab_score_time = scores['score_time'].mean()\n",
    "ab_accuracy = scores['test_accuracy'].mean()\n",
    "ab_precision = scores['test_precision_macro'].mean()\n",
    "ab_recall = scores['test_recall_macro'].mean()\n",
    "ab_f1 = scores['test_f1_weighted'].mean()\n",
    "ab_roc = scores['test_roc_auc'].mean()\n",
    "\n"
   ]
  },
  {
   "cell_type": "code",
   "execution_count": 57,
   "metadata": {
    "scrolled": true
   },
   "outputs": [
    {
     "data": {
      "text/html": [
       "<div>\n",
       "<style scoped>\n",
       "    .dataframe tbody tr th:only-of-type {\n",
       "        vertical-align: middle;\n",
       "    }\n",
       "\n",
       "    .dataframe tbody tr th {\n",
       "        vertical-align: top;\n",
       "    }\n",
       "\n",
       "    .dataframe thead th {\n",
       "        text-align: right;\n",
       "    }\n",
       "</style>\n",
       "<table border=\"1\" class=\"dataframe\">\n",
       "  <thead>\n",
       "    <tr style=\"text-align: right;\">\n",
       "      <th></th>\n",
       "      <th>Model</th>\n",
       "      <th>Fitting time</th>\n",
       "      <th>Scoring time</th>\n",
       "      <th>Accuracy</th>\n",
       "      <th>Precision</th>\n",
       "      <th>Recall</th>\n",
       "      <th>F1_score</th>\n",
       "      <th>AUC_ROC</th>\n",
       "    </tr>\n",
       "  </thead>\n",
       "  <tbody>\n",
       "    <tr>\n",
       "      <th>5</th>\n",
       "      <td>Random Forest</td>\n",
       "      <td>1.013617</td>\n",
       "      <td>0.055453</td>\n",
       "      <td>0.953727</td>\n",
       "      <td>0.954471</td>\n",
       "      <td>0.948716</td>\n",
       "      <td>0.953560</td>\n",
       "      <td>0.984479</td>\n",
       "    </tr>\n",
       "    <tr>\n",
       "      <th>8</th>\n",
       "      <td>Gradient Boosting</td>\n",
       "      <td>2.213982</td>\n",
       "      <td>0.015958</td>\n",
       "      <td>0.948447</td>\n",
       "      <td>0.948254</td>\n",
       "      <td>0.943648</td>\n",
       "      <td>0.948299</td>\n",
       "      <td>0.985461</td>\n",
       "    </tr>\n",
       "    <tr>\n",
       "      <th>9</th>\n",
       "      <td>Adaptative Boosting</td>\n",
       "      <td>0.620388</td>\n",
       "      <td>0.051448</td>\n",
       "      <td>0.946584</td>\n",
       "      <td>0.944953</td>\n",
       "      <td>0.942963</td>\n",
       "      <td>0.946536</td>\n",
       "      <td>0.983374</td>\n",
       "    </tr>\n",
       "    <tr>\n",
       "      <th>2</th>\n",
       "      <td>Support Vector Machine</td>\n",
       "      <td>3.094253</td>\n",
       "      <td>0.059947</td>\n",
       "      <td>0.929503</td>\n",
       "      <td>0.931217</td>\n",
       "      <td>0.920794</td>\n",
       "      <td>0.929051</td>\n",
       "      <td>0.972686</td>\n",
       "    </tr>\n",
       "    <tr>\n",
       "      <th>1</th>\n",
       "      <td>Decision Tree</td>\n",
       "      <td>0.148654</td>\n",
       "      <td>0.020052</td>\n",
       "      <td>0.914907</td>\n",
       "      <td>0.910905</td>\n",
       "      <td>0.910846</td>\n",
       "      <td>0.914895</td>\n",
       "      <td>0.910846</td>\n",
       "    </tr>\n",
       "    <tr>\n",
       "      <th>3</th>\n",
       "      <td>Linear Discriminant Analysis</td>\n",
       "      <td>0.063063</td>\n",
       "      <td>0.019119</td>\n",
       "      <td>0.885404</td>\n",
       "      <td>0.894320</td>\n",
       "      <td>0.865712</td>\n",
       "      <td>0.883186</td>\n",
       "      <td>0.950616</td>\n",
       "    </tr>\n",
       "    <tr>\n",
       "      <th>6</th>\n",
       "      <td>K-Nearest Neighbors</td>\n",
       "      <td>0.093030</td>\n",
       "      <td>0.176170</td>\n",
       "      <td>0.894720</td>\n",
       "      <td>0.892108</td>\n",
       "      <td>0.886501</td>\n",
       "      <td>0.894376</td>\n",
       "      <td>0.945892</td>\n",
       "    </tr>\n",
       "    <tr>\n",
       "      <th>0</th>\n",
       "      <td>Logistic Regression</td>\n",
       "      <td>0.056436</td>\n",
       "      <td>0.020386</td>\n",
       "      <td>0.884783</td>\n",
       "      <td>0.891703</td>\n",
       "      <td>0.866227</td>\n",
       "      <td>0.882880</td>\n",
       "      <td>0.948401</td>\n",
       "    </tr>\n",
       "    <tr>\n",
       "      <th>7</th>\n",
       "      <td>Bayes</td>\n",
       "      <td>0.011316</td>\n",
       "      <td>0.014878</td>\n",
       "      <td>0.821429</td>\n",
       "      <td>0.831772</td>\n",
       "      <td>0.846235</td>\n",
       "      <td>0.823234</td>\n",
       "      <td>0.880763</td>\n",
       "    </tr>\n",
       "    <tr>\n",
       "      <th>4</th>\n",
       "      <td>Quadratic Discriminant Analysis</td>\n",
       "      <td>0.025968</td>\n",
       "      <td>0.022449</td>\n",
       "      <td>0.809938</td>\n",
       "      <td>0.825056</td>\n",
       "      <td>0.837556</td>\n",
       "      <td>0.811597</td>\n",
       "      <td>0.952433</td>\n",
       "    </tr>\n",
       "  </tbody>\n",
       "</table>\n",
       "</div>"
      ],
      "text/plain": [
       "                             Model  Fitting time  Scoring time  Accuracy  \\\n",
       "5                    Random Forest      1.013617      0.055453  0.953727   \n",
       "8                Gradient Boosting      2.213982      0.015958  0.948447   \n",
       "9              Adaptative Boosting      0.620388      0.051448  0.946584   \n",
       "2           Support Vector Machine      3.094253      0.059947  0.929503   \n",
       "1                    Decision Tree      0.148654      0.020052  0.914907   \n",
       "3     Linear Discriminant Analysis      0.063063      0.019119  0.885404   \n",
       "6              K-Nearest Neighbors      0.093030      0.176170  0.894720   \n",
       "0              Logistic Regression      0.056436      0.020386  0.884783   \n",
       "7                            Bayes      0.011316      0.014878  0.821429   \n",
       "4  Quadratic Discriminant Analysis      0.025968      0.022449  0.809938   \n",
       "\n",
       "   Precision    Recall  F1_score   AUC_ROC  \n",
       "5   0.954471  0.948716  0.953560  0.984479  \n",
       "8   0.948254  0.943648  0.948299  0.985461  \n",
       "9   0.944953  0.942963  0.946536  0.983374  \n",
       "2   0.931217  0.920794  0.929051  0.972686  \n",
       "1   0.910905  0.910846  0.914895  0.910846  \n",
       "3   0.894320  0.865712  0.883186  0.950616  \n",
       "6   0.892108  0.886501  0.894376  0.945892  \n",
       "0   0.891703  0.866227  0.882880  0.948401  \n",
       "7   0.831772  0.846235  0.823234  0.880763  \n",
       "4   0.825056  0.837556  0.811597  0.952433  "
      ]
     },
     "execution_count": 57,
     "metadata": {},
     "output_type": "execute_result"
    }
   ],
   "source": [
    "models_initial1 = pd.DataFrame({\n",
    "    'Model'       : ['Logistic Regression', 'Decision Tree', 'Support Vector Machine', 'Linear Discriminant Analysis', 'Quadratic Discriminant Analysis', 'Random Forest', 'K-Nearest Neighbors', 'Bayes','Gradient Boosting','Adaptative Boosting'],\n",
    "    'Fitting time': [LR_fit_time, dtree_fit_time, SVM_fit_time, LDA_fit_time, QDA_fit_time, forest_fit_time, KNN_fit_time, bayes_fit_time,gb_fit_time,ab_fit_time],\n",
    "    'Scoring time': [LR_score_time, dtree_score_time, SVM_score_time, LDA_score_time, QDA_score_time, forest_score_time, KNN_score_time, bayes_score_time,gb_score_time,ab_score_time],\n",
    "    'Accuracy'    : [LR_accuracy, dtree_accuracy, SVM_accuracy, LDA_accuracy, QDA_accuracy, forest_accuracy, KNN_accuracy, bayes_accuracy,gb_accuracy,ab_accuracy],\n",
    "    'Precision'   : [LR_precision, dtree_precision, SVM_precision, LDA_precision, QDA_precision, forest_precision, KNN_precision, bayes_precision,gb_precision,ab_precision],\n",
    "    'Recall'      : [LR_recall, dtree_recall, SVM_recall, LDA_recall, QDA_recall, forest_recall, KNN_recall, bayes_recall,gb_recall,ab_recall],\n",
    "    'F1_score'    : [LR_f1, dtree_f1, SVM_f1, LDA_f1, QDA_f1, forest_f1, KNN_f1, bayes_f1,gb_f1,ab_f1],\n",
    "    'AUC_ROC'     : [LR_roc, dtree_roc, SVM_roc, LDA_roc, QDA_roc, forest_roc, KNN_roc, bayes_roc,gb_roc,ab_roc],\n",
    "    }, columns = ['Model', 'Fitting time', 'Scoring time', 'Accuracy', 'Precision', 'Recall', 'F1_score', 'AUC_ROC'])\n",
    "\n",
    "models_initial1.sort_values(by='Precision', ascending=False)"
   ]
  },
  {
   "cell_type": "markdown",
   "metadata": {},
   "source": [
    "### Now with both"
   ]
  },
  {
   "cell_type": "code",
   "execution_count": 59,
   "metadata": {},
   "outputs": [],
   "source": [
    "df_corr_scaled = pd.DataFrame(minmax_scale(df_corr))\n",
    "y_corr_scaled = df_corr_scaled[np.shape(df_corr_scaled)[1]-1]\n",
    "x_corr_scaled= df_corr_scaled.drop([np.shape(df_corr_scaled)[1]-1],axis = 1)"
   ]
  },
  {
   "cell_type": "code",
   "execution_count": 60,
   "metadata": {},
   "outputs": [],
   "source": [
    "from sklearn.model_selection import train_test_split\n",
    "\n",
    "x_train,x_test,y_train,y_test=train_test_split(x_corr_scaled,y_corr_scaled,random_state=0,test_size=0.3)"
   ]
  },
  {
   "cell_type": "code",
   "execution_count": 61,
   "metadata": {},
   "outputs": [],
   "source": [
    "LR = LogisticRegression(max_iter=10000)\n",
    "\n",
    "scoring = ['accuracy', 'precision_macro', 'recall_macro' , 'f1_weighted', 'roc_auc']\n",
    "scores = cross_validate(LR, x_train, y_train, scoring=scoring, cv=20)\n",
    "\n",
    "sorted(scores.keys())\n",
    "LR_fit_time = scores['fit_time'].mean()\n",
    "LR_score_time = scores['score_time'].mean()\n",
    "LR_accuracy = scores['test_accuracy'].mean()\n",
    "LR_precision = scores['test_precision_macro'].mean()\n",
    "LR_recall = scores['test_recall_macro'].mean()\n",
    "LR_f1 = scores['test_f1_weighted'].mean()\n",
    "LR_roc = scores['test_roc_auc'].mean()"
   ]
  },
  {
   "cell_type": "code",
   "execution_count": 62,
   "metadata": {},
   "outputs": [],
   "source": [
    "decision_tree = DecisionTreeClassifier()\n",
    "\n",
    "scoring = ['accuracy', 'precision_macro', 'recall_macro' , 'f1_weighted', 'roc_auc']\n",
    "scores = cross_validate(decision_tree, x_train, y_train, scoring=scoring, cv=20)\n",
    "\n",
    "sorted(scores.keys())\n",
    "dtree_fit_time = scores['fit_time'].mean()\n",
    "dtree_score_time = scores['score_time'].mean()\n",
    "dtree_accuracy = scores['test_accuracy'].mean()\n",
    "dtree_precision = scores['test_precision_macro'].mean()\n",
    "dtree_recall = scores['test_recall_macro'].mean()\n",
    "dtree_f1 = scores['test_f1_weighted'].mean()\n",
    "dtree_roc = scores['test_roc_auc'].mean()"
   ]
  },
  {
   "cell_type": "code",
   "execution_count": 63,
   "metadata": {},
   "outputs": [],
   "source": [
    "SVM = SVC(probability = True)\n",
    "\n",
    "scoring = ['accuracy','precision_macro', 'recall_macro' , 'f1_weighted', 'roc_auc']\n",
    "scores = cross_validate(SVM, x_train, y_train, scoring=scoring, cv=20)\n",
    "\n",
    "sorted(scores.keys())\n",
    "SVM_fit_time = scores['fit_time'].mean()\n",
    "SVM_score_time = scores['score_time'].mean()\n",
    "SVM_accuracy = scores['test_accuracy'].mean()\n",
    "SVM_precision = scores['test_precision_macro'].mean()\n",
    "SVM_recall = scores['test_recall_macro'].mean()\n",
    "SVM_f1 = scores['test_f1_weighted'].mean()\n",
    "SVM_roc = scores['test_roc_auc'].mean()"
   ]
  },
  {
   "cell_type": "code",
   "execution_count": 64,
   "metadata": {},
   "outputs": [],
   "source": [
    "LDA = LinearDiscriminantAnalysis()\n",
    "\n",
    "scoring = ['accuracy', 'precision_macro', 'recall_macro' , 'f1_weighted', 'roc_auc']\n",
    "scores = cross_validate(LDA, x_train, y_train, scoring=scoring, cv=20)\n",
    "\n",
    "sorted(scores.keys())\n",
    "LDA_fit_time = scores['fit_time'].mean()\n",
    "LDA_score_time = scores['score_time'].mean()\n",
    "LDA_accuracy = scores['test_accuracy'].mean()\n",
    "LDA_precision = scores['test_precision_macro'].mean()\n",
    "LDA_recall = scores['test_recall_macro'].mean()\n",
    "LDA_f1 = scores['test_f1_weighted'].mean()\n",
    "LDA_roc = scores['test_roc_auc'].mean()"
   ]
  },
  {
   "cell_type": "code",
   "execution_count": 65,
   "metadata": {},
   "outputs": [],
   "source": [
    "QDA = QuadraticDiscriminantAnalysis()\n",
    "\n",
    "scoring = ['accuracy', 'precision_macro', 'recall_macro' , 'f1_weighted', 'roc_auc']\n",
    "scores = cross_validate(QDA, x_train, y_train, scoring=scoring, cv=20)\n",
    "\n",
    "sorted(scores.keys())\n",
    "QDA_fit_time = scores['fit_time'].mean()\n",
    "QDA_score_time = scores['score_time'].mean()\n",
    "QDA_accuracy = scores['test_accuracy'].mean()\n",
    "QDA_precision = scores['test_precision_macro'].mean()\n",
    "QDA_recall = scores['test_recall_macro'].mean()\n",
    "QDA_f1 = scores['test_f1_weighted'].mean()\n",
    "QDA_roc = scores['test_roc_auc'].mean()"
   ]
  },
  {
   "cell_type": "code",
   "execution_count": 66,
   "metadata": {},
   "outputs": [],
   "source": [
    "random_forest = RandomForestClassifier()\n",
    "\n",
    "scoring = ['accuracy', 'precision_macro', 'recall_macro' , 'f1_weighted', 'roc_auc']\n",
    "scores = cross_validate(random_forest, x_train, y_train, scoring=scoring, cv=20)\n",
    "\n",
    "sorted(scores.keys())\n",
    "forest_fit_time = scores['fit_time'].mean()\n",
    "forest_score_time = scores['score_time'].mean()\n",
    "forest_accuracy = scores['test_accuracy'].mean()\n",
    "forest_precision = scores['test_precision_macro'].mean()\n",
    "forest_recall = scores['test_recall_macro'].mean()\n",
    "forest_f1 = scores['test_f1_weighted'].mean()\n",
    "forest_roc = scores['test_roc_auc'].mean()"
   ]
  },
  {
   "cell_type": "code",
   "execution_count": 67,
   "metadata": {},
   "outputs": [],
   "source": [
    "KNN = KNeighborsClassifier()\n",
    "\n",
    "scoring = ['accuracy', 'precision_macro', 'recall_macro' , 'f1_weighted', 'roc_auc']\n",
    "scores = cross_validate(KNN, x_train, y_train, scoring=scoring, cv=20)\n",
    "\n",
    "sorted(scores.keys())\n",
    "KNN_fit_time = scores['fit_time'].mean()\n",
    "KNN_score_time = scores['score_time'].mean()\n",
    "KNN_accuracy = scores['test_accuracy'].mean()\n",
    "KNN_precision = scores['test_precision_macro'].mean()\n",
    "KNN_recall = scores['test_recall_macro'].mean()\n",
    "KNN_f1 = scores['test_f1_weighted'].mean()\n",
    "KNN_roc = scores['test_roc_auc'].mean()"
   ]
  },
  {
   "cell_type": "code",
   "execution_count": 68,
   "metadata": {},
   "outputs": [],
   "source": [
    "bayes = GaussianNB()\n",
    "\n",
    "scoring = ['accuracy', 'precision_macro', 'recall_macro' , 'f1_weighted', 'roc_auc']\n",
    "scores = cross_validate(bayes, x_train, y_train, scoring=scoring, cv=20)\n",
    "\n",
    "sorted(scores.keys())\n",
    "bayes_fit_time = scores['fit_time'].mean()\n",
    "bayes_score_time = scores['score_time'].mean()\n",
    "bayes_accuracy = scores['test_accuracy'].mean()\n",
    "bayes_precision = scores['test_precision_macro'].mean()\n",
    "bayes_recall = scores['test_recall_macro'].mean()\n",
    "bayes_f1 = scores['test_f1_weighted'].mean()\n",
    "bayes_roc = scores['test_roc_auc'].mean()"
   ]
  },
  {
   "cell_type": "code",
   "execution_count": 69,
   "metadata": {},
   "outputs": [],
   "source": [
    "GB = GradientBoostingClassifier()\n",
    "\n",
    "scoring = ['accuracy', 'precision_macro', 'recall_macro' , 'f1_weighted', 'roc_auc']\n",
    "scores = cross_validate(GB, x_train, y_train, scoring=scoring, cv=20)\n",
    "\n",
    "sorted(scores.keys())\n",
    "gb_fit_time = scores['fit_time'].mean()\n",
    "gb_score_time = scores['score_time'].mean()\n",
    "gb_accuracy = scores['test_accuracy'].mean()\n",
    "gb_precision = scores['test_precision_macro'].mean()\n",
    "gb_recall = scores['test_recall_macro'].mean()\n",
    "gb_f1 = scores['test_f1_weighted'].mean()\n",
    "gb_roc = scores['test_roc_auc'].mean()\n"
   ]
  },
  {
   "cell_type": "code",
   "execution_count": 70,
   "metadata": {},
   "outputs": [],
   "source": [
    "AB = AdaBoostClassifier()\n",
    "\n",
    "scoring = ['accuracy', 'precision_macro', 'recall_macro' , 'f1_weighted', 'roc_auc']\n",
    "scores = cross_validate(AB, x_train, y_train, scoring=scoring, cv=20)\n",
    "\n",
    "sorted(scores.keys())\n",
    "ab_fit_time = scores['fit_time'].mean()\n",
    "ab_score_time = scores['score_time'].mean()\n",
    "ab_accuracy = scores['test_accuracy'].mean()\n",
    "ab_precision = scores['test_precision_macro'].mean()\n",
    "ab_recall = scores['test_recall_macro'].mean()\n",
    "ab_f1 = scores['test_f1_weighted'].mean()\n",
    "ab_roc = scores['test_roc_auc'].mean()\n",
    "\n"
   ]
  },
  {
   "cell_type": "code",
   "execution_count": 71,
   "metadata": {
    "scrolled": true
   },
   "outputs": [
    {
     "data": {
      "text/html": [
       "<div>\n",
       "<style scoped>\n",
       "    .dataframe tbody tr th:only-of-type {\n",
       "        vertical-align: middle;\n",
       "    }\n",
       "\n",
       "    .dataframe tbody tr th {\n",
       "        vertical-align: top;\n",
       "    }\n",
       "\n",
       "    .dataframe thead th {\n",
       "        text-align: right;\n",
       "    }\n",
       "</style>\n",
       "<table border=\"1\" class=\"dataframe\">\n",
       "  <thead>\n",
       "    <tr style=\"text-align: right;\">\n",
       "      <th></th>\n",
       "      <th>Model</th>\n",
       "      <th>Fitting time</th>\n",
       "      <th>Scoring time</th>\n",
       "      <th>Accuracy</th>\n",
       "      <th>Precision</th>\n",
       "      <th>Recall</th>\n",
       "      <th>F1_score</th>\n",
       "      <th>AUC_ROC</th>\n",
       "    </tr>\n",
       "  </thead>\n",
       "  <tbody>\n",
       "    <tr>\n",
       "      <th>5</th>\n",
       "      <td>Random Forest</td>\n",
       "      <td>0.897970</td>\n",
       "      <td>0.055487</td>\n",
       "      <td>0.941925</td>\n",
       "      <td>0.941818</td>\n",
       "      <td>0.936451</td>\n",
       "      <td>0.941754</td>\n",
       "      <td>0.978894</td>\n",
       "    </tr>\n",
       "    <tr>\n",
       "      <th>8</th>\n",
       "      <td>Gradient Boosting</td>\n",
       "      <td>1.202493</td>\n",
       "      <td>0.020805</td>\n",
       "      <td>0.933851</td>\n",
       "      <td>0.934042</td>\n",
       "      <td>0.927080</td>\n",
       "      <td>0.933581</td>\n",
       "      <td>0.977875</td>\n",
       "    </tr>\n",
       "    <tr>\n",
       "      <th>9</th>\n",
       "      <td>Adaptative Boosting</td>\n",
       "      <td>0.450958</td>\n",
       "      <td>0.055726</td>\n",
       "      <td>0.922981</td>\n",
       "      <td>0.921339</td>\n",
       "      <td>0.917040</td>\n",
       "      <td>0.922754</td>\n",
       "      <td>0.974822</td>\n",
       "    </tr>\n",
       "    <tr>\n",
       "      <th>2</th>\n",
       "      <td>Support Vector Machine</td>\n",
       "      <td>1.821261</td>\n",
       "      <td>0.039353</td>\n",
       "      <td>0.919565</td>\n",
       "      <td>0.920308</td>\n",
       "      <td>0.910187</td>\n",
       "      <td>0.919062</td>\n",
       "      <td>0.966002</td>\n",
       "    </tr>\n",
       "    <tr>\n",
       "      <th>1</th>\n",
       "      <td>Decision Tree</td>\n",
       "      <td>0.053680</td>\n",
       "      <td>0.014930</td>\n",
       "      <td>0.905901</td>\n",
       "      <td>0.901293</td>\n",
       "      <td>0.902907</td>\n",
       "      <td>0.906029</td>\n",
       "      <td>0.902907</td>\n",
       "    </tr>\n",
       "    <tr>\n",
       "      <th>7</th>\n",
       "      <td>Bayes</td>\n",
       "      <td>0.006927</td>\n",
       "      <td>0.011664</td>\n",
       "      <td>0.898447</td>\n",
       "      <td>0.895498</td>\n",
       "      <td>0.891287</td>\n",
       "      <td>0.898173</td>\n",
       "      <td>0.946015</td>\n",
       "    </tr>\n",
       "    <tr>\n",
       "      <th>6</th>\n",
       "      <td>K-Nearest Neighbors</td>\n",
       "      <td>0.041813</td>\n",
       "      <td>0.066451</td>\n",
       "      <td>0.892547</td>\n",
       "      <td>0.894388</td>\n",
       "      <td>0.878756</td>\n",
       "      <td>0.891471</td>\n",
       "      <td>0.935624</td>\n",
       "    </tr>\n",
       "    <tr>\n",
       "      <th>4</th>\n",
       "      <td>Quadratic Discriminant Analysis</td>\n",
       "      <td>0.014309</td>\n",
       "      <td>0.022563</td>\n",
       "      <td>0.896273</td>\n",
       "      <td>0.892297</td>\n",
       "      <td>0.890369</td>\n",
       "      <td>0.896182</td>\n",
       "      <td>0.947979</td>\n",
       "    </tr>\n",
       "    <tr>\n",
       "      <th>0</th>\n",
       "      <td>Logistic Regression</td>\n",
       "      <td>0.057815</td>\n",
       "      <td>0.021574</td>\n",
       "      <td>0.869565</td>\n",
       "      <td>0.879115</td>\n",
       "      <td>0.847123</td>\n",
       "      <td>0.866659</td>\n",
       "      <td>0.938211</td>\n",
       "    </tr>\n",
       "    <tr>\n",
       "      <th>3</th>\n",
       "      <td>Linear Discriminant Analysis</td>\n",
       "      <td>0.032934</td>\n",
       "      <td>0.019124</td>\n",
       "      <td>0.863975</td>\n",
       "      <td>0.878131</td>\n",
       "      <td>0.838212</td>\n",
       "      <td>0.860117</td>\n",
       "      <td>0.939924</td>\n",
       "    </tr>\n",
       "  </tbody>\n",
       "</table>\n",
       "</div>"
      ],
      "text/plain": [
       "                             Model  Fitting time  Scoring time  Accuracy  \\\n",
       "5                    Random Forest      0.897970      0.055487  0.941925   \n",
       "8                Gradient Boosting      1.202493      0.020805  0.933851   \n",
       "9              Adaptative Boosting      0.450958      0.055726  0.922981   \n",
       "2           Support Vector Machine      1.821261      0.039353  0.919565   \n",
       "1                    Decision Tree      0.053680      0.014930  0.905901   \n",
       "7                            Bayes      0.006927      0.011664  0.898447   \n",
       "6              K-Nearest Neighbors      0.041813      0.066451  0.892547   \n",
       "4  Quadratic Discriminant Analysis      0.014309      0.022563  0.896273   \n",
       "0              Logistic Regression      0.057815      0.021574  0.869565   \n",
       "3     Linear Discriminant Analysis      0.032934      0.019124  0.863975   \n",
       "\n",
       "   Precision    Recall  F1_score   AUC_ROC  \n",
       "5   0.941818  0.936451  0.941754  0.978894  \n",
       "8   0.934042  0.927080  0.933581  0.977875  \n",
       "9   0.921339  0.917040  0.922754  0.974822  \n",
       "2   0.920308  0.910187  0.919062  0.966002  \n",
       "1   0.901293  0.902907  0.906029  0.902907  \n",
       "7   0.895498  0.891287  0.898173  0.946015  \n",
       "6   0.894388  0.878756  0.891471  0.935624  \n",
       "4   0.892297  0.890369  0.896182  0.947979  \n",
       "0   0.879115  0.847123  0.866659  0.938211  \n",
       "3   0.878131  0.838212  0.860117  0.939924  "
      ]
     },
     "execution_count": 71,
     "metadata": {},
     "output_type": "execute_result"
    }
   ],
   "source": [
    "models_initial = pd.DataFrame({\n",
    "    'Model'       : ['Logistic Regression', 'Decision Tree', 'Support Vector Machine', 'Linear Discriminant Analysis', 'Quadratic Discriminant Analysis', 'Random Forest', 'K-Nearest Neighbors', 'Bayes','Gradient Boosting','Adaptative Boosting'],\n",
    "    'Fitting time': [LR_fit_time, dtree_fit_time, SVM_fit_time, LDA_fit_time, QDA_fit_time, forest_fit_time, KNN_fit_time, bayes_fit_time,gb_fit_time,ab_fit_time],\n",
    "    'Scoring time': [LR_score_time, dtree_score_time, SVM_score_time, LDA_score_time, QDA_score_time, forest_score_time, KNN_score_time, bayes_score_time,gb_score_time,ab_score_time],\n",
    "    'Accuracy'    : [LR_accuracy, dtree_accuracy, SVM_accuracy, LDA_accuracy, QDA_accuracy, forest_accuracy, KNN_accuracy, bayes_accuracy,gb_accuracy,ab_accuracy],\n",
    "    'Precision'   : [LR_precision, dtree_precision, SVM_precision, LDA_precision, QDA_precision, forest_precision, KNN_precision, bayes_precision,gb_precision,ab_precision],\n",
    "    'Recall'      : [LR_recall, dtree_recall, SVM_recall, LDA_recall, QDA_recall, forest_recall, KNN_recall, bayes_recall,gb_recall,ab_recall],\n",
    "    'F1_score'    : [LR_f1, dtree_f1, SVM_f1, LDA_f1, QDA_f1, forest_f1, KNN_f1, bayes_f1,gb_f1,ab_f1],\n",
    "    'AUC_ROC'     : [LR_roc, dtree_roc, SVM_roc, LDA_roc, QDA_roc, forest_roc, KNN_roc, bayes_roc,gb_roc,ab_roc],\n",
    "    }, columns = ['Model', 'Fitting time', 'Scoring time', 'Accuracy', 'Precision', 'Recall', 'F1_score', 'AUC_ROC'])\n",
    "\n",
    "models_initial.sort_values(by='Precision', ascending=False)"
   ]
  },
  {
   "cell_type": "markdown",
   "metadata": {},
   "source": [
    "We can now see that we should simply used scaled data, but we'll try some other preprocessing techniques"
   ]
  },
  {
   "cell_type": "code",
   "execution_count": 72,
   "metadata": {},
   "outputs": [],
   "source": [
    "models = [LogisticRegression(max_iter=10000),\n",
    "         DecisionTreeClassifier(),\n",
    "         SVC(probability = True),\n",
    "         LinearDiscriminantAnalysis(),\n",
    "         QuadraticDiscriminantAnalysis(),\n",
    "         RandomForestClassifier(),\n",
    "         KNeighborsClassifier(),\n",
    "         GaussianNB()]\n",
    "\n",
    "scoring = ['accuracy', 'precision_macro', 'recall_macro' , 'f1_weighted', 'roc_auc']"
   ]
  },
  {
   "cell_type": "code",
   "execution_count": 73,
   "metadata": {},
   "outputs": [],
   "source": [
    "x_train, x_test, y_train, y_test = train_test_split(x_scaled,y,test_size=0.3)"
   ]
  },
  {
   "cell_type": "code",
   "execution_count": 74,
   "metadata": {
    "scrolled": true
   },
   "outputs": [
    {
     "name": "stderr",
     "output_type": "stream",
     "text": [
      "C:\\Users\\ZBook\\anaconda3\\lib\\site-packages\\sklearn\\discriminant_analysis.py:715: UserWarning: Variables are collinear\n",
      "  warnings.warn(\"Variables are collinear\")\n",
      "C:\\Users\\ZBook\\anaconda3\\lib\\site-packages\\sklearn\\discriminant_analysis.py:715: UserWarning: Variables are collinear\n",
      "  warnings.warn(\"Variables are collinear\")\n"
     ]
    }
   ],
   "source": [
    "for model in models:\n",
    "    scores = cross_validate(model, x_train, y_train, scoring=scoring, cv=20)\n",
    "    #print(model, scores['fit_time'].mean(), scores['score_time'].mean(), scores['test_accuracy'].mean(),\n",
    "          #scores['test_precision_macro'].mean(), scores['test_recall_macro'].mean(), \n",
    "          #scores['test_f1_weighted'].mean(), scores['test_roc_auc'].mean())"
   ]
  },
  {
   "cell_type": "code",
   "execution_count": 75,
   "metadata": {},
   "outputs": [],
   "source": [
    "models_ens = list(zip(['LR', 'DT', 'SVM', 'LDA', 'QDA', 'RF', 'KNN', 'NB'], models))\n",
    "\n",
    "model_ens = VotingClassifier(estimators = models_ens, voting = 'hard')\n",
    "model_ens.fit(x_train, y_train)\n",
    "pred = model_ens.predict(x_test)\n",
    "#prob = model_ens.predict_proba(X_test)[:,1]\n",
    "\n",
    "acc_hard = accuracy_score(y_test, pred)\n",
    "prec_hard = precision_score(y_test, pred)\n",
    "recall_hard = recall_score(y_test, pred)\n",
    "f1_hard = f1_score(y_test, pred)\n",
    "roc_auc_hard = 'not applicable'"
   ]
  },
  {
   "cell_type": "code",
   "execution_count": 76,
   "metadata": {},
   "outputs": [],
   "source": [
    "model_ens = VotingClassifier(estimators = models_ens, voting = 'soft')\n",
    "model_ens.fit(x_train, y_train)\n",
    "pred = model_ens.predict(x_test)\n",
    "prob = model_ens.predict_proba(x_test)[:,1]\n",
    "\n",
    "acc_soft = accuracy_score(y_test, pred)\n",
    "prec_soft = precision_score(y_test, pred)\n",
    "recall_soft = recall_score(y_test, pred)\n",
    "f1_soft = f1_score(y_test, pred)\n",
    "roc_auc_soft = roc_auc_score(y_test, prob)"
   ]
  },
  {
   "cell_type": "code",
   "execution_count": 77,
   "metadata": {
    "scrolled": true
   },
   "outputs": [
    {
     "data": {
      "text/html": [
       "<div>\n",
       "<style scoped>\n",
       "    .dataframe tbody tr th:only-of-type {\n",
       "        vertical-align: middle;\n",
       "    }\n",
       "\n",
       "    .dataframe tbody tr th {\n",
       "        vertical-align: top;\n",
       "    }\n",
       "\n",
       "    .dataframe thead th {\n",
       "        text-align: right;\n",
       "    }\n",
       "</style>\n",
       "<table border=\"1\" class=\"dataframe\">\n",
       "  <thead>\n",
       "    <tr style=\"text-align: right;\">\n",
       "      <th></th>\n",
       "      <th>Model</th>\n",
       "      <th>Accuracy</th>\n",
       "      <th>Precision</th>\n",
       "      <th>Recall</th>\n",
       "      <th>F1_score</th>\n",
       "      <th>AUC_ROC</th>\n",
       "    </tr>\n",
       "  </thead>\n",
       "  <tbody>\n",
       "    <tr>\n",
       "      <th>1</th>\n",
       "      <td>Ensembling_soft</td>\n",
       "      <td>0.939899</td>\n",
       "      <td>0.917117</td>\n",
       "      <td>0.932234</td>\n",
       "      <td>0.924614</td>\n",
       "      <td>0.98337</td>\n",
       "    </tr>\n",
       "    <tr>\n",
       "      <th>0</th>\n",
       "      <td>Ensebling_hard</td>\n",
       "      <td>0.928313</td>\n",
       "      <td>0.946108</td>\n",
       "      <td>0.868132</td>\n",
       "      <td>0.905444</td>\n",
       "      <td>not applicable</td>\n",
       "    </tr>\n",
       "  </tbody>\n",
       "</table>\n",
       "</div>"
      ],
      "text/plain": [
       "             Model  Accuracy  Precision    Recall  F1_score         AUC_ROC\n",
       "1  Ensembling_soft  0.939899   0.917117  0.932234  0.924614         0.98337\n",
       "0   Ensebling_hard  0.928313   0.946108  0.868132  0.905444  not applicable"
      ]
     },
     "execution_count": 77,
     "metadata": {},
     "output_type": "execute_result"
    }
   ],
   "source": [
    "models_ensembling = pd.DataFrame({\n",
    "    'Model'       : ['Ensembling_hard', 'Ensembling_soft'],\n",
    "    'Accuracy'    : [acc_hard, acc_soft],\n",
    "    'Precision'   : [prec_hard, prec_soft],\n",
    "    'Recall'      : [recall_hard, recall_soft],\n",
    "    'F1_score'    : [f1_hard, f1_soft],\n",
    "    'AUC_ROC'     : [roc_auc_hard, roc_auc_soft],\n",
    "    }, columns = ['Model', 'Accuracy', 'Precision', 'Recall', 'F1_score', 'AUC_ROC'])\n",
    "\n",
    "models_ensembling.sort_values(by='Accuracy', ascending=False)\n",
    "\n"
   ]
  },
  {
   "cell_type": "markdown",
   "metadata": {},
   "source": [
    "Way more precision using the ensembling hard method, so we'll just keep it (it is the default voting method)"
   ]
  },
  {
   "cell_type": "markdown",
   "metadata": {},
   "source": [
    "## Feature selection using Linear Support Vector Machine and \"Select From Model\""
   ]
  },
  {
   "cell_type": "code",
   "execution_count": 78,
   "metadata": {},
   "outputs": [
    {
     "data": {
      "text/plain": [
       "(4601, 28)"
      ]
     },
     "execution_count": 78,
     "metadata": {},
     "output_type": "execute_result"
    }
   ],
   "source": [
    "lsvc = LinearSVC(C=0.05, penalty=\"l1\", dual=False).fit(x_scaled, y)\n",
    "model = SelectFromModel(lsvc, prefit=True)\n",
    "x_svc = model.transform(x_scaled)\n",
    "x_svc.shape #reduction "
   ]
  },
  {
   "cell_type": "code",
   "execution_count": 79,
   "metadata": {},
   "outputs": [],
   "source": [
    "x_train, x_test, y_train, y_test = train_test_split(x_svc,y,test_size=0.34)"
   ]
  },
  {
   "cell_type": "code",
   "execution_count": 80,
   "metadata": {},
   "outputs": [],
   "source": [
    "LR = LogisticRegression(max_iter=10000)\n",
    "\n",
    "scoring = ['accuracy', 'precision_macro', 'recall_macro' , 'f1_weighted', 'roc_auc']\n",
    "scores = cross_validate(LR, x_train, y_train, scoring=scoring, cv=20)\n",
    "\n",
    "sorted(scores.keys())\n",
    "LR_fit_time = scores['fit_time'].mean()\n",
    "LR_score_time = scores['score_time'].mean()\n",
    "LR_accuracy = scores['test_accuracy'].mean()\n",
    "LR_precision = scores['test_precision_macro'].mean()\n",
    "LR_recall = scores['test_recall_macro'].mean()\n",
    "LR_f1 = scores['test_f1_weighted'].mean()\n",
    "LR_roc = scores['test_roc_auc'].mean()"
   ]
  },
  {
   "cell_type": "code",
   "execution_count": 81,
   "metadata": {},
   "outputs": [],
   "source": [
    "decision_tree = DecisionTreeClassifier()\n",
    "\n",
    "scoring = ['accuracy', 'precision_macro', 'recall_macro' , 'f1_weighted', 'roc_auc']\n",
    "scores = cross_validate(decision_tree, x_train, y_train, scoring=scoring, cv=20)\n",
    "\n",
    "sorted(scores.keys())\n",
    "dtree_fit_time = scores['fit_time'].mean()\n",
    "dtree_score_time = scores['score_time'].mean()\n",
    "dtree_accuracy = scores['test_accuracy'].mean()\n",
    "dtree_precision = scores['test_precision_macro'].mean()\n",
    "dtree_recall = scores['test_recall_macro'].mean()\n",
    "dtree_f1 = scores['test_f1_weighted'].mean()\n",
    "dtree_roc = scores['test_roc_auc'].mean()"
   ]
  },
  {
   "cell_type": "code",
   "execution_count": 82,
   "metadata": {},
   "outputs": [],
   "source": [
    "SVM = SVC(probability = True)\n",
    "\n",
    "scoring = ['accuracy','precision_macro', 'recall_macro' , 'f1_weighted', 'roc_auc']\n",
    "scores = cross_validate(SVM, x_train, y_train, scoring=scoring, cv=20)\n",
    "\n",
    "sorted(scores.keys())\n",
    "SVM_fit_time = scores['fit_time'].mean()\n",
    "SVM_score_time = scores['score_time'].mean()\n",
    "SVM_accuracy = scores['test_accuracy'].mean()\n",
    "SVM_precision = scores['test_precision_macro'].mean()\n",
    "SVM_recall = scores['test_recall_macro'].mean()\n",
    "SVM_f1 = scores['test_f1_weighted'].mean()\n",
    "SVM_roc = scores['test_roc_auc'].mean()"
   ]
  },
  {
   "cell_type": "code",
   "execution_count": 83,
   "metadata": {},
   "outputs": [],
   "source": [
    "LDA = LinearDiscriminantAnalysis()\n",
    "\n",
    "scoring = ['accuracy', 'precision_macro', 'recall_macro' , 'f1_weighted', 'roc_auc']\n",
    "scores = cross_validate(LDA, x_train, y_train, scoring=scoring, cv=20)\n",
    "\n",
    "sorted(scores.keys())\n",
    "LDA_fit_time = scores['fit_time'].mean()\n",
    "LDA_score_time = scores['score_time'].mean()\n",
    "LDA_accuracy = scores['test_accuracy'].mean()\n",
    "LDA_precision = scores['test_precision_macro'].mean()\n",
    "LDA_recall = scores['test_recall_macro'].mean()\n",
    "LDA_f1 = scores['test_f1_weighted'].mean()\n",
    "LDA_roc = scores['test_roc_auc'].mean()"
   ]
  },
  {
   "cell_type": "code",
   "execution_count": 84,
   "metadata": {},
   "outputs": [],
   "source": [
    "QDA = QuadraticDiscriminantAnalysis()\n",
    "\n",
    "scoring = ['accuracy', 'precision_macro', 'recall_macro' , 'f1_weighted', 'roc_auc']\n",
    "scores = cross_validate(QDA, x_train, y_train, scoring=scoring, cv=20)\n",
    "\n",
    "sorted(scores.keys())\n",
    "QDA_fit_time = scores['fit_time'].mean()\n",
    "QDA_score_time = scores['score_time'].mean()\n",
    "QDA_accuracy = scores['test_accuracy'].mean()\n",
    "QDA_precision = scores['test_precision_macro'].mean()\n",
    "QDA_recall = scores['test_recall_macro'].mean()\n",
    "QDA_f1 = scores['test_f1_weighted'].mean()\n",
    "QDA_roc = scores['test_roc_auc'].mean()"
   ]
  },
  {
   "cell_type": "code",
   "execution_count": 85,
   "metadata": {},
   "outputs": [],
   "source": [
    "random_forest = RandomForestClassifier()\n",
    "\n",
    "scoring = ['accuracy', 'precision_macro', 'recall_macro' , 'f1_weighted', 'roc_auc']\n",
    "scores = cross_validate(random_forest, x_train, y_train, scoring=scoring, cv=20)\n",
    "\n",
    "sorted(scores.keys())\n",
    "forest_fit_time = scores['fit_time'].mean()\n",
    "forest_score_time = scores['score_time'].mean()\n",
    "forest_accuracy = scores['test_accuracy'].mean()\n",
    "forest_precision = scores['test_precision_macro'].mean()\n",
    "forest_recall = scores['test_recall_macro'].mean()\n",
    "forest_f1 = scores['test_f1_weighted'].mean()\n",
    "forest_roc = scores['test_roc_auc'].mean()"
   ]
  },
  {
   "cell_type": "code",
   "execution_count": 86,
   "metadata": {},
   "outputs": [],
   "source": [
    "KNN = KNeighborsClassifier()\n",
    "\n",
    "scoring = ['accuracy', 'precision_macro', 'recall_macro' , 'f1_weighted', 'roc_auc']\n",
    "scores = cross_validate(KNN, x_train, y_train, scoring=scoring, cv=20)\n",
    "\n",
    "sorted(scores.keys())\n",
    "KNN_fit_time = scores['fit_time'].mean()\n",
    "KNN_score_time = scores['score_time'].mean()\n",
    "KNN_accuracy = scores['test_accuracy'].mean()\n",
    "KNN_precision = scores['test_precision_macro'].mean()\n",
    "KNN_recall = scores['test_recall_macro'].mean()\n",
    "KNN_f1 = scores['test_f1_weighted'].mean()\n",
    "KNN_roc = scores['test_roc_auc'].mean()"
   ]
  },
  {
   "cell_type": "code",
   "execution_count": 87,
   "metadata": {},
   "outputs": [],
   "source": [
    "bayes = GaussianNB()\n",
    "\n",
    "scoring = ['accuracy', 'precision_macro', 'recall_macro' , 'f1_weighted', 'roc_auc']\n",
    "scores = cross_validate(bayes, x_train, y_train, scoring=scoring, cv=20)\n",
    "\n",
    "sorted(scores.keys())\n",
    "bayes_fit_time = scores['fit_time'].mean()\n",
    "bayes_score_time = scores['score_time'].mean()\n",
    "bayes_accuracy = scores['test_accuracy'].mean()\n",
    "bayes_precision = scores['test_precision_macro'].mean()\n",
    "bayes_recall = scores['test_recall_macro'].mean()\n",
    "bayes_f1 = scores['test_f1_weighted'].mean()\n",
    "bayes_roc = scores['test_roc_auc'].mean()"
   ]
  },
  {
   "cell_type": "code",
   "execution_count": 88,
   "metadata": {},
   "outputs": [],
   "source": [
    "GB = GradientBoostingClassifier()\n",
    "\n",
    "scoring = ['accuracy', 'precision_macro', 'recall_macro' , 'f1_weighted', 'roc_auc']\n",
    "scores = cross_validate(GB, x_train, y_train, scoring=scoring, cv=20)\n",
    "\n",
    "sorted(scores.keys())\n",
    "gb_fit_time = scores['fit_time'].mean()\n",
    "gb_score_time = scores['score_time'].mean()\n",
    "gb_accuracy = scores['test_accuracy'].mean()\n",
    "gb_precision = scores['test_precision_macro'].mean()\n",
    "gb_recall = scores['test_recall_macro'].mean()\n",
    "gb_f1 = scores['test_f1_weighted'].mean()\n",
    "gb_roc = scores['test_roc_auc'].mean()\n"
   ]
  },
  {
   "cell_type": "code",
   "execution_count": 89,
   "metadata": {},
   "outputs": [],
   "source": [
    "AB = AdaBoostClassifier()\n",
    "\n",
    "scoring = ['accuracy', 'precision_macro', 'recall_macro' , 'f1_weighted', 'roc_auc']\n",
    "scores = cross_validate(AB, x_train, y_train, scoring=scoring, cv=20)\n",
    "\n",
    "sorted(scores.keys())\n",
    "ab_fit_time = scores['fit_time'].mean()\n",
    "ab_score_time = scores['score_time'].mean()\n",
    "ab_accuracy = scores['test_accuracy'].mean()\n",
    "ab_precision = scores['test_precision_macro'].mean()\n",
    "ab_recall = scores['test_recall_macro'].mean()\n",
    "ab_f1 = scores['test_f1_weighted'].mean()\n",
    "ab_roc = scores['test_roc_auc'].mean()\n",
    "\n"
   ]
  },
  {
   "cell_type": "code",
   "execution_count": 90,
   "metadata": {
    "scrolled": true
   },
   "outputs": [
    {
     "data": {
      "text/html": [
       "<div>\n",
       "<style scoped>\n",
       "    .dataframe tbody tr th:only-of-type {\n",
       "        vertical-align: middle;\n",
       "    }\n",
       "\n",
       "    .dataframe tbody tr th {\n",
       "        vertical-align: top;\n",
       "    }\n",
       "\n",
       "    .dataframe thead th {\n",
       "        text-align: right;\n",
       "    }\n",
       "</style>\n",
       "<table border=\"1\" class=\"dataframe\">\n",
       "  <thead>\n",
       "    <tr style=\"text-align: right;\">\n",
       "      <th></th>\n",
       "      <th>Model</th>\n",
       "      <th>Fitting time</th>\n",
       "      <th>Scoring time</th>\n",
       "      <th>Accuracy</th>\n",
       "      <th>Precision</th>\n",
       "      <th>Recall</th>\n",
       "      <th>F1_score</th>\n",
       "      <th>AUC_ROC</th>\n",
       "    </tr>\n",
       "  </thead>\n",
       "  <tbody>\n",
       "    <tr>\n",
       "      <th>5</th>\n",
       "      <td>Random Forest</td>\n",
       "      <td>0.798723</td>\n",
       "      <td>0.049590</td>\n",
       "      <td>0.949266</td>\n",
       "      <td>0.950532</td>\n",
       "      <td>0.943342</td>\n",
       "      <td>0.949051</td>\n",
       "      <td>0.982313</td>\n",
       "    </tr>\n",
       "    <tr>\n",
       "      <th>8</th>\n",
       "      <td>Gradient Boosting</td>\n",
       "      <td>1.231647</td>\n",
       "      <td>0.009925</td>\n",
       "      <td>0.940707</td>\n",
       "      <td>0.941985</td>\n",
       "      <td>0.933618</td>\n",
       "      <td>0.940403</td>\n",
       "      <td>0.982850</td>\n",
       "    </tr>\n",
       "    <tr>\n",
       "      <th>9</th>\n",
       "      <td>Adaptative Boosting</td>\n",
       "      <td>0.378008</td>\n",
       "      <td>0.033257</td>\n",
       "      <td>0.934126</td>\n",
       "      <td>0.933841</td>\n",
       "      <td>0.928229</td>\n",
       "      <td>0.933937</td>\n",
       "      <td>0.976600</td>\n",
       "    </tr>\n",
       "    <tr>\n",
       "      <th>2</th>\n",
       "      <td>Support Vector Machine</td>\n",
       "      <td>1.690931</td>\n",
       "      <td>0.029570</td>\n",
       "      <td>0.925224</td>\n",
       "      <td>0.926756</td>\n",
       "      <td>0.915931</td>\n",
       "      <td>0.924642</td>\n",
       "      <td>0.966810</td>\n",
       "    </tr>\n",
       "    <tr>\n",
       "      <th>1</th>\n",
       "      <td>Decision Tree</td>\n",
       "      <td>0.036498</td>\n",
       "      <td>0.007182</td>\n",
       "      <td>0.914356</td>\n",
       "      <td>0.910179</td>\n",
       "      <td>0.911410</td>\n",
       "      <td>0.914387</td>\n",
       "      <td>0.911324</td>\n",
       "    </tr>\n",
       "    <tr>\n",
       "      <th>3</th>\n",
       "      <td>Linear Discriminant Analysis</td>\n",
       "      <td>0.026224</td>\n",
       "      <td>0.009912</td>\n",
       "      <td>0.884065</td>\n",
       "      <td>0.894001</td>\n",
       "      <td>0.863376</td>\n",
       "      <td>0.881568</td>\n",
       "      <td>0.943603</td>\n",
       "    </tr>\n",
       "    <tr>\n",
       "      <th>6</th>\n",
       "      <td>K-Nearest Neighbors</td>\n",
       "      <td>0.043347</td>\n",
       "      <td>0.071367</td>\n",
       "      <td>0.891323</td>\n",
       "      <td>0.893338</td>\n",
       "      <td>0.878000</td>\n",
       "      <td>0.890131</td>\n",
       "      <td>0.942584</td>\n",
       "    </tr>\n",
       "    <tr>\n",
       "      <th>0</th>\n",
       "      <td>Logistic Regression</td>\n",
       "      <td>0.049425</td>\n",
       "      <td>0.011558</td>\n",
       "      <td>0.881764</td>\n",
       "      <td>0.889242</td>\n",
       "      <td>0.862609</td>\n",
       "      <td>0.879533</td>\n",
       "      <td>0.938376</td>\n",
       "    </tr>\n",
       "    <tr>\n",
       "      <th>4</th>\n",
       "      <td>Quadratic Discriminant Analysis</td>\n",
       "      <td>0.006868</td>\n",
       "      <td>0.009504</td>\n",
       "      <td>0.824425</td>\n",
       "      <td>0.832078</td>\n",
       "      <td>0.846890</td>\n",
       "      <td>0.826283</td>\n",
       "      <td>0.952830</td>\n",
       "    </tr>\n",
       "    <tr>\n",
       "      <th>7</th>\n",
       "      <td>Bayes</td>\n",
       "      <td>0.004763</td>\n",
       "      <td>0.009329</td>\n",
       "      <td>0.814543</td>\n",
       "      <td>0.825362</td>\n",
       "      <td>0.838925</td>\n",
       "      <td>0.816370</td>\n",
       "      <td>0.952777</td>\n",
       "    </tr>\n",
       "  </tbody>\n",
       "</table>\n",
       "</div>"
      ],
      "text/plain": [
       "                             Model  Fitting time  Scoring time  Accuracy  \\\n",
       "5                    Random Forest      0.798723      0.049590  0.949266   \n",
       "8                Gradient Boosting      1.231647      0.009925  0.940707   \n",
       "9              Adaptative Boosting      0.378008      0.033257  0.934126   \n",
       "2           Support Vector Machine      1.690931      0.029570  0.925224   \n",
       "1                    Decision Tree      0.036498      0.007182  0.914356   \n",
       "3     Linear Discriminant Analysis      0.026224      0.009912  0.884065   \n",
       "6              K-Nearest Neighbors      0.043347      0.071367  0.891323   \n",
       "0              Logistic Regression      0.049425      0.011558  0.881764   \n",
       "4  Quadratic Discriminant Analysis      0.006868      0.009504  0.824425   \n",
       "7                            Bayes      0.004763      0.009329  0.814543   \n",
       "\n",
       "   Precision    Recall  F1_score   AUC_ROC  \n",
       "5   0.950532  0.943342  0.949051  0.982313  \n",
       "8   0.941985  0.933618  0.940403  0.982850  \n",
       "9   0.933841  0.928229  0.933937  0.976600  \n",
       "2   0.926756  0.915931  0.924642  0.966810  \n",
       "1   0.910179  0.911410  0.914387  0.911324  \n",
       "3   0.894001  0.863376  0.881568  0.943603  \n",
       "6   0.893338  0.878000  0.890131  0.942584  \n",
       "0   0.889242  0.862609  0.879533  0.938376  \n",
       "4   0.832078  0.846890  0.826283  0.952830  \n",
       "7   0.825362  0.838925  0.816370  0.952777  "
      ]
     },
     "execution_count": 90,
     "metadata": {},
     "output_type": "execute_result"
    }
   ],
   "source": [
    "models_sfm = pd.DataFrame({\n",
    "    'Model'       : ['Logistic Regression', 'Decision Tree', 'Support Vector Machine', 'Linear Discriminant Analysis', 'Quadratic Discriminant Analysis', 'Random Forest', 'K-Nearest Neighbors', 'Bayes','Gradient Boosting','Adaptative Boosting'],\n",
    "    'Fitting time': [LR_fit_time, dtree_fit_time, SVM_fit_time, LDA_fit_time, QDA_fit_time, forest_fit_time, KNN_fit_time, bayes_fit_time,gb_fit_time,ab_fit_time],\n",
    "    'Scoring time': [LR_score_time, dtree_score_time, SVM_score_time, LDA_score_time, QDA_score_time, forest_score_time, KNN_score_time, bayes_score_time,gb_score_time,ab_score_time],\n",
    "    'Accuracy'    : [LR_accuracy, dtree_accuracy, SVM_accuracy, LDA_accuracy, QDA_accuracy, forest_accuracy, KNN_accuracy, bayes_accuracy,gb_accuracy,ab_accuracy],\n",
    "    'Precision'   : [LR_precision, dtree_precision, SVM_precision, LDA_precision, QDA_precision, forest_precision, KNN_precision, bayes_precision,gb_precision,ab_precision],\n",
    "    'Recall'      : [LR_recall, dtree_recall, SVM_recall, LDA_recall, QDA_recall, forest_recall, KNN_recall, bayes_recall,gb_recall,ab_recall],\n",
    "    'F1_score'    : [LR_f1, dtree_f1, SVM_f1, LDA_f1, QDA_f1, forest_f1, KNN_f1, bayes_f1,gb_f1,ab_f1],\n",
    "    'AUC_ROC'     : [LR_roc, dtree_roc, SVM_roc, LDA_roc, QDA_roc, forest_roc, KNN_roc, bayes_roc,gb_roc,ab_roc],\n",
    "    }, columns = ['Model', 'Fitting time', 'Scoring time', 'Accuracy', 'Precision', 'Recall', 'F1_score', 'AUC_ROC'])\n",
    "\n",
    "models_sfm.sort_values(by='Precision', ascending=False)"
   ]
  },
  {
   "cell_type": "markdown",
   "metadata": {},
   "source": [
    "## Feature selection using Linear Support Vector Machine and Tree Based Methods"
   ]
  },
  {
   "cell_type": "code",
   "execution_count": 91,
   "metadata": {},
   "outputs": [
    {
     "data": {
      "text/plain": [
       "(4601, 18)"
      ]
     },
     "execution_count": 91,
     "metadata": {},
     "output_type": "execute_result"
    }
   ],
   "source": [
    "lsvc = LinearSVC(C=0.05, penalty=\"l1\", dual=False).fit(x_scaled, y)\n",
    "etc = ExtraTreesClassifier()\n",
    "etc.fit(x_scaled, y)\n",
    "\n",
    "model = SelectFromModel(etc, prefit=True)\n",
    "x_etc = model.transform(x_scaled)\n",
    "x_etc.shape "
   ]
  },
  {
   "cell_type": "code",
   "execution_count": 92,
   "metadata": {},
   "outputs": [],
   "source": [
    "x_train, x_test, y_train, y_test = train_test_split(x_etc,y,test_size=0.3)"
   ]
  },
  {
   "cell_type": "code",
   "execution_count": 93,
   "metadata": {},
   "outputs": [],
   "source": [
    "LR = LogisticRegression(max_iter=10000)\n",
    "\n",
    "scoring = ['accuracy', 'precision_macro', 'recall_macro' , 'f1_weighted', 'roc_auc']\n",
    "scores = cross_validate(LR, x_train, y_train, scoring=scoring, cv=20)\n",
    "\n",
    "sorted(scores.keys())\n",
    "LR_fit_time = scores['fit_time'].mean()\n",
    "LR_score_time = scores['score_time'].mean()\n",
    "LR_accuracy = scores['test_accuracy'].mean()\n",
    "LR_precision = scores['test_precision_macro'].mean()\n",
    "LR_recall = scores['test_recall_macro'].mean()\n",
    "LR_f1 = scores['test_f1_weighted'].mean()\n",
    "LR_roc = scores['test_roc_auc'].mean()"
   ]
  },
  {
   "cell_type": "code",
   "execution_count": 94,
   "metadata": {},
   "outputs": [],
   "source": [
    "decision_tree = DecisionTreeClassifier()\n",
    "\n",
    "scoring = ['accuracy', 'precision_macro', 'recall_macro' , 'f1_weighted', 'roc_auc']\n",
    "scores = cross_validate(decision_tree, x_train, y_train, scoring=scoring, cv=20)\n",
    "\n",
    "sorted(scores.keys())\n",
    "dtree_fit_time = scores['fit_time'].mean()\n",
    "dtree_score_time = scores['score_time'].mean()\n",
    "dtree_accuracy = scores['test_accuracy'].mean()\n",
    "dtree_precision = scores['test_precision_macro'].mean()\n",
    "dtree_recall = scores['test_recall_macro'].mean()\n",
    "dtree_f1 = scores['test_f1_weighted'].mean()\n",
    "dtree_roc = scores['test_roc_auc'].mean()"
   ]
  },
  {
   "cell_type": "code",
   "execution_count": 95,
   "metadata": {},
   "outputs": [],
   "source": [
    "SVM = SVC(probability = True)\n",
    "\n",
    "scoring = ['accuracy','precision_macro', 'recall_macro' , 'f1_weighted', 'roc_auc']\n",
    "scores = cross_validate(SVM, x_train, y_train, scoring=scoring, cv=20)\n",
    "\n",
    "sorted(scores.keys())\n",
    "SVM_fit_time = scores['fit_time'].mean()\n",
    "SVM_score_time = scores['score_time'].mean()\n",
    "SVM_accuracy = scores['test_accuracy'].mean()\n",
    "SVM_precision = scores['test_precision_macro'].mean()\n",
    "SVM_recall = scores['test_recall_macro'].mean()\n",
    "SVM_f1 = scores['test_f1_weighted'].mean()\n",
    "SVM_roc = scores['test_roc_auc'].mean()"
   ]
  },
  {
   "cell_type": "code",
   "execution_count": 96,
   "metadata": {},
   "outputs": [],
   "source": [
    "LDA = LinearDiscriminantAnalysis()\n",
    "\n",
    "scoring = ['accuracy', 'precision_macro', 'recall_macro' , 'f1_weighted', 'roc_auc']\n",
    "scores = cross_validate(LDA, x_train, y_train, scoring=scoring, cv=20)\n",
    "\n",
    "sorted(scores.keys())\n",
    "LDA_fit_time = scores['fit_time'].mean()\n",
    "LDA_score_time = scores['score_time'].mean()\n",
    "LDA_accuracy = scores['test_accuracy'].mean()\n",
    "LDA_precision = scores['test_precision_macro'].mean()\n",
    "LDA_recall = scores['test_recall_macro'].mean()\n",
    "LDA_f1 = scores['test_f1_weighted'].mean()\n",
    "LDA_roc = scores['test_roc_auc'].mean()"
   ]
  },
  {
   "cell_type": "code",
   "execution_count": 97,
   "metadata": {},
   "outputs": [],
   "source": [
    "QDA = QuadraticDiscriminantAnalysis()\n",
    "\n",
    "scoring = ['accuracy', 'precision_macro', 'recall_macro' , 'f1_weighted', 'roc_auc']\n",
    "scores = cross_validate(QDA, x_train, y_train, scoring=scoring, cv=20)\n",
    "\n",
    "sorted(scores.keys())\n",
    "QDA_fit_time = scores['fit_time'].mean()\n",
    "QDA_score_time = scores['score_time'].mean()\n",
    "QDA_accuracy = scores['test_accuracy'].mean()\n",
    "QDA_precision = scores['test_precision_macro'].mean()\n",
    "QDA_recall = scores['test_recall_macro'].mean()\n",
    "QDA_f1 = scores['test_f1_weighted'].mean()\n",
    "QDA_roc = scores['test_roc_auc'].mean()"
   ]
  },
  {
   "cell_type": "code",
   "execution_count": 98,
   "metadata": {},
   "outputs": [],
   "source": [
    "random_forest = RandomForestClassifier()\n",
    "\n",
    "scoring = ['accuracy', 'precision_macro', 'recall_macro' , 'f1_weighted', 'roc_auc']\n",
    "scores = cross_validate(random_forest, x_train, y_train, scoring=scoring, cv=20)\n",
    "\n",
    "sorted(scores.keys())\n",
    "forest_fit_time = scores['fit_time'].mean()\n",
    "forest_score_time = scores['score_time'].mean()\n",
    "forest_accuracy = scores['test_accuracy'].mean()\n",
    "forest_precision = scores['test_precision_macro'].mean()\n",
    "forest_recall = scores['test_recall_macro'].mean()\n",
    "forest_f1 = scores['test_f1_weighted'].mean()\n",
    "forest_roc = scores['test_roc_auc'].mean()"
   ]
  },
  {
   "cell_type": "code",
   "execution_count": 99,
   "metadata": {},
   "outputs": [],
   "source": [
    "KNN = KNeighborsClassifier()\n",
    "\n",
    "scoring = ['accuracy', 'precision_macro', 'recall_macro' , 'f1_weighted', 'roc_auc']\n",
    "scores = cross_validate(KNN, x_train, y_train, scoring=scoring, cv=20)\n",
    "\n",
    "sorted(scores.keys())\n",
    "KNN_fit_time = scores['fit_time'].mean()\n",
    "KNN_score_time = scores['score_time'].mean()\n",
    "KNN_accuracy = scores['test_accuracy'].mean()\n",
    "KNN_precision = scores['test_precision_macro'].mean()\n",
    "KNN_recall = scores['test_recall_macro'].mean()\n",
    "KNN_f1 = scores['test_f1_weighted'].mean()\n",
    "KNN_roc = scores['test_roc_auc'].mean()"
   ]
  },
  {
   "cell_type": "code",
   "execution_count": 100,
   "metadata": {},
   "outputs": [],
   "source": [
    "bayes = GaussianNB()\n",
    "\n",
    "scoring = ['accuracy', 'precision_macro', 'recall_macro' , 'f1_weighted', 'roc_auc']\n",
    "scores = cross_validate(bayes, x_train, y_train, scoring=scoring, cv=20)\n",
    "\n",
    "sorted(scores.keys())\n",
    "bayes_fit_time = scores['fit_time'].mean()\n",
    "bayes_score_time = scores['score_time'].mean()\n",
    "bayes_accuracy = scores['test_accuracy'].mean()\n",
    "bayes_precision = scores['test_precision_macro'].mean()\n",
    "bayes_recall = scores['test_recall_macro'].mean()\n",
    "bayes_f1 = scores['test_f1_weighted'].mean()\n",
    "bayes_roc = scores['test_roc_auc'].mean()"
   ]
  },
  {
   "cell_type": "code",
   "execution_count": 101,
   "metadata": {},
   "outputs": [],
   "source": [
    "GB = GradientBoostingClassifier()\n",
    "\n",
    "scoring = ['accuracy', 'precision_macro', 'recall_macro' , 'f1_weighted', 'roc_auc']\n",
    "scores = cross_validate(GB, x_train, y_train, scoring=scoring, cv=20)\n",
    "\n",
    "sorted(scores.keys())\n",
    "gb_fit_time = scores['fit_time'].mean()\n",
    "gb_score_time = scores['score_time'].mean()\n",
    "gb_accuracy = scores['test_accuracy'].mean()\n",
    "gb_precision = scores['test_precision_macro'].mean()\n",
    "gb_recall = scores['test_recall_macro'].mean()\n",
    "gb_f1 = scores['test_f1_weighted'].mean()\n",
    "gb_roc = scores['test_roc_auc'].mean()\n"
   ]
  },
  {
   "cell_type": "code",
   "execution_count": 102,
   "metadata": {},
   "outputs": [],
   "source": [
    "AB = AdaBoostClassifier()\n",
    "\n",
    "scoring = ['accuracy', 'precision_macro', 'recall_macro' , 'f1_weighted', 'roc_auc']\n",
    "scores = cross_validate(AB, x_train, y_train, scoring=scoring, cv=20)\n",
    "\n",
    "sorted(scores.keys())\n",
    "ab_fit_time = scores['fit_time'].mean()\n",
    "ab_score_time = scores['score_time'].mean()\n",
    "ab_accuracy = scores['test_accuracy'].mean()\n",
    "ab_precision = scores['test_precision_macro'].mean()\n",
    "ab_recall = scores['test_recall_macro'].mean()\n",
    "ab_f1 = scores['test_f1_weighted'].mean()\n",
    "ab_roc = scores['test_roc_auc'].mean()\n",
    "\n"
   ]
  },
  {
   "cell_type": "code",
   "execution_count": 103,
   "metadata": {
    "scrolled": false
   },
   "outputs": [
    {
     "data": {
      "text/html": [
       "<div>\n",
       "<style scoped>\n",
       "    .dataframe tbody tr th:only-of-type {\n",
       "        vertical-align: middle;\n",
       "    }\n",
       "\n",
       "    .dataframe tbody tr th {\n",
       "        vertical-align: top;\n",
       "    }\n",
       "\n",
       "    .dataframe thead th {\n",
       "        text-align: right;\n",
       "    }\n",
       "</style>\n",
       "<table border=\"1\" class=\"dataframe\">\n",
       "  <thead>\n",
       "    <tr style=\"text-align: right;\">\n",
       "      <th></th>\n",
       "      <th>Model</th>\n",
       "      <th>Fitting time</th>\n",
       "      <th>Scoring time</th>\n",
       "      <th>Accuracy</th>\n",
       "      <th>Precision</th>\n",
       "      <th>Recall</th>\n",
       "      <th>F1_score</th>\n",
       "      <th>AUC_ROC</th>\n",
       "    </tr>\n",
       "  </thead>\n",
       "  <tbody>\n",
       "    <tr>\n",
       "      <th>5</th>\n",
       "      <td>Random Forest</td>\n",
       "      <td>0.869470</td>\n",
       "      <td>0.052482</td>\n",
       "      <td>0.941925</td>\n",
       "      <td>0.943177</td>\n",
       "      <td>0.935308</td>\n",
       "      <td>0.941632</td>\n",
       "      <td>0.979934</td>\n",
       "    </tr>\n",
       "    <tr>\n",
       "      <th>8</th>\n",
       "      <td>Gradient Boosting</td>\n",
       "      <td>1.224253</td>\n",
       "      <td>0.009400</td>\n",
       "      <td>0.935093</td>\n",
       "      <td>0.935497</td>\n",
       "      <td>0.928703</td>\n",
       "      <td>0.934802</td>\n",
       "      <td>0.979630</td>\n",
       "    </tr>\n",
       "    <tr>\n",
       "      <th>9</th>\n",
       "      <td>Adaptative Boosting</td>\n",
       "      <td>0.405396</td>\n",
       "      <td>0.039675</td>\n",
       "      <td>0.929193</td>\n",
       "      <td>0.927845</td>\n",
       "      <td>0.924109</td>\n",
       "      <td>0.929001</td>\n",
       "      <td>0.971262</td>\n",
       "    </tr>\n",
       "    <tr>\n",
       "      <th>2</th>\n",
       "      <td>Support Vector Machine</td>\n",
       "      <td>1.545979</td>\n",
       "      <td>0.028816</td>\n",
       "      <td>0.909938</td>\n",
       "      <td>0.911398</td>\n",
       "      <td>0.900054</td>\n",
       "      <td>0.909238</td>\n",
       "      <td>0.962483</td>\n",
       "    </tr>\n",
       "    <tr>\n",
       "      <th>1</th>\n",
       "      <td>Decision Tree</td>\n",
       "      <td>0.042485</td>\n",
       "      <td>0.008543</td>\n",
       "      <td>0.908075</td>\n",
       "      <td>0.904961</td>\n",
       "      <td>0.903486</td>\n",
       "      <td>0.907954</td>\n",
       "      <td>0.903604</td>\n",
       "    </tr>\n",
       "    <tr>\n",
       "      <th>7</th>\n",
       "      <td>Bayes</td>\n",
       "      <td>0.002131</td>\n",
       "      <td>0.004679</td>\n",
       "      <td>0.884783</td>\n",
       "      <td>0.890380</td>\n",
       "      <td>0.868411</td>\n",
       "      <td>0.883010</td>\n",
       "      <td>0.949688</td>\n",
       "    </tr>\n",
       "    <tr>\n",
       "      <th>4</th>\n",
       "      <td>Quadratic Discriminant Analysis</td>\n",
       "      <td>0.006436</td>\n",
       "      <td>0.013389</td>\n",
       "      <td>0.883540</td>\n",
       "      <td>0.888233</td>\n",
       "      <td>0.867654</td>\n",
       "      <td>0.881895</td>\n",
       "      <td>0.950378</td>\n",
       "    </tr>\n",
       "    <tr>\n",
       "      <th>6</th>\n",
       "      <td>K-Nearest Neighbors</td>\n",
       "      <td>0.026281</td>\n",
       "      <td>0.042447</td>\n",
       "      <td>0.879193</td>\n",
       "      <td>0.880830</td>\n",
       "      <td>0.865313</td>\n",
       "      <td>0.877864</td>\n",
       "      <td>0.930766</td>\n",
       "    </tr>\n",
       "    <tr>\n",
       "      <th>3</th>\n",
       "      <td>Linear Discriminant Analysis</td>\n",
       "      <td>0.022332</td>\n",
       "      <td>0.012022</td>\n",
       "      <td>0.859317</td>\n",
       "      <td>0.872241</td>\n",
       "      <td>0.835117</td>\n",
       "      <td>0.855453</td>\n",
       "      <td>0.935876</td>\n",
       "    </tr>\n",
       "    <tr>\n",
       "      <th>0</th>\n",
       "      <td>Logistic Regression</td>\n",
       "      <td>0.021187</td>\n",
       "      <td>0.007999</td>\n",
       "      <td>0.849068</td>\n",
       "      <td>0.860776</td>\n",
       "      <td>0.824051</td>\n",
       "      <td>0.844809</td>\n",
       "      <td>0.930617</td>\n",
       "    </tr>\n",
       "  </tbody>\n",
       "</table>\n",
       "</div>"
      ],
      "text/plain": [
       "                             Model  Fitting time  Scoring time  Accuracy  \\\n",
       "5                    Random Forest      0.869470      0.052482  0.941925   \n",
       "8                Gradient Boosting      1.224253      0.009400  0.935093   \n",
       "9              Adaptative Boosting      0.405396      0.039675  0.929193   \n",
       "2           Support Vector Machine      1.545979      0.028816  0.909938   \n",
       "1                    Decision Tree      0.042485      0.008543  0.908075   \n",
       "7                            Bayes      0.002131      0.004679  0.884783   \n",
       "4  Quadratic Discriminant Analysis      0.006436      0.013389  0.883540   \n",
       "6              K-Nearest Neighbors      0.026281      0.042447  0.879193   \n",
       "3     Linear Discriminant Analysis      0.022332      0.012022  0.859317   \n",
       "0              Logistic Regression      0.021187      0.007999  0.849068   \n",
       "\n",
       "   Precision    Recall  F1_score   AUC_ROC  \n",
       "5   0.943177  0.935308  0.941632  0.979934  \n",
       "8   0.935497  0.928703  0.934802  0.979630  \n",
       "9   0.927845  0.924109  0.929001  0.971262  \n",
       "2   0.911398  0.900054  0.909238  0.962483  \n",
       "1   0.904961  0.903486  0.907954  0.903604  \n",
       "7   0.890380  0.868411  0.883010  0.949688  \n",
       "4   0.888233  0.867654  0.881895  0.950378  \n",
       "6   0.880830  0.865313  0.877864  0.930766  \n",
       "3   0.872241  0.835117  0.855453  0.935876  \n",
       "0   0.860776  0.824051  0.844809  0.930617  "
      ]
     },
     "execution_count": 103,
     "metadata": {},
     "output_type": "execute_result"
    }
   ],
   "source": [
    "models_tree = pd.DataFrame({\n",
    "    'Model'       : ['Logistic Regression', 'Decision Tree', 'Support Vector Machine', 'Linear Discriminant Analysis', 'Quadratic Discriminant Analysis', 'Random Forest', 'K-Nearest Neighbors', 'Bayes','Gradient Boosting','Adaptative Boosting'],\n",
    "    'Fitting time': [LR_fit_time, dtree_fit_time, SVM_fit_time, LDA_fit_time, QDA_fit_time, forest_fit_time, KNN_fit_time, bayes_fit_time,gb_fit_time,ab_fit_time],\n",
    "    'Scoring time': [LR_score_time, dtree_score_time, SVM_score_time, LDA_score_time, QDA_score_time, forest_score_time, KNN_score_time, bayes_score_time,gb_score_time,ab_score_time],\n",
    "    'Accuracy'    : [LR_accuracy, dtree_accuracy, SVM_accuracy, LDA_accuracy, QDA_accuracy, forest_accuracy, KNN_accuracy, bayes_accuracy,gb_accuracy,ab_accuracy],\n",
    "    'Precision'   : [LR_precision, dtree_precision, SVM_precision, LDA_precision, QDA_precision, forest_precision, KNN_precision, bayes_precision,gb_precision,ab_precision],\n",
    "    'Recall'      : [LR_recall, dtree_recall, SVM_recall, LDA_recall, QDA_recall, forest_recall, KNN_recall, bayes_recall,gb_recall,ab_recall],\n",
    "    'F1_score'    : [LR_f1, dtree_f1, SVM_f1, LDA_f1, QDA_f1, forest_f1, KNN_f1, bayes_f1,gb_f1,ab_f1],\n",
    "    'AUC_ROC'     : [LR_roc, dtree_roc, SVM_roc, LDA_roc, QDA_roc, forest_roc, KNN_roc, bayes_roc,gb_roc,ab_roc],\n",
    "    }, columns = ['Model', 'Fitting time', 'Scoring time', 'Accuracy', 'Precision', 'Recall', 'F1_score', 'AUC_ROC'])\n",
    "\n",
    "models_tree.sort_values(by='Precision', ascending=False)"
   ]
  },
  {
   "cell_type": "markdown",
   "metadata": {},
   "source": [
    "## Feature selection using Linear Support Vector Machine and Recurrent Features Selection"
   ]
  },
  {
   "cell_type": "code",
   "execution_count": 104,
   "metadata": {},
   "outputs": [
    {
     "data": {
      "text/plain": [
       "(4601, 22)"
      ]
     },
     "execution_count": 104,
     "metadata": {},
     "output_type": "execute_result"
    }
   ],
   "source": [
    "lsvc = LinearSVC(C=0.05, penalty=\"l1\", dual=False)\n",
    "model = RFECV(estimator=lsvc, step=1, cv=20).fit(x_scaled,y)\n",
    "x_rfecv = model.transform(x_scaled)\n",
    "x_rfecv.shape #reduction"
   ]
  },
  {
   "cell_type": "code",
   "execution_count": 105,
   "metadata": {},
   "outputs": [],
   "source": [
    "x_train, x_test, y_train, y_test = train_test_split(x_rfecv,y,test_size=0.34)"
   ]
  },
  {
   "cell_type": "code",
   "execution_count": 106,
   "metadata": {},
   "outputs": [],
   "source": [
    "LR = LogisticRegression(max_iter=10000)\n",
    "\n",
    "scoring = ['accuracy', 'precision_macro', 'recall_macro' , 'f1_weighted', 'roc_auc']\n",
    "scores = cross_validate(LR, x_train, y_train, scoring=scoring, cv=20)\n",
    "\n",
    "sorted(scores.keys())\n",
    "LR_fit_time = scores['fit_time'].mean()\n",
    "LR_score_time = scores['score_time'].mean()\n",
    "LR_accuracy = scores['test_accuracy'].mean()\n",
    "LR_precision = scores['test_precision_macro'].mean()\n",
    "LR_recall = scores['test_recall_macro'].mean()\n",
    "LR_f1 = scores['test_f1_weighted'].mean()\n",
    "LR_roc = scores['test_roc_auc'].mean()"
   ]
  },
  {
   "cell_type": "code",
   "execution_count": 107,
   "metadata": {},
   "outputs": [],
   "source": [
    "decision_tree = DecisionTreeClassifier()\n",
    "\n",
    "scoring = ['accuracy', 'precision_macro', 'recall_macro' , 'f1_weighted', 'roc_auc']\n",
    "scores = cross_validate(decision_tree, x_train, y_train, scoring=scoring, cv=20)\n",
    "\n",
    "sorted(scores.keys())\n",
    "dtree_fit_time = scores['fit_time'].mean()\n",
    "dtree_score_time = scores['score_time'].mean()\n",
    "dtree_accuracy = scores['test_accuracy'].mean()\n",
    "dtree_precision = scores['test_precision_macro'].mean()\n",
    "dtree_recall = scores['test_recall_macro'].mean()\n",
    "dtree_f1 = scores['test_f1_weighted'].mean()\n",
    "dtree_roc = scores['test_roc_auc'].mean()"
   ]
  },
  {
   "cell_type": "code",
   "execution_count": 108,
   "metadata": {},
   "outputs": [],
   "source": [
    "SVM = SVC(probability = True)\n",
    "\n",
    "scoring = ['accuracy','precision_macro', 'recall_macro' , 'f1_weighted', 'roc_auc']\n",
    "scores = cross_validate(SVM, x_train, y_train, scoring=scoring, cv=20)\n",
    "\n",
    "sorted(scores.keys())\n",
    "SVM_fit_time = scores['fit_time'].mean()\n",
    "SVM_score_time = scores['score_time'].mean()\n",
    "SVM_accuracy = scores['test_accuracy'].mean()\n",
    "SVM_precision = scores['test_precision_macro'].mean()\n",
    "SVM_recall = scores['test_recall_macro'].mean()\n",
    "SVM_f1 = scores['test_f1_weighted'].mean()\n",
    "SVM_roc = scores['test_roc_auc'].mean()"
   ]
  },
  {
   "cell_type": "code",
   "execution_count": 109,
   "metadata": {},
   "outputs": [],
   "source": [
    "LDA = LinearDiscriminantAnalysis()\n",
    "\n",
    "scoring = ['accuracy', 'precision_macro', 'recall_macro' , 'f1_weighted', 'roc_auc']\n",
    "scores = cross_validate(LDA, x_train, y_train, scoring=scoring, cv=20)\n",
    "\n",
    "sorted(scores.keys())\n",
    "LDA_fit_time = scores['fit_time'].mean()\n",
    "LDA_score_time = scores['score_time'].mean()\n",
    "LDA_accuracy = scores['test_accuracy'].mean()\n",
    "LDA_precision = scores['test_precision_macro'].mean()\n",
    "LDA_recall = scores['test_recall_macro'].mean()\n",
    "LDA_f1 = scores['test_f1_weighted'].mean()\n",
    "LDA_roc = scores['test_roc_auc'].mean()"
   ]
  },
  {
   "cell_type": "code",
   "execution_count": 110,
   "metadata": {},
   "outputs": [],
   "source": [
    "QDA = QuadraticDiscriminantAnalysis()\n",
    "\n",
    "scoring = ['accuracy', 'precision_macro', 'recall_macro' , 'f1_weighted', 'roc_auc']\n",
    "scores = cross_validate(QDA, x_train, y_train, scoring=scoring, cv=20)\n",
    "\n",
    "sorted(scores.keys())\n",
    "QDA_fit_time = scores['fit_time'].mean()\n",
    "QDA_score_time = scores['score_time'].mean()\n",
    "QDA_accuracy = scores['test_accuracy'].mean()\n",
    "QDA_precision = scores['test_precision_macro'].mean()\n",
    "QDA_recall = scores['test_recall_macro'].mean()\n",
    "QDA_f1 = scores['test_f1_weighted'].mean()\n",
    "QDA_roc = scores['test_roc_auc'].mean()"
   ]
  },
  {
   "cell_type": "code",
   "execution_count": 111,
   "metadata": {},
   "outputs": [],
   "source": [
    "random_forest = RandomForestClassifier()\n",
    "\n",
    "scoring = ['accuracy', 'precision_macro', 'recall_macro' , 'f1_weighted', 'roc_auc']\n",
    "scores = cross_validate(random_forest, x_train, y_train, scoring=scoring, cv=20)\n",
    "\n",
    "sorted(scores.keys())\n",
    "forest_fit_time = scores['fit_time'].mean()\n",
    "forest_score_time = scores['score_time'].mean()\n",
    "forest_accuracy = scores['test_accuracy'].mean()\n",
    "forest_precision = scores['test_precision_macro'].mean()\n",
    "forest_recall = scores['test_recall_macro'].mean()\n",
    "forest_f1 = scores['test_f1_weighted'].mean()\n",
    "forest_roc = scores['test_roc_auc'].mean()"
   ]
  },
  {
   "cell_type": "code",
   "execution_count": 112,
   "metadata": {},
   "outputs": [],
   "source": [
    "KNN = KNeighborsClassifier()\n",
    "\n",
    "scoring = ['accuracy', 'precision_macro', 'recall_macro' , 'f1_weighted', 'roc_auc']\n",
    "scores = cross_validate(KNN, x_train, y_train, scoring=scoring, cv=20)\n",
    "\n",
    "sorted(scores.keys())\n",
    "KNN_fit_time = scores['fit_time'].mean()\n",
    "KNN_score_time = scores['score_time'].mean()\n",
    "KNN_accuracy = scores['test_accuracy'].mean()\n",
    "KNN_precision = scores['test_precision_macro'].mean()\n",
    "KNN_recall = scores['test_recall_macro'].mean()\n",
    "KNN_f1 = scores['test_f1_weighted'].mean()\n",
    "KNN_roc = scores['test_roc_auc'].mean()"
   ]
  },
  {
   "cell_type": "code",
   "execution_count": 113,
   "metadata": {},
   "outputs": [],
   "source": [
    "bayes = GaussianNB()\n",
    "\n",
    "scoring = ['accuracy', 'precision_macro', 'recall_macro' , 'f1_weighted', 'roc_auc']\n",
    "scores = cross_validate(bayes, x_train, y_train, scoring=scoring, cv=20)\n",
    "\n",
    "sorted(scores.keys())\n",
    "bayes_fit_time = scores['fit_time'].mean()\n",
    "bayes_score_time = scores['score_time'].mean()\n",
    "bayes_accuracy = scores['test_accuracy'].mean()\n",
    "bayes_precision = scores['test_precision_macro'].mean()\n",
    "bayes_recall = scores['test_recall_macro'].mean()\n",
    "bayes_f1 = scores['test_f1_weighted'].mean()\n",
    "bayes_roc = scores['test_roc_auc'].mean()"
   ]
  },
  {
   "cell_type": "code",
   "execution_count": 114,
   "metadata": {},
   "outputs": [],
   "source": [
    "GB = GradientBoostingClassifier()\n",
    "\n",
    "scoring = ['accuracy', 'precision_macro', 'recall_macro' , 'f1_weighted', 'roc_auc']\n",
    "scores = cross_validate(GB, x_train, y_train, scoring=scoring, cv=20)\n",
    "\n",
    "sorted(scores.keys())\n",
    "gb_fit_time = scores['fit_time'].mean()\n",
    "gb_score_time = scores['score_time'].mean()\n",
    "gb_accuracy = scores['test_accuracy'].mean()\n",
    "gb_precision = scores['test_precision_macro'].mean()\n",
    "gb_recall = scores['test_recall_macro'].mean()\n",
    "gb_f1 = scores['test_f1_weighted'].mean()\n",
    "gb_roc = scores['test_roc_auc'].mean()\n"
   ]
  },
  {
   "cell_type": "code",
   "execution_count": 115,
   "metadata": {},
   "outputs": [],
   "source": [
    "AB = AdaBoostClassifier()\n",
    "\n",
    "scoring = ['accuracy', 'precision_macro', 'recall_macro' , 'f1_weighted', 'roc_auc']\n",
    "scores = cross_validate(AB, x_train, y_train, scoring=scoring, cv=20)\n",
    "\n",
    "sorted(scores.keys())\n",
    "ab_fit_time = scores['fit_time'].mean()\n",
    "ab_score_time = scores['score_time'].mean()\n",
    "ab_accuracy = scores['test_accuracy'].mean()\n",
    "ab_precision = scores['test_precision_macro'].mean()\n",
    "ab_recall = scores['test_recall_macro'].mean()\n",
    "ab_f1 = scores['test_f1_weighted'].mean()\n",
    "ab_roc = scores['test_roc_auc'].mean()\n",
    "\n"
   ]
  },
  {
   "cell_type": "code",
   "execution_count": 116,
   "metadata": {
    "scrolled": false
   },
   "outputs": [
    {
     "data": {
      "text/html": [
       "<div>\n",
       "<style scoped>\n",
       "    .dataframe tbody tr th:only-of-type {\n",
       "        vertical-align: middle;\n",
       "    }\n",
       "\n",
       "    .dataframe tbody tr th {\n",
       "        vertical-align: top;\n",
       "    }\n",
       "\n",
       "    .dataframe thead th {\n",
       "        text-align: right;\n",
       "    }\n",
       "</style>\n",
       "<table border=\"1\" class=\"dataframe\">\n",
       "  <thead>\n",
       "    <tr style=\"text-align: right;\">\n",
       "      <th></th>\n",
       "      <th>Model</th>\n",
       "      <th>Fitting time</th>\n",
       "      <th>Scoring time</th>\n",
       "      <th>Accuracy</th>\n",
       "      <th>Precision</th>\n",
       "      <th>Recall</th>\n",
       "      <th>F1_score</th>\n",
       "      <th>AUC_ROC</th>\n",
       "    </tr>\n",
       "  </thead>\n",
       "  <tbody>\n",
       "    <tr>\n",
       "      <th>5</th>\n",
       "      <td>Random Forest</td>\n",
       "      <td>0.748775</td>\n",
       "      <td>0.050349</td>\n",
       "      <td>0.944974</td>\n",
       "      <td>0.944874</td>\n",
       "      <td>0.940512</td>\n",
       "      <td>0.944801</td>\n",
       "      <td>0.981294</td>\n",
       "    </tr>\n",
       "    <tr>\n",
       "      <th>8</th>\n",
       "      <td>Gradient Boosting</td>\n",
       "      <td>1.080995</td>\n",
       "      <td>0.009336</td>\n",
       "      <td>0.941683</td>\n",
       "      <td>0.942689</td>\n",
       "      <td>0.935755</td>\n",
       "      <td>0.941410</td>\n",
       "      <td>0.980467</td>\n",
       "    </tr>\n",
       "    <tr>\n",
       "      <th>9</th>\n",
       "      <td>Adaptative Boosting</td>\n",
       "      <td>0.362299</td>\n",
       "      <td>0.039851</td>\n",
       "      <td>0.932130</td>\n",
       "      <td>0.930341</td>\n",
       "      <td>0.928164</td>\n",
       "      <td>0.931978</td>\n",
       "      <td>0.977345</td>\n",
       "    </tr>\n",
       "    <tr>\n",
       "      <th>2</th>\n",
       "      <td>Support Vector Machine</td>\n",
       "      <td>1.540028</td>\n",
       "      <td>0.027551</td>\n",
       "      <td>0.921589</td>\n",
       "      <td>0.923352</td>\n",
       "      <td>0.912908</td>\n",
       "      <td>0.921088</td>\n",
       "      <td>0.967381</td>\n",
       "    </tr>\n",
       "    <tr>\n",
       "      <th>1</th>\n",
       "      <td>Decision Tree</td>\n",
       "      <td>0.046328</td>\n",
       "      <td>0.009353</td>\n",
       "      <td>0.913363</td>\n",
       "      <td>0.909567</td>\n",
       "      <td>0.909592</td>\n",
       "      <td>0.913324</td>\n",
       "      <td>0.911239</td>\n",
       "    </tr>\n",
       "    <tr>\n",
       "      <th>6</th>\n",
       "      <td>K-Nearest Neighbors</td>\n",
       "      <td>0.041024</td>\n",
       "      <td>0.063382</td>\n",
       "      <td>0.885367</td>\n",
       "      <td>0.887966</td>\n",
       "      <td>0.871405</td>\n",
       "      <td>0.884041</td>\n",
       "      <td>0.937783</td>\n",
       "    </tr>\n",
       "    <tr>\n",
       "      <th>0</th>\n",
       "      <td>Logistic Regression</td>\n",
       "      <td>0.027517</td>\n",
       "      <td>0.011925</td>\n",
       "      <td>0.872175</td>\n",
       "      <td>0.881304</td>\n",
       "      <td>0.851812</td>\n",
       "      <td>0.869400</td>\n",
       "      <td>0.939515</td>\n",
       "    </tr>\n",
       "    <tr>\n",
       "      <th>3</th>\n",
       "      <td>Linear Discriminant Analysis</td>\n",
       "      <td>0.026373</td>\n",
       "      <td>0.012294</td>\n",
       "      <td>0.870203</td>\n",
       "      <td>0.880715</td>\n",
       "      <td>0.848873</td>\n",
       "      <td>0.867304</td>\n",
       "      <td>0.944342</td>\n",
       "    </tr>\n",
       "    <tr>\n",
       "      <th>7</th>\n",
       "      <td>Bayes</td>\n",
       "      <td>0.003317</td>\n",
       "      <td>0.007041</td>\n",
       "      <td>0.863635</td>\n",
       "      <td>0.862669</td>\n",
       "      <td>0.878072</td>\n",
       "      <td>0.865033</td>\n",
       "      <td>0.952884</td>\n",
       "    </tr>\n",
       "    <tr>\n",
       "      <th>4</th>\n",
       "      <td>Quadratic Discriminant Analysis</td>\n",
       "      <td>0.005532</td>\n",
       "      <td>0.010278</td>\n",
       "      <td>0.811302</td>\n",
       "      <td>0.828816</td>\n",
       "      <td>0.837597</td>\n",
       "      <td>0.812363</td>\n",
       "      <td>0.952858</td>\n",
       "    </tr>\n",
       "  </tbody>\n",
       "</table>\n",
       "</div>"
      ],
      "text/plain": [
       "                             Model  Fitting time  Scoring time  Accuracy  \\\n",
       "5                    Random Forest      0.748775      0.050349  0.944974   \n",
       "8                Gradient Boosting      1.080995      0.009336  0.941683   \n",
       "9              Adaptative Boosting      0.362299      0.039851  0.932130   \n",
       "2           Support Vector Machine      1.540028      0.027551  0.921589   \n",
       "1                    Decision Tree      0.046328      0.009353  0.913363   \n",
       "6              K-Nearest Neighbors      0.041024      0.063382  0.885367   \n",
       "0              Logistic Regression      0.027517      0.011925  0.872175   \n",
       "3     Linear Discriminant Analysis      0.026373      0.012294  0.870203   \n",
       "7                            Bayes      0.003317      0.007041  0.863635   \n",
       "4  Quadratic Discriminant Analysis      0.005532      0.010278  0.811302   \n",
       "\n",
       "   Precision    Recall  F1_score   AUC_ROC  \n",
       "5   0.944874  0.940512  0.944801  0.981294  \n",
       "8   0.942689  0.935755  0.941410  0.980467  \n",
       "9   0.930341  0.928164  0.931978  0.977345  \n",
       "2   0.923352  0.912908  0.921088  0.967381  \n",
       "1   0.909567  0.909592  0.913324  0.911239  \n",
       "6   0.887966  0.871405  0.884041  0.937783  \n",
       "0   0.881304  0.851812  0.869400  0.939515  \n",
       "3   0.880715  0.848873  0.867304  0.944342  \n",
       "7   0.862669  0.878072  0.865033  0.952884  \n",
       "4   0.828816  0.837597  0.812363  0.952858  "
      ]
     },
     "execution_count": 116,
     "metadata": {},
     "output_type": "execute_result"
    }
   ],
   "source": [
    "models_rfecv = pd.DataFrame({\n",
    "    'Model'       : ['Logistic Regression', 'Decision Tree', 'Support Vector Machine', 'Linear Discriminant Analysis', 'Quadratic Discriminant Analysis', 'Random Forest', 'K-Nearest Neighbors', 'Bayes','Gradient Boosting','Adaptative Boosting'],\n",
    "    'Fitting time': [LR_fit_time, dtree_fit_time, SVM_fit_time, LDA_fit_time, QDA_fit_time, forest_fit_time, KNN_fit_time, bayes_fit_time,gb_fit_time,ab_fit_time],\n",
    "    'Scoring time': [LR_score_time, dtree_score_time, SVM_score_time, LDA_score_time, QDA_score_time, forest_score_time, KNN_score_time, bayes_score_time,gb_score_time,ab_score_time],\n",
    "    'Accuracy'    : [LR_accuracy, dtree_accuracy, SVM_accuracy, LDA_accuracy, QDA_accuracy, forest_accuracy, KNN_accuracy, bayes_accuracy,gb_accuracy,ab_accuracy],\n",
    "    'Precision'   : [LR_precision, dtree_precision, SVM_precision, LDA_precision, QDA_precision, forest_precision, KNN_precision, bayes_precision,gb_precision,ab_precision],\n",
    "    'Recall'      : [LR_recall, dtree_recall, SVM_recall, LDA_recall, QDA_recall, forest_recall, KNN_recall, bayes_recall,gb_recall,ab_recall],\n",
    "    'F1_score'    : [LR_f1, dtree_f1, SVM_f1, LDA_f1, QDA_f1, forest_f1, KNN_f1, bayes_f1,gb_f1,ab_f1],\n",
    "    'AUC_ROC'     : [LR_roc, dtree_roc, SVM_roc, LDA_roc, QDA_roc, forest_roc, KNN_roc, bayes_roc,gb_roc,ab_roc],\n",
    "    }, columns = ['Model', 'Fitting time', 'Scoring time', 'Accuracy', 'Precision', 'Recall', 'F1_score', 'AUC_ROC'])\n",
    "\n",
    "models_rfecv.sort_values(by='Precision', ascending=False)"
   ]
  },
  {
   "cell_type": "code",
   "execution_count": 117,
   "metadata": {
    "scrolled": true
   },
   "outputs": [
    {
     "data": {
      "text/html": [
       "<div>\n",
       "<style scoped>\n",
       "    .dataframe tbody tr th:only-of-type {\n",
       "        vertical-align: middle;\n",
       "    }\n",
       "\n",
       "    .dataframe tbody tr th {\n",
       "        vertical-align: top;\n",
       "    }\n",
       "\n",
       "    .dataframe thead th {\n",
       "        text-align: right;\n",
       "    }\n",
       "</style>\n",
       "<table border=\"1\" class=\"dataframe\">\n",
       "  <thead>\n",
       "    <tr style=\"text-align: right;\">\n",
       "      <th></th>\n",
       "      <th>W/out reduction</th>\n",
       "      <th>Precision</th>\n",
       "      <th>Linear+SFM</th>\n",
       "      <th>Precision_sfm</th>\n",
       "      <th>Linear+RFECV</th>\n",
       "      <th>Precision_RFECV</th>\n",
       "      <th>Extra trees</th>\n",
       "      <th>Precision_trees</th>\n",
       "      <th>Voting</th>\n",
       "      <th>Precision_voting</th>\n",
       "    </tr>\n",
       "  </thead>\n",
       "  <tbody>\n",
       "    <tr>\n",
       "      <th>5</th>\n",
       "      <td>Random Forest</td>\n",
       "      <td>0.954471</td>\n",
       "      <td>Random Forest</td>\n",
       "      <td>0.950532</td>\n",
       "      <td>Random Forest</td>\n",
       "      <td>0.944874</td>\n",
       "      <td>Random Forest</td>\n",
       "      <td>0.943177</td>\n",
       "      <td>NaN</td>\n",
       "      <td>NaN</td>\n",
       "    </tr>\n",
       "    <tr>\n",
       "      <th>8</th>\n",
       "      <td>Gradient Boosting</td>\n",
       "      <td>0.948254</td>\n",
       "      <td>Gradient Boosting</td>\n",
       "      <td>0.941985</td>\n",
       "      <td>Gradient Boosting</td>\n",
       "      <td>0.942689</td>\n",
       "      <td>Gradient Boosting</td>\n",
       "      <td>0.935497</td>\n",
       "      <td>NaN</td>\n",
       "      <td>NaN</td>\n",
       "    </tr>\n",
       "    <tr>\n",
       "      <th>9</th>\n",
       "      <td>Adaptative Boosting</td>\n",
       "      <td>0.944953</td>\n",
       "      <td>Adaptative Boosting</td>\n",
       "      <td>0.933841</td>\n",
       "      <td>Adaptative Boosting</td>\n",
       "      <td>0.930341</td>\n",
       "      <td>Adaptative Boosting</td>\n",
       "      <td>0.927845</td>\n",
       "      <td>NaN</td>\n",
       "      <td>NaN</td>\n",
       "    </tr>\n",
       "    <tr>\n",
       "      <th>2</th>\n",
       "      <td>Support Vector Machine</td>\n",
       "      <td>0.931217</td>\n",
       "      <td>Support Vector Machine</td>\n",
       "      <td>0.926756</td>\n",
       "      <td>Support Vector Machine</td>\n",
       "      <td>0.923352</td>\n",
       "      <td>Support Vector Machine</td>\n",
       "      <td>0.911398</td>\n",
       "      <td>NaN</td>\n",
       "      <td>NaN</td>\n",
       "    </tr>\n",
       "    <tr>\n",
       "      <th>1</th>\n",
       "      <td>Decision Tree</td>\n",
       "      <td>0.910905</td>\n",
       "      <td>Decision Tree</td>\n",
       "      <td>0.910179</td>\n",
       "      <td>Decision Tree</td>\n",
       "      <td>0.909567</td>\n",
       "      <td>Decision Tree</td>\n",
       "      <td>0.904961</td>\n",
       "      <td>Ensembling_soft</td>\n",
       "      <td>0.917117</td>\n",
       "    </tr>\n",
       "    <tr>\n",
       "      <th>3</th>\n",
       "      <td>Linear Discriminant Analysis</td>\n",
       "      <td>0.894320</td>\n",
       "      <td>Linear Discriminant Analysis</td>\n",
       "      <td>0.894001</td>\n",
       "      <td>Linear Discriminant Analysis</td>\n",
       "      <td>0.880715</td>\n",
       "      <td>Linear Discriminant Analysis</td>\n",
       "      <td>0.872241</td>\n",
       "      <td>NaN</td>\n",
       "      <td>NaN</td>\n",
       "    </tr>\n",
       "    <tr>\n",
       "      <th>6</th>\n",
       "      <td>K-Nearest Neighbors</td>\n",
       "      <td>0.892108</td>\n",
       "      <td>K-Nearest Neighbors</td>\n",
       "      <td>0.893338</td>\n",
       "      <td>K-Nearest Neighbors</td>\n",
       "      <td>0.887966</td>\n",
       "      <td>K-Nearest Neighbors</td>\n",
       "      <td>0.880830</td>\n",
       "      <td>NaN</td>\n",
       "      <td>NaN</td>\n",
       "    </tr>\n",
       "    <tr>\n",
       "      <th>0</th>\n",
       "      <td>Logistic Regression</td>\n",
       "      <td>0.891703</td>\n",
       "      <td>Logistic Regression</td>\n",
       "      <td>0.889242</td>\n",
       "      <td>Logistic Regression</td>\n",
       "      <td>0.881304</td>\n",
       "      <td>Logistic Regression</td>\n",
       "      <td>0.860776</td>\n",
       "      <td>Ensebling_hard</td>\n",
       "      <td>0.946108</td>\n",
       "    </tr>\n",
       "    <tr>\n",
       "      <th>7</th>\n",
       "      <td>Bayes</td>\n",
       "      <td>0.831772</td>\n",
       "      <td>Bayes</td>\n",
       "      <td>0.825362</td>\n",
       "      <td>Bayes</td>\n",
       "      <td>0.862669</td>\n",
       "      <td>Bayes</td>\n",
       "      <td>0.890380</td>\n",
       "      <td>NaN</td>\n",
       "      <td>NaN</td>\n",
       "    </tr>\n",
       "    <tr>\n",
       "      <th>4</th>\n",
       "      <td>Quadratic Discriminant Analysis</td>\n",
       "      <td>0.825056</td>\n",
       "      <td>Quadratic Discriminant Analysis</td>\n",
       "      <td>0.832078</td>\n",
       "      <td>Quadratic Discriminant Analysis</td>\n",
       "      <td>0.828816</td>\n",
       "      <td>Quadratic Discriminant Analysis</td>\n",
       "      <td>0.888233</td>\n",
       "      <td>NaN</td>\n",
       "      <td>NaN</td>\n",
       "    </tr>\n",
       "  </tbody>\n",
       "</table>\n",
       "</div>"
      ],
      "text/plain": [
       "                   W/out reduction  Precision  \\\n",
       "5                    Random Forest   0.954471   \n",
       "8                Gradient Boosting   0.948254   \n",
       "9              Adaptative Boosting   0.944953   \n",
       "2           Support Vector Machine   0.931217   \n",
       "1                    Decision Tree   0.910905   \n",
       "3     Linear Discriminant Analysis   0.894320   \n",
       "6              K-Nearest Neighbors   0.892108   \n",
       "0              Logistic Regression   0.891703   \n",
       "7                            Bayes   0.831772   \n",
       "4  Quadratic Discriminant Analysis   0.825056   \n",
       "\n",
       "                        Linear+SFM  Precision_sfm  \\\n",
       "5                    Random Forest       0.950532   \n",
       "8                Gradient Boosting       0.941985   \n",
       "9              Adaptative Boosting       0.933841   \n",
       "2           Support Vector Machine       0.926756   \n",
       "1                    Decision Tree       0.910179   \n",
       "3     Linear Discriminant Analysis       0.894001   \n",
       "6              K-Nearest Neighbors       0.893338   \n",
       "0              Logistic Regression       0.889242   \n",
       "7                            Bayes       0.825362   \n",
       "4  Quadratic Discriminant Analysis       0.832078   \n",
       "\n",
       "                      Linear+RFECV  Precision_RFECV  \\\n",
       "5                    Random Forest         0.944874   \n",
       "8                Gradient Boosting         0.942689   \n",
       "9              Adaptative Boosting         0.930341   \n",
       "2           Support Vector Machine         0.923352   \n",
       "1                    Decision Tree         0.909567   \n",
       "3     Linear Discriminant Analysis         0.880715   \n",
       "6              K-Nearest Neighbors         0.887966   \n",
       "0              Logistic Regression         0.881304   \n",
       "7                            Bayes         0.862669   \n",
       "4  Quadratic Discriminant Analysis         0.828816   \n",
       "\n",
       "                       Extra trees  Precision_trees           Voting  \\\n",
       "5                    Random Forest         0.943177              NaN   \n",
       "8                Gradient Boosting         0.935497              NaN   \n",
       "9              Adaptative Boosting         0.927845              NaN   \n",
       "2           Support Vector Machine         0.911398              NaN   \n",
       "1                    Decision Tree         0.904961  Ensembling_soft   \n",
       "3     Linear Discriminant Analysis         0.872241              NaN   \n",
       "6              K-Nearest Neighbors         0.880830              NaN   \n",
       "0              Logistic Regression         0.860776   Ensebling_hard   \n",
       "7                            Bayes         0.890380              NaN   \n",
       "4  Quadratic Discriminant Analysis         0.888233              NaN   \n",
       "\n",
       "   Precision_voting  \n",
       "5               NaN  \n",
       "8               NaN  \n",
       "9               NaN  \n",
       "2               NaN  \n",
       "1          0.917117  \n",
       "3               NaN  \n",
       "6               NaN  \n",
       "0          0.946108  \n",
       "7               NaN  \n",
       "4               NaN  "
      ]
     },
     "execution_count": 117,
     "metadata": {},
     "output_type": "execute_result"
    }
   ],
   "source": [
    "model_general = pd.concat([models_initial1['Model'], models_initial1['Precision'], \n",
    "                          models_sfm['Model'], models_sfm['Precision'],\n",
    "                          models_rfecv['Model'], models_rfecv['Precision'],\n",
    "                          models_tree['Model'], models_tree['Precision']]\n",
    "                          , axis=1)\n",
    "\n",
    "model_general.columns = ['W/out reduction', 'Precision', \n",
    "                        'Linear+SFM', 'Precision_sfm', 'Linear+RFECV', 'Precision_RFECV', 'Extra trees',\n",
    "                         'Precision_trees']\n",
    "\n",
    "model_general.sort_values(by='Precision', ascending=False)"
   ]
  },
  {
   "cell_type": "markdown",
   "metadata": {},
   "source": [
    "### We can now see that, simply scaled data gives better results than any other pre-processing techniques, it seems logic that dimensionnality reduction do not help in our case, we want as much information as possible"
   ]
  },
  {
   "cell_type": "code",
   "execution_count": 136,
   "metadata": {},
   "outputs": [],
   "source": [
    "df_scaled = pd.DataFrame(minmax_scale(df))\n",
    "y_scaled = df_scaled[np.shape(df_scaled)[1]-1]\n",
    "x_scaled= df_scaled.drop([np.shape(df_scaled)[1]-1],axis = 1)\n",
    "\n"
   ]
  },
  {
   "cell_type": "code",
   "execution_count": 137,
   "metadata": {},
   "outputs": [],
   "source": [
    "from sklearn.model_selection import train_test_split\n",
    "\n",
    "x_train,x_test,y_train,y_test=train_test_split(x_scaled,y_scaled,random_state=0,test_size=0.3)"
   ]
  },
  {
   "cell_type": "markdown",
   "metadata": {
    "scrolled": true
   },
   "source": [
    "We'll focus on  : \n",
    "\n",
    "* Random Forest\n",
    "* Gradient Boosting\n",
    "* Support Vector Machine\n",
    "* Adaptative Boosting\n",
    "\n",
    "On which we'll do Hyperparameters tuning"
   ]
  },
  {
   "cell_type": "markdown",
   "metadata": {},
   "source": [
    "First of all, let's fit the top 4 models and try them on the test set :"
   ]
  },
  {
   "cell_type": "code",
   "execution_count": 140,
   "metadata": {
    "scrolled": true
   },
   "outputs": [
    {
     "data": {
      "text/plain": [
       "Text(0.5, 1.0, 'Adaptative Boosting')"
      ]
     },
     "execution_count": 140,
     "metadata": {},
     "output_type": "execute_result"
    },
    {
     "data": {
      "image/png": "[encoded data removed]",
      "text/plain": [
       "<Figure size 432x288 with 8 Axes>"
      ]
     },
     "metadata": {
      "needs_background": "light"
     },
     "output_type": "display_data"
    }
   ],
   "source": [
    "from sklearn.metrics import confusion_matrix\n",
    "from sklearn.metrics import plot_confusion_matrix\n",
    "\n",
    "random_forest = RandomForestClassifier(random_state=42)\n",
    "gradient_boosting = GradientBoostingClassifier(random_state=42)\n",
    "svm = SVC(probability = True,random_state=42)\n",
    "ada_boosting = AdaBoostClassifier(random_state=42)\n",
    "\n",
    "random_forest.fit(x_train,y_train)\n",
    "gradient_boosting.fit(x_train,y_train)\n",
    "svm.fit(x_train,y_train)\n",
    "ada_boosting.fit(x_train,y_train)\n",
    "\n",
    "\n",
    "pred_rf = random_forest.predict(x_test)\n",
    "pred_gb = gradient_boosting.predict(x_test)\n",
    "pred_svm = svm.predict(x_test)\n",
    "pred_ada = ada_boosting.predict(x_test)\n",
    "\n",
    "\n",
    "fig,axs = plt.subplots(2, 2)\n",
    "fig.suptitle('Confusion Matrix of un-tuned Classifier')\n",
    "\n",
    "\n",
    "\n",
    "\n",
    "plot_confusion_matrix(random_forest,x_test,y_test,ax=axs[0,0])\n",
    "axs[0, 0].set_title('Random Forest')\n",
    "plot_confusion_matrix(gradient_boosting,x_test,y_test,ax=axs[0,1])\n",
    "axs[0, 1].set_title('Gradient Boosting')\n",
    "plot_confusion_matrix(svm,x_test,y_test,ax=axs[1,0])\n",
    "axs[1, 0].set_title('Support Vector Machine')\n",
    "plot_confusion_matrix(ada_boosting,x_test,y_test,ax=axs[1,1])\n",
    "axs[1, 1].set_title('Adaptative Boosting')\n"
   ]
  },
  {
   "cell_type": "markdown",
   "metadata": {},
   "source": [
    "Now let's display the two usefull metrics for our case :"
   ]
  },
  {
   "cell_type": "code",
   "execution_count": 141,
   "metadata": {
    "scrolled": true
   },
   "outputs": [
    {
     "data": {
      "text/html": [
       "<div>\n",
       "<style scoped>\n",
       "    .dataframe tbody tr th:only-of-type {\n",
       "        vertical-align: middle;\n",
       "    }\n",
       "\n",
       "    .dataframe tbody tr th {\n",
       "        vertical-align: top;\n",
       "    }\n",
       "\n",
       "    .dataframe thead th {\n",
       "        text-align: right;\n",
       "    }\n",
       "</style>\n",
       "<table border=\"1\" class=\"dataframe\">\n",
       "  <thead>\n",
       "    <tr style=\"text-align: right;\">\n",
       "      <th></th>\n",
       "      <th>Model</th>\n",
       "      <th>Accuracy</th>\n",
       "      <th>Precision</th>\n",
       "    </tr>\n",
       "  </thead>\n",
       "  <tbody>\n",
       "    <tr>\n",
       "      <th>2</th>\n",
       "      <td>Random Forest</td>\n",
       "      <td>0.948588</td>\n",
       "      <td>0.965649</td>\n",
       "    </tr>\n",
       "    <tr>\n",
       "      <th>1</th>\n",
       "      <td>Gradient Boosting</td>\n",
       "      <td>0.939899</td>\n",
       "      <td>0.957692</td>\n",
       "    </tr>\n",
       "    <tr>\n",
       "      <th>3</th>\n",
       "      <td>Support Vector Machine</td>\n",
       "      <td>0.921072</td>\n",
       "      <td>0.932692</td>\n",
       "    </tr>\n",
       "    <tr>\n",
       "      <th>0</th>\n",
       "      <td>Adaptative Boosting</td>\n",
       "      <td>0.926140</td>\n",
       "      <td>0.920810</td>\n",
       "    </tr>\n",
       "  </tbody>\n",
       "</table>\n",
       "</div>"
      ],
      "text/plain": [
       "                    Model  Accuracy  Precision\n",
       "2           Random Forest  0.948588   0.965649\n",
       "1       Gradient Boosting  0.939899   0.957692\n",
       "3  Support Vector Machine  0.921072   0.932692\n",
       "0     Adaptative Boosting  0.926140   0.920810"
      ]
     },
     "execution_count": 141,
     "metadata": {},
     "output_type": "execute_result"
    }
   ],
   "source": [
    "display = pd.DataFrame({'Model' : ['Adaptative Boosting','Gradient Boosting','Random Forest','Support Vector Machine'],\n",
    "                        'Accuracy' : [accuracy_score(y_test,pred_ada),accuracy_score(y_test,pred_gb),accuracy_score(y_test,pred_rf),accuracy_score(y_test,pred_svm)],\n",
    "                       'Precision' : [precision_score(y_test,pred_ada),precision_score(y_test,pred_gb),precision_score(y_test,pred_rf),precision_score(y_test,pred_svm)]})\n",
    "columns = ['Model', 'Accuracy','Precision']   \n",
    "display.sort_values(by='Precision', ascending=False)"
   ]
  },
  {
   "cell_type": "markdown",
   "metadata": {},
   "source": [
    " We will now focus on optimizing our top 4 classifier, in order to improve our results"
   ]
  },
  {
   "cell_type": "markdown",
   "metadata": {},
   "source": [
    "#### Optimizing the random forest "
   ]
  },
  {
   "cell_type": "code",
   "execution_count": 144,
   "metadata": {
    "scrolled": true
   },
   "outputs": [],
   "source": [
    "rf = RandomForestClassifier(random_state=42)"
   ]
  },
  {
   "cell_type": "code",
   "execution_count": 145,
   "metadata": {},
   "outputs": [
    {
     "name": "stdout",
     "output_type": "stream",
     "text": [
      "{'n_estimators': [200, 400, 600, 800, 1000, 1200, 1400, 1600, 1800, 2000], 'max_features': ['auto', 'sqrt'], 'max_depth': [1, 6, 11, 16, 21, 27, 32, 37, 42, 47, 53, 58, 63, 68, 73, 79, 84, 89, 94, 100, None], 'min_samples_split': [1, 2, 5], 'min_samples_leaf': [1, 2, 4], 'bootstrap': [True, False]}\n"
     ]
    }
   ],
   "source": [
    "from sklearn.model_selection import RandomizedSearchCV\n",
    "# Number of trees in random forest\n",
    "n_estimators = [int(x) for x in np.linspace(start = 200, stop = 2000, num = 10)]\n",
    "# Number of features to consider at every split\n",
    "max_features = ['auto', 'sqrt']\n",
    "# Maximum number of levels in tree\n",
    "max_depth = [int(x) for x in np.linspace(1, 100, num = 20)]\n",
    "max_depth.append(None)\n",
    "# Minimum number of samples required to split a node\n",
    "min_samples_split = [1,2, 5]\n",
    "# Minimum number of samples required at each leaf node\n",
    "min_samples_leaf = [1, 2, 4]\n",
    "# Method of selecting samples for training each tree\n",
    "bootstrap = [True, False]\n",
    "# Create the random grid\n",
    "random_grid = {'n_estimators': n_estimators,\n",
    "               'max_features': max_features,\n",
    "               'max_depth': max_depth,\n",
    "               'min_samples_split': min_samples_split,\n",
    "               'min_samples_leaf': min_samples_leaf,\n",
    "               'bootstrap': bootstrap}\n",
    "print(random_grid)\n"
   ]
  },
  {
   "cell_type": "code",
   "execution_count": 146,
   "metadata": {
    "scrolled": false
   },
   "outputs": [
    {
     "name": "stdout",
     "output_type": "stream",
     "text": [
      "Fitting 4 folds for each of 150 candidates, totalling 600 fits\n"
     ]
    },
    {
     "name": "stderr",
     "output_type": "stream",
     "text": [
      "[Parallel(n_jobs=-1)]: Using backend LokyBackend with 8 concurrent workers.\n",
      "[Parallel(n_jobs=-1)]: Done  25 tasks      | elapsed:   41.0s\n",
      "[Parallel(n_jobs=-1)]: Done 146 tasks      | elapsed:  2.5min\n",
      "[Parallel(n_jobs=-1)]: Done 349 tasks      | elapsed:  6.2min\n",
      "[Parallel(n_jobs=-1)]: Done 600 out of 600 | elapsed: 10.6min finished\n"
     ]
    },
    {
     "data": {
      "text/plain": [
       "{'n_estimators': 800,\n",
       " 'min_samples_split': 5,\n",
       " 'min_samples_leaf': 1,\n",
       " 'max_features': 'auto',\n",
       " 'max_depth': 1,\n",
       " 'bootstrap': True}"
      ]
     },
     "execution_count": 146,
     "metadata": {},
     "output_type": "execute_result"
    }
   ],
   "source": [
    "random_forest = RandomForestClassifier(random_state=42)\n",
    "\n",
    "\n",
    "rf_random = RandomizedSearchCV(estimator = random_forest, param_distributions = random_grid,scoring='precision', n_iter = 150, cv = 4, verbose=2, random_state=42, n_jobs = -1)\n",
    "rf_random.fit(x_train, y_train)\n",
    "rf_random.best_params_"
   ]
  },
  {
   "cell_type": "markdown",
   "metadata": {},
   "source": [
    "Verifying that precision increased"
   ]
  },
  {
   "cell_type": "code",
   "execution_count": 147,
   "metadata": {},
   "outputs": [
    {
     "name": "stdout",
     "output_type": "stream",
     "text": [
      "0.9818731117824774\n"
     ]
    }
   ],
   "source": [
    "rf_b = rf_random.best_estimator_\n",
    "predictions=rf_b.predict(x_test)\n",
    "print(precision_score(y_test,predictions))"
   ]
  },
  {
   "cell_type": "code",
   "execution_count": 148,
   "metadata": {
    "scrolled": true
   },
   "outputs": [
    {
     "name": "stdout",
     "output_type": "stream",
     "text": [
      "Fitting 4 folds for each of 225 candidates, totalling 900 fits\n"
     ]
    },
    {
     "name": "stderr",
     "output_type": "stream",
     "text": [
      "[Parallel(n_jobs=-1)]: Using backend LokyBackend with 8 concurrent workers.\n",
      "[Parallel(n_jobs=-1)]: Done  25 tasks      | elapsed:   14.8s\n",
      "[Parallel(n_jobs=-1)]: Done 146 tasks      | elapsed:  1.3min\n",
      "[Parallel(n_jobs=-1)]: Done 349 tasks      | elapsed:  2.6min\n",
      "[Parallel(n_jobs=-1)]: Done 632 tasks      | elapsed:  4.5min\n",
      "[Parallel(n_jobs=-1)]: Done 900 out of 900 | elapsed:  7.2min finished\n"
     ]
    },
    {
     "data": {
      "text/plain": [
       "{'bootstrap': True,\n",
       " 'max_depth': 1,\n",
       " 'max_features': 5,\n",
       " 'min_samples_leaf': 1,\n",
       " 'min_samples_split': 4,\n",
       " 'n_estimators': 850}"
      ]
     },
     "execution_count": 148,
     "metadata": {},
     "output_type": "execute_result"
    }
   ],
   "source": [
    "from sklearn.model_selection import GridSearchCV\n",
    "# Create the parameter grid based on the results of random search \n",
    "param_grid = {\n",
    "    'bootstrap': [True],\n",
    "    'max_depth': [1,2,5],\n",
    "    'max_features': range(5,15,2),\n",
    "    'min_samples_leaf': [1],\n",
    "    'min_samples_split': [4,5,6],\n",
    "    'n_estimators': [700,750,800,850,900]\n",
    "}\n",
    "# Create a based model\n",
    "rf = RandomForestClassifier(random_state=42)\n",
    "# Instantiate the grid search model\n",
    "grid_search = GridSearchCV(estimator = rf, param_grid = param_grid,scoring='precision', \n",
    "                          cv = 4, n_jobs = -1, verbose = 2)\n",
    "grid_search.fit(x_train, y_train)\n",
    "grid_search.best_params_\n"
   ]
  },
  {
   "cell_type": "markdown",
   "metadata": {},
   "source": [
    "Verifying that precision increased"
   ]
  },
  {
   "cell_type": "code",
   "execution_count": 149,
   "metadata": {},
   "outputs": [
    {
     "name": "stdout",
     "output_type": "stream",
     "text": [
      "0.9903536977491961\n"
     ]
    }
   ],
   "source": [
    "rf_b = grid_search.best_estimator_\n",
    "predictions=rf_b.predict(x_test)\n",
    "print(precision_score(y_test,predictions))"
   ]
  },
  {
   "cell_type": "markdown",
   "metadata": {},
   "source": [
    "#### optimizing GradientBoosting"
   ]
  },
  {
   "cell_type": "code",
   "execution_count": 151,
   "metadata": {
    "scrolled": false
   },
   "outputs": [],
   "source": [
    "GB = GradientBoostingClassifier(random_state=42)"
   ]
  },
  {
   "cell_type": "markdown",
   "metadata": {},
   "source": [
    "We have pretty great results with the base parameters that are : \n",
    "* learning_rate = 0.1\n",
    "* min_samples_split = 2\n",
    "* min_samples_leaf = 1\n",
    "* max_depth = 3\n",
    "* max_features = none\n",
    "* subsample =  1 \n",
    "* n_estimators = 100        "
   ]
  },
  {
   "cell_type": "markdown",
   "metadata": {},
   "source": [
    "So we'll take those parameters as a start for our gridsearch, except for max_features"
   ]
  },
  {
   "cell_type": "code",
   "execution_count": 154,
   "metadata": {
    "scrolled": true
   },
   "outputs": [
    {
     "name": "stdout",
     "output_type": "stream",
     "text": [
      "Fitting 4 folds for each of 20 candidates, totalling 80 fits\n"
     ]
    },
    {
     "name": "stderr",
     "output_type": "stream",
     "text": [
      "[Parallel(n_jobs=-1)]: Using backend LokyBackend with 8 concurrent workers.\n",
      "[Parallel(n_jobs=-1)]: Done  25 tasks      | elapsed:    2.5s\n",
      "[Parallel(n_jobs=-1)]: Done  80 out of  80 | elapsed:    6.6s finished\n"
     ]
    },
    {
     "data": {
      "text/plain": [
       "{'learning_rate': 0.1,\n",
       " 'max_depth': 3,\n",
       " 'max_features': 'sqrt',\n",
       " 'min_samples_leaf': 1,\n",
       " 'min_samples_split': 2,\n",
       " 'n_estimators': 200,\n",
       " 'subsample': 1}"
      ]
     },
     "execution_count": 154,
     "metadata": {},
     "output_type": "execute_result"
    }
   ],
   "source": [
    "# First : tuning tree parameters :\n",
    "param_grid = {\n",
    "\n",
    "'learning_rate' : [0.1],\n",
    "  \n",
    "'min_samples_split': [2], \n",
    "    \n",
    "'min_samples_leaf' : [1],\n",
    "\n",
    "'max_depth':[3], \n",
    "\n",
    "'max_features' : ['sqrt'],  \n",
    "\n",
    "'subsample' : [1],\n",
    "    \n",
    "'n_estimators': range(200,220,1)   ##we ended up with 210 last grid_search, so we try again with more precision.\n",
    "    \n",
    "}\n",
    "\n",
    "gb_grid = GridSearchCV(estimator = GB, param_grid = param_grid, scoring = 'precision', cv = 4,n_jobs = -1, verbose = 2)\n",
    "gb_grid.fit(x_train,y_train)\n",
    "gb_grid.best_params_"
   ]
  },
  {
   "cell_type": "markdown",
   "metadata": {},
   "source": [
    "Verifying that precision increased"
   ]
  },
  {
   "cell_type": "code",
   "execution_count": 155,
   "metadata": {},
   "outputs": [
    {
     "name": "stdout",
     "output_type": "stream",
     "text": [
      "0.9639468690702088\n"
     ]
    }
   ],
   "source": [
    "pred = gb_grid.predict(x_test)\n",
    "print(precision_score(y_test,pred))"
   ]
  },
  {
   "cell_type": "code",
   "execution_count": 156,
   "metadata": {
    "scrolled": true
   },
   "outputs": [
    {
     "name": "stdout",
     "output_type": "stream",
     "text": [
      "Fitting 4 folds for each of 700 candidates, totalling 2800 fits\n"
     ]
    },
    {
     "name": "stderr",
     "output_type": "stream",
     "text": [
      "[Parallel(n_jobs=-1)]: Using backend LokyBackend with 8 concurrent workers.\n",
      "[Parallel(n_jobs=-1)]: Done  25 tasks      | elapsed:    1.2s\n",
      "[Parallel(n_jobs=-1)]: Done 146 tasks      | elapsed:    5.9s\n",
      "[Parallel(n_jobs=-1)]: Done 349 tasks      | elapsed:   16.7s\n",
      "[Parallel(n_jobs=-1)]: Done 632 tasks      | elapsed:   37.0s\n",
      "[Parallel(n_jobs=-1)]: Done 997 tasks      | elapsed:  1.2min\n",
      "[Parallel(n_jobs=-1)]: Done 1442 tasks      | elapsed:  2.1min\n",
      "[Parallel(n_jobs=-1)]: Done 1969 tasks      | elapsed:  3.5min\n",
      "[Parallel(n_jobs=-1)]: Done 2576 tasks      | elapsed:  5.3min\n",
      "[Parallel(n_jobs=-1)]: Done 2800 out of 2800 | elapsed:  6.0min finished\n"
     ]
    },
    {
     "data": {
      "text/plain": [
       "{'learning_rate': 0.1,\n",
       " 'max_depth': 11,\n",
       " 'max_features': 'sqrt',\n",
       " 'min_samples_leaf': 1,\n",
       " 'min_samples_split': 2,\n",
       " 'n_estimators': 200,\n",
       " 'subsample': 1}"
      ]
     },
     "execution_count": 156,
     "metadata": {},
     "output_type": "execute_result"
    }
   ],
   "source": [
    "param_grid = {\n",
    "\n",
    "'learning_rate' : [0.1],\n",
    "  \n",
    "'min_samples_split':range(2,1002,20), \n",
    "    \n",
    "'min_samples_leaf' : [1],\n",
    "\n",
    "'max_depth':range(1,15,1), \n",
    "\n",
    "'max_features' : ['sqrt'],  \n",
    "\n",
    "'subsample' : [1],\n",
    "    \n",
    "'n_estimators': [200]\n",
    "    \n",
    "}\n",
    "\n",
    "gb_grid = GridSearchCV(estimator = GB, param_grid = param_grid, scoring = 'precision', cv = 4,n_jobs = -1, verbose = 2)\n",
    "gb_grid.fit(x_train,y_train)\n",
    "gb_grid.best_params_\n",
    "\n"
   ]
  },
  {
   "cell_type": "markdown",
   "metadata": {},
   "source": [
    "Verifying that precision increased"
   ]
  },
  {
   "cell_type": "code",
   "execution_count": 157,
   "metadata": {
    "scrolled": true
   },
   "outputs": [
    {
     "name": "stdout",
     "output_type": "stream",
     "text": [
      "0.9660377358490566\n"
     ]
    }
   ],
   "source": [
    "pred = gb_grid.predict(x_test)\n",
    "print(precision_score(y_test,pred))\n"
   ]
  },
  {
   "cell_type": "markdown",
   "metadata": {},
   "source": [
    "So we have now the following fixed parameters :\n",
    "\n",
    "* Learning rate of 0.1\n",
    "* min_samples_split of 2\n",
    "* max_depth of 11\n",
    "* n_estimators of 200\n",
    "            \n",
    "now lets tune the other parameters"
   ]
  },
  {
   "cell_type": "code",
   "execution_count": 158,
   "metadata": {
    "scrolled": true
   },
   "outputs": [
    {
     "name": "stdout",
     "output_type": "stream",
     "text": [
      "Fitting 4 folds for each of 90 candidates, totalling 360 fits\n"
     ]
    },
    {
     "name": "stderr",
     "output_type": "stream",
     "text": [
      "[Parallel(n_jobs=-1)]: Using backend LokyBackend with 8 concurrent workers.\n",
      "[Parallel(n_jobs=-1)]: Done  25 tasks      | elapsed:    9.8s\n",
      "[Parallel(n_jobs=-1)]: Done 146 tasks      | elapsed:   35.2s\n",
      "[Parallel(n_jobs=-1)]: Done 360 out of 360 | elapsed:  1.2min finished\n"
     ]
    },
    {
     "data": {
      "text/plain": [
       "{'learning_rate': 0.1,\n",
       " 'max_depth': 11,\n",
       " 'max_features': 'sqrt',\n",
       " 'min_samples_leaf': 1,\n",
       " 'min_samples_split': 2,\n",
       " 'n_estimators': 200,\n",
       " 'subsample': 1}"
      ]
     },
     "execution_count": 158,
     "metadata": {},
     "output_type": "execute_result"
    }
   ],
   "source": [
    "param_grid = {\n",
    "\n",
    "'learning_rate' : [0.1],\n",
    "  \n",
    "'min_samples_split':[2], \n",
    "    \n",
    "'min_samples_leaf' : range(1,91,1),\n",
    "\n",
    "'max_depth':[11], \n",
    "\n",
    "'max_features' : ['sqrt'],  \n",
    "\n",
    "'subsample' : [1],\n",
    "    \n",
    "'n_estimators': [200]\n",
    "    \n",
    "}\n",
    "gb_grid = GridSearchCV(estimator = GB, param_grid = param_grid, scoring = 'precision', cv = 4,n_jobs = -1, verbose = 2)\n",
    "gb_grid.fit(x_train,y_train)\n",
    "gb_grid.best_params_\n",
    "\n"
   ]
  },
  {
   "cell_type": "markdown",
   "metadata": {},
   "source": [
    "No change there, we keep min_samples_leaf to 1"
   ]
  },
  {
   "cell_type": "code",
   "execution_count": 160,
   "metadata": {
    "scrolled": true
   },
   "outputs": [
    {
     "name": "stdout",
     "output_type": "stream",
     "text": [
      "Fitting 4 folds for each of 19 candidates, totalling 76 fits\n"
     ]
    },
    {
     "name": "stderr",
     "output_type": "stream",
     "text": [
      "[Parallel(n_jobs=-1)]: Using backend LokyBackend with 8 concurrent workers.\n",
      "[Parallel(n_jobs=-1)]: Done  25 tasks      | elapsed:   14.2s\n",
      "[Parallel(n_jobs=-1)]: Done  76 out of  76 | elapsed:   43.3s finished\n"
     ]
    },
    {
     "data": {
      "text/plain": [
       "{'learning_rate': 0.1,\n",
       " 'max_depth': 11,\n",
       " 'max_features': 7,\n",
       " 'min_samples_leaf': 1,\n",
       " 'min_samples_split': 2,\n",
       " 'n_estimators': 200,\n",
       " 'subsample': 1}"
      ]
     },
     "execution_count": 160,
     "metadata": {},
     "output_type": "execute_result"
    }
   ],
   "source": [
    "# Let's tube max_features\n",
    "\n",
    "param_grid = {\n",
    "\n",
    "'learning_rate' : [0.1],\n",
    "  \n",
    "'min_samples_split':[2], \n",
    "    \n",
    "'min_samples_leaf' : [1],\n",
    "\n",
    "'max_depth':[11], \n",
    "\n",
    "'max_features' : range(1,20,1),  \n",
    "\n",
    "'subsample' : [1],\n",
    "    \n",
    "'n_estimators': [200]\n",
    "    \n",
    "}  \n",
    "\n",
    "gb_grid = GridSearchCV(estimator = GB, param_grid = param_grid, scoring = 'precision', cv = 4,n_jobs = -1, verbose = 2)\n",
    "gb_grid.fit(x_train,y_train)\n",
    "gb_grid.best_params_"
   ]
  },
  {
   "cell_type": "markdown",
   "metadata": {},
   "source": [
    "Verifying that precision increased"
   ]
  },
  {
   "cell_type": "code",
   "execution_count": 161,
   "metadata": {
    "scrolled": true
   },
   "outputs": [
    {
     "name": "stdout",
     "output_type": "stream",
     "text": [
      "0.9660377358490566\n"
     ]
    }
   ],
   "source": [
    "pred = gb_grid.predict(x_test)\n",
    "print(precision_score(y_test,pred))"
   ]
  },
  {
   "cell_type": "markdown",
   "metadata": {},
   "source": [
    "It did not change anything"
   ]
  },
  {
   "cell_type": "code",
   "execution_count": 162,
   "metadata": {
    "scrolled": false
   },
   "outputs": [
    {
     "name": "stdout",
     "output_type": "stream",
     "text": [
      "Fitting 4 folds for each of 8 candidates, totalling 32 fits\n"
     ]
    },
    {
     "name": "stderr",
     "output_type": "stream",
     "text": [
      "[Parallel(n_jobs=-1)]: Using backend LokyBackend with 8 concurrent workers.\n",
      "[Parallel(n_jobs=-1)]: Done  32 out of  32 | elapsed:   14.9s finished\n"
     ]
    },
    {
     "data": {
      "text/plain": [
       "{'learning_rate': 0.1,\n",
       " 'max_depth': 11,\n",
       " 'max_features': 7,\n",
       " 'min_samples_leaf': 1,\n",
       " 'min_samples_split': 2,\n",
       " 'n_estimators': 200,\n",
       " 'subsample': 1}"
      ]
     },
     "execution_count": 162,
     "metadata": {},
     "output_type": "execute_result"
    }
   ],
   "source": [
    "param_grid = {\n",
    "\n",
    "'learning_rate' : [0.1],\n",
    "  \n",
    "'min_samples_split':[2], \n",
    "    \n",
    "'min_samples_leaf' : [1],\n",
    "\n",
    "'max_depth':[11], \n",
    "\n",
    "'max_features' : [7],  \n",
    "\n",
    "'subsample' : [0.6,0.7,0.75,0.8,0.85,0.9,0.95,1],\n",
    "'n_estimators': [200]\n",
    "    \n",
    "}  \n",
    "\n",
    "gb_grid = GridSearchCV(estimator = GB, param_grid = param_grid, scoring = 'precision', cv = 4,n_jobs = -1, verbose = 2)\n",
    "gb_grid.fit(x_train,y_train)\n",
    "gb_grid.best_params_"
   ]
  },
  {
   "cell_type": "markdown",
   "metadata": {},
   "source": [
    "Once again, no change, we have our optimized parameters, let's try to lower the learning rate"
   ]
  },
  {
   "cell_type": "code",
   "execution_count": 163,
   "metadata": {
    "scrolled": false
   },
   "outputs": [
    {
     "name": "stdout",
     "output_type": "stream",
     "text": [
      "Fitting 4 folds for each of 57 candidates, totalling 228 fits\n"
     ]
    },
    {
     "name": "stderr",
     "output_type": "stream",
     "text": [
      "[Parallel(n_jobs=-1)]: Using backend LokyBackend with 8 concurrent workers.\n",
      "[Parallel(n_jobs=-1)]: Done  16 tasks      | elapsed:   15.2s\n",
      "[Parallel(n_jobs=-1)]: Done 112 tasks      | elapsed:  4.4min\n",
      "[Parallel(n_jobs=-1)]: Done 228 out of 228 | elapsed:  9.9min finished\n"
     ]
    },
    {
     "data": {
      "text/plain": [
       "{'learning_rate': 0.1,\n",
       " 'max_depth': 11,\n",
       " 'max_features': 7,\n",
       " 'min_samples_leaf': 1,\n",
       " 'min_samples_split': 2,\n",
       " 'n_estimators': 1900,\n",
       " 'subsample': 1}"
      ]
     },
     "execution_count": 163,
     "metadata": {},
     "output_type": "execute_result"
    }
   ],
   "source": [
    "param_grid = {\n",
    "\n",
    "'learning_rate' : [0.01,0.05,0.1],\n",
    "  \n",
    "'min_samples_split':[2], \n",
    "    \n",
    "'min_samples_leaf' : [1],\n",
    "\n",
    "'max_depth':[11], \n",
    "\n",
    "'max_features' : [7],  \n",
    "\n",
    "'subsample' : [1],\n",
    "'n_estimators': range(100,2000,100),\n",
    "    \n",
    "}  \n",
    "\n",
    "gb_grid = GridSearchCV(estimator = GB, param_grid = param_grid, scoring = 'precision', cv = 4,n_jobs = -1, verbose = 3)\n",
    "gb_grid.fit(x_train,y_train)\n",
    "gb_grid.best_params_\n"
   ]
  },
  {
   "cell_type": "markdown",
   "metadata": {},
   "source": [
    "Verifying that precision increased"
   ]
  },
  {
   "cell_type": "code",
   "execution_count": 164,
   "metadata": {},
   "outputs": [
    {
     "name": "stdout",
     "output_type": "stream",
     "text": [
      "0.9781312127236581\n"
     ]
    }
   ],
   "source": [
    "gb_b = gb_grid.best_estimator_\n",
    "pred = gb_grid.predict(x_test)\n",
    "print(precision_score(y_test,pred))"
   ]
  },
  {
   "cell_type": "markdown",
   "metadata": {},
   "source": [
    "#### Tuning SVM"
   ]
  },
  {
   "cell_type": "code",
   "execution_count": 168,
   "metadata": {},
   "outputs": [],
   "source": [
    "svm = SVC(probability = True,random_state=42)\n"
   ]
  },
  {
   "cell_type": "code",
   "execution_count": 169,
   "metadata": {
    "scrolled": true
   },
   "outputs": [
    {
     "name": "stdout",
     "output_type": "stream",
     "text": [
      "Fitting 4 folds for each of 400 candidates, totalling 1600 fits\n"
     ]
    },
    {
     "name": "stderr",
     "output_type": "stream",
     "text": [
      "[Parallel(n_jobs=-1)]: Using backend LokyBackend with 8 concurrent workers.\n",
      "[Parallel(n_jobs=-1)]: Done  25 tasks      | elapsed:   15.2s\n",
      "[Parallel(n_jobs=-1)]: Done 146 tasks      | elapsed:  1.3min\n",
      "[Parallel(n_jobs=-1)]: Done 349 tasks      | elapsed:  2.5min\n",
      "[Parallel(n_jobs=-1)]: Done 632 tasks      | elapsed:  4.5min\n",
      "[Parallel(n_jobs=-1)]: Done 997 tasks      | elapsed:  7.4min\n",
      "[Parallel(n_jobs=-1)]: Done 1442 tasks      | elapsed: 12.2min\n",
      "[Parallel(n_jobs=-1)]: Done 1600 out of 1600 | elapsed: 15.0min finished\n"
     ]
    },
    {
     "data": {
      "text/plain": [
       "{'C': 1, 'gamma': 91, 'kernel': 'rbf'}"
      ]
     },
     "execution_count": 169,
     "metadata": {},
     "output_type": "execute_result"
    }
   ],
   "source": [
    "from sklearn.model_selection import GridSearchCV\n",
    "param_grid = {\n",
    "\n",
    "'C' : range(1,101,10),\n",
    "  \n",
    "'gamma':range(1,101,10), \n",
    "    \n",
    "'kernel' : ['linear', 'poly', 'rbf', 'sigmoid'],\n",
    "    \n",
    "}\n",
    "svm_grid = GridSearchCV(estimator = svm, param_grid = param_grid, scoring = 'precision', cv = 4,n_jobs = -1, verbose = 2)\n",
    "svm_grid.fit(x_train,y_train)\n",
    "svm_grid.best_params_"
   ]
  },
  {
   "cell_type": "markdown",
   "metadata": {},
   "source": [
    "Verifying that precision increased"
   ]
  },
  {
   "cell_type": "code",
   "execution_count": 185,
   "metadata": {
    "scrolled": true
   },
   "outputs": [
    {
     "name": "stdout",
     "output_type": "stream",
     "text": [
      "0.9719101123595506\n"
     ]
    }
   ],
   "source": [
    "svm_b = svm_grid.best_estimator_\n",
    "predictions = svm_b.predict(x_test)\n",
    "print(precision_score(y_test,predictions))"
   ]
  },
  {
   "cell_type": "code",
   "execution_count": 174,
   "metadata": {
    "scrolled": false
   },
   "outputs": [
    {
     "name": "stdout",
     "output_type": "stream",
     "text": [
      "Fitting 4 folds for each of 20 candidates, totalling 80 fits\n"
     ]
    },
    {
     "name": "stderr",
     "output_type": "stream",
     "text": [
      "[Parallel(n_jobs=-1)]: Using backend LokyBackend with 8 concurrent workers.\n",
      "[Parallel(n_jobs=-1)]: Done  25 tasks      | elapsed:   22.6s\n",
      "[Parallel(n_jobs=-1)]: Done  80 out of  80 | elapsed:  1.1min finished\n"
     ]
    },
    {
     "data": {
      "text/plain": [
       "{'C': 1, 'gamma': 96, 'kernel': 'rbf'}"
      ]
     },
     "execution_count": 174,
     "metadata": {},
     "output_type": "execute_result"
    }
   ],
   "source": [
    "param_grid = {\n",
    "\n",
    "'C' : [1],\n",
    "  \n",
    "'gamma':range(80,100,1), \n",
    "    \n",
    "'kernel' : ['rbf'],\n",
    "    \n",
    "}\n",
    "svm_grid_2 = GridSearchCV(estimator = svm, param_grid = param_grid, scoring = 'precision', cv = 4,n_jobs = -1, verbose = 2)\n",
    "svm_grid_2.fit(x_train,y_train)\n",
    "svm_grid_2.best_params_"
   ]
  },
  {
   "cell_type": "markdown",
   "metadata": {},
   "source": [
    "Verifying that precision increased"
   ]
  },
  {
   "cell_type": "code",
   "execution_count": 178,
   "metadata": {
    "scrolled": true
   },
   "outputs": [
    {
     "name": "stdout",
     "output_type": "stream",
     "text": [
      "0.9715099715099715\n"
     ]
    }
   ],
   "source": [
    "svm_b_1 = svm_grid_2.best_estimator_\n",
    "predictions = svm_b_1.predict(x_test)\n",
    "print(precision_score(y_test,predictions))"
   ]
  },
  {
   "cell_type": "markdown",
   "metadata": {},
   "source": [
    "Gamma too high, a bit of overfitting, we'll keep gamma = 91"
   ]
  },
  {
   "cell_type": "markdown",
   "metadata": {},
   "source": [
    "#### Now let's tune AdaBoost"
   ]
  },
  {
   "cell_type": "code",
   "execution_count": 180,
   "metadata": {},
   "outputs": [],
   "source": [
    "ada = AdaBoostClassifier(random_state=42)"
   ]
  },
  {
   "cell_type": "code",
   "execution_count": 181,
   "metadata": {},
   "outputs": [
    {
     "name": "stdout",
     "output_type": "stream",
     "text": [
      "Fitting 4 folds for each of 150 candidates, totalling 600 fits\n"
     ]
    },
    {
     "name": "stderr",
     "output_type": "stream",
     "text": [
      "[Parallel(n_jobs=-1)]: Using backend LokyBackend with 8 concurrent workers.\n",
      "[Parallel(n_jobs=-1)]: Done  34 tasks      | elapsed:    0.5s\n",
      "[Parallel(n_jobs=-1)]: Done 276 tasks      | elapsed:    3.3s\n",
      "[Parallel(n_jobs=-1)]: Done 517 tasks      | elapsed:   27.2s\n",
      "[Parallel(n_jobs=-1)]: Done 600 out of 600 | elapsed:   35.3s finished\n"
     ]
    },
    {
     "data": {
      "text/plain": [
       "{'base_estimator': RandomForestClassifier(random_state=42),\n",
       " 'learning_rate': 0.1,\n",
       " 'n_estimators': 1}"
      ]
     },
     "execution_count": 181,
     "metadata": {},
     "output_type": "execute_result"
    }
   ],
   "source": [
    "\n",
    "param_grid = {\n",
    "'base_estimator' : [DecisionTreeClassifier(random_state = 42),RandomForestClassifier(random_state=42)],\n",
    "    \n",
    "'learning_rate' : [0.1,0.5,1],\n",
    "'n_estimators': range(1,501,20)\n",
    "}\n",
    "    \n",
    "ada_grid = GridSearchCV(estimator = ada, param_grid = param_grid, scoring = 'precision', cv = 4,n_jobs = -1, verbose = 2)\n",
    "ada_grid.fit(x_train,y_train)\n",
    "ada_grid.best_params_"
   ]
  },
  {
   "cell_type": "code",
   "execution_count": 182,
   "metadata": {
    "scrolled": true
   },
   "outputs": [
    {
     "name": "stdout",
     "output_type": "stream",
     "text": [
      "0.9621212121212122\n"
     ]
    }
   ],
   "source": [
    "ada_b= ada_grid.best_estimator_\n",
    "predictions = ada_b.predict(x_test)\n",
    "print(precision_score(y_test,predictions))"
   ]
  },
  {
   "cell_type": "code",
   "execution_count": 194,
   "metadata": {
    "scrolled": true
   },
   "outputs": [
    {
     "data": {
      "text/plain": [
       "Text(0.5, 1.0, 'Adaptative Boosting')"
      ]
     },
     "execution_count": 194,
     "metadata": {},
     "output_type": "execute_result"
    },
    {
     "data": {
      "image/png": "[encoded data removed]",
      "text/plain": [
       "<Figure size 432x288 with 8 Axes>"
      ]
     },
     "metadata": {
      "needs_background": "light"
     },
     "output_type": "display_data"
    }
   ],
   "source": [
    "pred_rf_b = rf_b.predict(x_test)\n",
    "pred_gb_b = gb_b.predict(x_test)\n",
    "pred_svm_b = svm_b.predict(x_test)\n",
    "pred_ada_b = ada_b.predict(x_test)\n",
    "\n",
    "\n",
    "fig,axs = plt.subplots(2, 2)\n",
    "fig.suptitle('Confusion Matrix of tuned Classifier')\n",
    "\n",
    "\n",
    "\n",
    "\n",
    "plot_confusion_matrix(rf_b,x_test,y_test,ax=axs[0,0])\n",
    "axs[0, 0].set_title('Random Forest')\n",
    "plot_confusion_matrix(gb_b,x_test,y_test,ax=axs[0,1])\n",
    "axs[0, 1].set_title('Gradient Boosting')\n",
    "plot_confusion_matrix(svm_b,x_test,y_test,ax=axs[1,0])\n",
    "axs[1, 0].set_title('Support Vector Machine')\n",
    "plot_confusion_matrix(ada_b,x_test,y_test,ax=axs[1,1])\n",
    "axs[1, 1].set_title('Adaptative Boosting')\n"
   ]
  },
  {
   "cell_type": "code",
   "execution_count": 187,
   "metadata": {
    "scrolled": true
   },
   "outputs": [
    {
     "data": {
      "text/html": [
       "<div>\n",
       "<style scoped>\n",
       "    .dataframe tbody tr th:only-of-type {\n",
       "        vertical-align: middle;\n",
       "    }\n",
       "\n",
       "    .dataframe tbody tr th {\n",
       "        vertical-align: top;\n",
       "    }\n",
       "\n",
       "    .dataframe thead th {\n",
       "        text-align: right;\n",
       "    }\n",
       "</style>\n",
       "<table border=\"1\" class=\"dataframe\">\n",
       "  <thead>\n",
       "    <tr style=\"text-align: right;\">\n",
       "      <th></th>\n",
       "      <th>Model</th>\n",
       "      <th>Accuracy</th>\n",
       "      <th>Precision</th>\n",
       "    </tr>\n",
       "  </thead>\n",
       "  <tbody>\n",
       "    <tr>\n",
       "      <th>2</th>\n",
       "      <td>Random Forest</td>\n",
       "      <td>0.816075</td>\n",
       "      <td>0.990354</td>\n",
       "    </tr>\n",
       "    <tr>\n",
       "      <th>1</th>\n",
       "      <td>Gradient Boosting</td>\n",
       "      <td>0.943519</td>\n",
       "      <td>0.978131</td>\n",
       "    </tr>\n",
       "    <tr>\n",
       "      <th>3</th>\n",
       "      <td>Support Vector Machine</td>\n",
       "      <td>0.838523</td>\n",
       "      <td>0.971910</td>\n",
       "    </tr>\n",
       "    <tr>\n",
       "      <th>0</th>\n",
       "      <td>Adaptative Boosting</td>\n",
       "      <td>0.948588</td>\n",
       "      <td>0.962121</td>\n",
       "    </tr>\n",
       "  </tbody>\n",
       "</table>\n",
       "</div>"
      ],
      "text/plain": [
       "                    Model  Accuracy  Precision\n",
       "2           Random Forest  0.816075   0.990354\n",
       "1       Gradient Boosting  0.943519   0.978131\n",
       "3  Support Vector Machine  0.838523   0.971910\n",
       "0     Adaptative Boosting  0.948588   0.962121"
      ]
     },
     "execution_count": 187,
     "metadata": {},
     "output_type": "execute_result"
    }
   ],
   "source": [
    "display = pd.DataFrame({'Model' : ['Adaptative Boosting','Gradient Boosting','Random Forest','Support Vector Machine'],\n",
    "                        'Accuracy' : [accuracy_score(y_test,pred_ada_b),accuracy_score(y_test,pred_gb_b),accuracy_score(y_test,pred_rf_b),accuracy_score(y_test,pred_svm_b)],\n",
    "                       'Precision' : [precision_score(y_test,pred_ada_b),precision_score(y_test,pred_gb_b),precision_score(y_test,pred_rf_b),precision_score(y_test,pred_svm_b)]})\n",
    "columns = ['Model', 'Accuracy','Precision']   \n",
    "display.sort_values(by='Precision', ascending=False)"
   ]
  },
  {
   "cell_type": "code",
   "execution_count": 196,
   "metadata": {},
   "outputs": [],
   "source": [
    "best_precision_model = rf_b\n",
    "best_overall_model= gb_b"
   ]
  },
  {
   "cell_type": "markdown",
   "metadata": {},
   "source": [
    "#### Exporting Model"
   ]
  },
  {
   "cell_type": "code",
   "execution_count": 197,
   "metadata": {},
   "outputs": [],
   "source": [
    "import pickle\n",
    "filename = \"finalized_model.pickle\"\n",
    "with open(filename, 'wb') as file:\n",
    "    pickle.dump(best_precision_model, file)\n"
   ]
  }
 ],
 "metadata": {
  "kernelspec": {
   "display_name": "Python 3",
   "language": "python",
   "name": "python3"
  },
  "language_info": {
   "codemirror_mode": {
    "name": "ipython",
    "version": 3
   },
   "file_extension": ".py",
   "mimetype": "text/x-python",
   "name": "python",
   "nbconvert_exporter": "python",
   "pygments_lexer": "ipython3",
   "version": "3.8.3"
  }
 },
 "nbformat": 4,
 "nbformat_minor": 4
}
